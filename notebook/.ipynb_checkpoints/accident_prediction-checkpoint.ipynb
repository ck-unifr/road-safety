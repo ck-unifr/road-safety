{
 "cells": [
  {
   "cell_type": "markdown",
   "metadata": {},
   "source": [
    "<font size=\"5\">**Police Officer Attdence Prediction**</font>\n",
    "\n",
    "\n",
    "\n",
    "Author: Kai Chen\n",
    "\n",
    "Date: April, 2020\n",
    "\n",
    "\n",
    "\n",
    "<font size=\"4\">**Introduction**</font>\n",
    "\n",
    "This notebook contains my solution of analyzing the road accident safety data found at https://data.gov.uk/dataset/road-accidents-safety- .\n",
    "\n",
    "- This analysis includes a model that predicts if a police officer is likely to attend an accident or not.\n",
    "\n",
    "- The analysis focuses initially only on the accidents from the 2017 dataset.\n",
    "\n",
    "- The notebook summarizes my initial findings. \n",
    "\n",
    "- This is not an exercise that develops a final solution – more of first iteration.\n",
    "\n",
    "- The notebook describes how I might design and implement for a long term approach a data infrastructure for processing all additional data (large amount including all available years) given the desired use case above. \n"
   ]
  },
  {
   "cell_type": "markdown",
   "metadata": {
    "toc": true
   },
   "source": [
    "<h1>Table of Contents<span class=\"tocSkip\"></span></h1>\n",
    "<div class=\"toc\"><ul class=\"toc-item\"><li><span><a href=\"#Getting-the-data\" data-toc-modified-id=\"Getting-the-data-1\"><span class=\"toc-item-num\">1&nbsp;&nbsp;</span>Getting the data</a></span></li><li><span><a href=\"#Preprocessing-the-data\" data-toc-modified-id=\"Preprocessing-the-data-2\"><span class=\"toc-item-num\">2&nbsp;&nbsp;</span>Preprocessing the data</a></span><ul class=\"toc-item\"><li><span><a href=\"#Converting-column-'Date'-into-the-python-date-time-format\" data-toc-modified-id=\"Converting-column-'Date'-into-the-python-date-time-format-2.1\"><span class=\"toc-item-num\">2.1&nbsp;&nbsp;</span>Converting column 'Date' into the python date time format</a></span></li><li><span><a href=\"#Handling-missing-values\" data-toc-modified-id=\"Handling-missing-values-2.2\"><span class=\"toc-item-num\">2.2&nbsp;&nbsp;</span>Handling missing values</a></span></li></ul></li><li><span><a href=\"#Exploratory-Data-Analysis-(EDA)\" data-toc-modified-id=\"Exploratory-Data-Analysis-(EDA)-3\"><span class=\"toc-item-num\">3&nbsp;&nbsp;</span>Exploratory Data Analysis (EDA)</a></span><ul class=\"toc-item\"><li><span><a href=\"#Plot-number-of-accidents-per-month\" data-toc-modified-id=\"Plot-number-of-accidents-per-month-3.1\"><span class=\"toc-item-num\">3.1&nbsp;&nbsp;</span>Plot number of accidents per month</a></span></li><li><span><a href=\"#Show-number-of-accidents-in-each-week-day\" data-toc-modified-id=\"Show-number-of-accidents-in-each-week-day-3.2\"><span class=\"toc-item-num\">3.2&nbsp;&nbsp;</span>Show number of accidents in each week day</a></span><ul class=\"toc-item\"><li><span><a href=\"#Plot-number-of-accidents-in-the-weekdays-of-each-month\" data-toc-modified-id=\"Plot-number-of-accidents-in-the-weekdays-of-each-month-3.2.1\"><span class=\"toc-item-num\">3.2.1&nbsp;&nbsp;</span>Plot number of accidents in the weekdays of each month</a></span></li></ul></li><li><span><a href=\"#How-weather-affects-the-number-of-accidents?\" data-toc-modified-id=\"How-weather-affects-the-number-of-accidents?-3.3\"><span class=\"toc-item-num\">3.3&nbsp;&nbsp;</span>How weather affects the number of accidents?</a></span></li><li><span><a href=\"#Percentage-of-each-category-of-accident-severity\" data-toc-modified-id=\"Percentage-of-each-category-of-accident-severity-3.4\"><span class=\"toc-item-num\">3.4&nbsp;&nbsp;</span>Percentage of each category of accident severity</a></span><ul class=\"toc-item\"><li><span><a href=\"#Number-of-fatalities-over-the-months?\" data-toc-modified-id=\"Number-of-fatalities-over-the-months?-3.4.1\"><span class=\"toc-item-num\">3.4.1&nbsp;&nbsp;</span>Number of fatalities over the months?</a></span></li></ul></li><li><span><a href=\"#Number-of-accidents-throughout-the-day\" data-toc-modified-id=\"Number-of-accidents-throughout-the-day-3.5\"><span class=\"toc-item-num\">3.5&nbsp;&nbsp;</span>Number of accidents throughout the day</a></span><ul class=\"toc-item\"><li><span><a href=\"#Number-of-accidents-through-the-time\" data-toc-modified-id=\"Number-of-accidents-through-the-time-3.5.1\"><span class=\"toc-item-num\">3.5.1&nbsp;&nbsp;</span>Number of accidents through the time</a></span></li></ul></li><li><span><a href=\"#Statistics-of-Vehicles\" data-toc-modified-id=\"Statistics-of-Vehicles-3.6\"><span class=\"toc-item-num\">3.6&nbsp;&nbsp;</span>Statistics of Vehicles</a></span><ul class=\"toc-item\"><li><span><a href=\"#Sex-and-Age-Band\" data-toc-modified-id=\"Sex-and-Age-Band-3.6.1\"><span class=\"toc-item-num\">3.6.1&nbsp;&nbsp;</span>Sex and Age Band</a></span></li><li><span><a href=\"#Manoeuvre\" data-toc-modified-id=\"Manoeuvre-3.6.2\"><span class=\"toc-item-num\">3.6.2&nbsp;&nbsp;</span>Manoeuvre</a></span></li></ul></li></ul></li><li><span><a href=\"#Predicting-Police-Officer-Attendance\" data-toc-modified-id=\"Predicting-Police-Officer-Attendance-4\"><span class=\"toc-item-num\">4&nbsp;&nbsp;</span>Predicting Police Officer Attendance</a></span></li></ul></div>"
   ]
  },
  {
   "cell_type": "code",
   "execution_count": 26,
   "metadata": {
    "ExecuteTime": {
     "end_time": "2020-04-24T18:44:55.963206Z",
     "start_time": "2020-04-24T18:44:54.661920Z"
    }
   },
   "outputs": [],
   "source": [
    "import pandas as pd\n",
    "import numpy as np\n",
    "\n",
    "import glob\n",
    "\n",
    "import matplotlib.pyplot as plt\n",
    "import seaborn as sns\n",
    "\n",
    "import shap\n",
    "\n",
    "\n",
    "from sklearn.ensemble import RandomForestClassifier\n",
    "from sklearn.metrics import classification_report, confusion_matrix\n",
    "from sklearn.model_selection import KFold, cross_val_score\n",
    "from sklearn.model_selection import train_test_split\n",
    "from sklearn import preprocessing\n",
    "\n",
    "import lightgbm as lgbm\n",
    "\n",
    "from imblearn.over_sampling import SMOTE\n",
    "\n",
    "import warnings\n",
    "warnings.filterwarnings(\"ignore\")\n"
   ]
  },
  {
   "cell_type": "markdown",
   "metadata": {},
   "source": [
    "# Getting the data"
   ]
  },
  {
   "cell_type": "code",
   "execution_count": 27,
   "metadata": {
    "ExecuteTime": {
     "end_time": "2020-04-24T16:54:53.876519Z",
     "start_time": "2020-04-24T16:54:53.874116Z"
    }
   },
   "outputs": [],
   "source": [
    "data_folder = 'data'\n",
    "file_cas = '../{}/Cas.csv'.format(data_folder)\n",
    "file_acc = '../{}/Acc.csv'.format(data_folder)\n",
    "file_veh = '../{}/Veh.csv'.format(data_folder)\n"
   ]
  },
  {
   "cell_type": "code",
   "execution_count": 28,
   "metadata": {
    "ExecuteTime": {
     "end_time": "2020-04-24T16:54:54.903242Z",
     "start_time": "2020-04-24T16:54:53.878051Z"
    }
   },
   "outputs": [],
   "source": [
    "df_acc = pd.read_csv(file_acc)\n",
    "df_cas = pd.read_csv(file_cas)\n",
    "df_veh = pd.read_csv(file_veh)\n"
   ]
  },
  {
   "cell_type": "code",
   "execution_count": 29,
   "metadata": {
    "ExecuteTime": {
     "end_time": "2020-04-24T16:54:54.923056Z",
     "start_time": "2020-04-24T16:54:54.905070Z"
    }
   },
   "outputs": [
    {
     "data": {
      "text/html": [
       "<div>\n",
       "<style scoped>\n",
       "    .dataframe tbody tr th:only-of-type {\n",
       "        vertical-align: middle;\n",
       "    }\n",
       "\n",
       "    .dataframe tbody tr th {\n",
       "        vertical-align: top;\n",
       "    }\n",
       "\n",
       "    .dataframe thead th {\n",
       "        text-align: right;\n",
       "    }\n",
       "</style>\n",
       "<table border=\"1\" class=\"dataframe\">\n",
       "  <thead>\n",
       "    <tr style=\"text-align: right;\">\n",
       "      <th></th>\n",
       "      <th>Accident_Index</th>\n",
       "      <th>Location_Easting_OSGR</th>\n",
       "      <th>Location_Northing_OSGR</th>\n",
       "      <th>Longitude</th>\n",
       "      <th>Latitude</th>\n",
       "      <th>Police_Force</th>\n",
       "      <th>Accident_Severity</th>\n",
       "      <th>Number_of_Vehicles</th>\n",
       "      <th>Number_of_Casualties</th>\n",
       "      <th>Date</th>\n",
       "      <th>...</th>\n",
       "      <th>Pedestrian_Crossing-Human_Control</th>\n",
       "      <th>Pedestrian_Crossing-Physical_Facilities</th>\n",
       "      <th>Light_Conditions</th>\n",
       "      <th>Weather_Conditions</th>\n",
       "      <th>Road_Surface_Conditions</th>\n",
       "      <th>Special_Conditions_at_Site</th>\n",
       "      <th>Carriageway_Hazards</th>\n",
       "      <th>Urban_or_Rural_Area</th>\n",
       "      <th>Did_Police_Officer_Attend_Scene_of_Accident</th>\n",
       "      <th>LSOA_of_Accident_Location</th>\n",
       "    </tr>\n",
       "  </thead>\n",
       "  <tbody>\n",
       "    <tr>\n",
       "      <th>0</th>\n",
       "      <td>2017010001708</td>\n",
       "      <td>532920.0</td>\n",
       "      <td>196330.0</td>\n",
       "      <td>-0.080107</td>\n",
       "      <td>51.650061</td>\n",
       "      <td>1</td>\n",
       "      <td>1</td>\n",
       "      <td>2</td>\n",
       "      <td>3</td>\n",
       "      <td>05/08/2017</td>\n",
       "      <td>...</td>\n",
       "      <td>0</td>\n",
       "      <td>0</td>\n",
       "      <td>4</td>\n",
       "      <td>1</td>\n",
       "      <td>1</td>\n",
       "      <td>0</td>\n",
       "      <td>0</td>\n",
       "      <td>1</td>\n",
       "      <td>1</td>\n",
       "      <td>E01001450</td>\n",
       "    </tr>\n",
       "    <tr>\n",
       "      <th>1</th>\n",
       "      <td>2017010009342</td>\n",
       "      <td>526790.0</td>\n",
       "      <td>181970.0</td>\n",
       "      <td>-0.173845</td>\n",
       "      <td>51.522425</td>\n",
       "      <td>1</td>\n",
       "      <td>3</td>\n",
       "      <td>2</td>\n",
       "      <td>1</td>\n",
       "      <td>01/01/2017</td>\n",
       "      <td>...</td>\n",
       "      <td>0</td>\n",
       "      <td>0</td>\n",
       "      <td>4</td>\n",
       "      <td>1</td>\n",
       "      <td>2</td>\n",
       "      <td>0</td>\n",
       "      <td>0</td>\n",
       "      <td>1</td>\n",
       "      <td>1</td>\n",
       "      <td>E01004702</td>\n",
       "    </tr>\n",
       "    <tr>\n",
       "      <th>2</th>\n",
       "      <td>2017010009344</td>\n",
       "      <td>535200.0</td>\n",
       "      <td>181260.0</td>\n",
       "      <td>-0.052969</td>\n",
       "      <td>51.514096</td>\n",
       "      <td>1</td>\n",
       "      <td>3</td>\n",
       "      <td>3</td>\n",
       "      <td>1</td>\n",
       "      <td>01/01/2017</td>\n",
       "      <td>...</td>\n",
       "      <td>0</td>\n",
       "      <td>0</td>\n",
       "      <td>4</td>\n",
       "      <td>1</td>\n",
       "      <td>1</td>\n",
       "      <td>0</td>\n",
       "      <td>0</td>\n",
       "      <td>1</td>\n",
       "      <td>1</td>\n",
       "      <td>E01004298</td>\n",
       "    </tr>\n",
       "    <tr>\n",
       "      <th>3</th>\n",
       "      <td>2017010009348</td>\n",
       "      <td>534340.0</td>\n",
       "      <td>193560.0</td>\n",
       "      <td>-0.060658</td>\n",
       "      <td>51.624832</td>\n",
       "      <td>1</td>\n",
       "      <td>3</td>\n",
       "      <td>2</td>\n",
       "      <td>1</td>\n",
       "      <td>01/01/2017</td>\n",
       "      <td>...</td>\n",
       "      <td>0</td>\n",
       "      <td>4</td>\n",
       "      <td>4</td>\n",
       "      <td>2</td>\n",
       "      <td>2</td>\n",
       "      <td>0</td>\n",
       "      <td>0</td>\n",
       "      <td>1</td>\n",
       "      <td>1</td>\n",
       "      <td>E01001429</td>\n",
       "    </tr>\n",
       "    <tr>\n",
       "      <th>4</th>\n",
       "      <td>2017010009350</td>\n",
       "      <td>533680.0</td>\n",
       "      <td>187820.0</td>\n",
       "      <td>-0.072372</td>\n",
       "      <td>51.573408</td>\n",
       "      <td>1</td>\n",
       "      <td>2</td>\n",
       "      <td>1</td>\n",
       "      <td>1</td>\n",
       "      <td>01/01/2017</td>\n",
       "      <td>...</td>\n",
       "      <td>0</td>\n",
       "      <td>5</td>\n",
       "      <td>4</td>\n",
       "      <td>1</td>\n",
       "      <td>2</td>\n",
       "      <td>0</td>\n",
       "      <td>0</td>\n",
       "      <td>1</td>\n",
       "      <td>1</td>\n",
       "      <td>E01001808</td>\n",
       "    </tr>\n",
       "  </tbody>\n",
       "</table>\n",
       "<p>5 rows × 32 columns</p>\n",
       "</div>"
      ],
      "text/plain": [
       "  Accident_Index  Location_Easting_OSGR  Location_Northing_OSGR  Longitude  \\\n",
       "0  2017010001708               532920.0                196330.0  -0.080107   \n",
       "1  2017010009342               526790.0                181970.0  -0.173845   \n",
       "2  2017010009344               535200.0                181260.0  -0.052969   \n",
       "3  2017010009348               534340.0                193560.0  -0.060658   \n",
       "4  2017010009350               533680.0                187820.0  -0.072372   \n",
       "\n",
       "    Latitude  Police_Force  Accident_Severity  Number_of_Vehicles  \\\n",
       "0  51.650061             1                  1                   2   \n",
       "1  51.522425             1                  3                   2   \n",
       "2  51.514096             1                  3                   3   \n",
       "3  51.624832             1                  3                   2   \n",
       "4  51.573408             1                  2                   1   \n",
       "\n",
       "   Number_of_Casualties        Date  ...  Pedestrian_Crossing-Human_Control  \\\n",
       "0                     3  05/08/2017  ...                                  0   \n",
       "1                     1  01/01/2017  ...                                  0   \n",
       "2                     1  01/01/2017  ...                                  0   \n",
       "3                     1  01/01/2017  ...                                  0   \n",
       "4                     1  01/01/2017  ...                                  0   \n",
       "\n",
       "  Pedestrian_Crossing-Physical_Facilities  Light_Conditions  \\\n",
       "0                                       0                 4   \n",
       "1                                       0                 4   \n",
       "2                                       0                 4   \n",
       "3                                       4                 4   \n",
       "4                                       5                 4   \n",
       "\n",
       "  Weather_Conditions  Road_Surface_Conditions  Special_Conditions_at_Site  \\\n",
       "0                  1                        1                           0   \n",
       "1                  1                        2                           0   \n",
       "2                  1                        1                           0   \n",
       "3                  2                        2                           0   \n",
       "4                  1                        2                           0   \n",
       "\n",
       "   Carriageway_Hazards  Urban_or_Rural_Area  \\\n",
       "0                    0                    1   \n",
       "1                    0                    1   \n",
       "2                    0                    1   \n",
       "3                    0                    1   \n",
       "4                    0                    1   \n",
       "\n",
       "   Did_Police_Officer_Attend_Scene_of_Accident  LSOA_of_Accident_Location  \n",
       "0                                            1                  E01001450  \n",
       "1                                            1                  E01004702  \n",
       "2                                            1                  E01004298  \n",
       "3                                            1                  E01001429  \n",
       "4                                            1                  E01001808  \n",
       "\n",
       "[5 rows x 32 columns]"
      ]
     },
     "execution_count": 29,
     "metadata": {},
     "output_type": "execute_result"
    }
   ],
   "source": [
    "df_acc.head()"
   ]
  },
  {
   "cell_type": "code",
   "execution_count": 30,
   "metadata": {
    "ExecuteTime": {
     "end_time": "2020-04-24T16:54:54.928088Z",
     "start_time": "2020-04-24T16:54:54.924560Z"
    }
   },
   "outputs": [
    {
     "data": {
      "text/plain": [
       "(129982, 32)"
      ]
     },
     "execution_count": 30,
     "metadata": {},
     "output_type": "execute_result"
    }
   ],
   "source": [
    "df_acc.shape"
   ]
  },
  {
   "cell_type": "code",
   "execution_count": 31,
   "metadata": {
    "ExecuteTime": {
     "end_time": "2020-04-24T16:54:55.013111Z",
     "start_time": "2020-04-24T16:54:54.929557Z"
    }
   },
   "outputs": [
    {
     "name": "stdout",
     "output_type": "stream",
     "text": [
      "<class 'pandas.core.frame.DataFrame'>\n",
      "RangeIndex: 129982 entries, 0 to 129981\n",
      "Data columns (total 32 columns):\n",
      " #   Column                                       Non-Null Count   Dtype  \n",
      "---  ------                                       --------------   -----  \n",
      " 0   Accident_Index                               129982 non-null  object \n",
      " 1   Location_Easting_OSGR                        129963 non-null  float64\n",
      " 2   Location_Northing_OSGR                       129963 non-null  float64\n",
      " 3   Longitude                                    129953 non-null  float64\n",
      " 4   Latitude                                     129953 non-null  float64\n",
      " 5   Police_Force                                 129982 non-null  int64  \n",
      " 6   Accident_Severity                            129982 non-null  int64  \n",
      " 7   Number_of_Vehicles                           129982 non-null  int64  \n",
      " 8   Number_of_Casualties                         129982 non-null  int64  \n",
      " 9   Date                                         129982 non-null  object \n",
      " 10  Day_of_Week                                  129982 non-null  int64  \n",
      " 11  Time                                         129979 non-null  object \n",
      " 12  Local_Authority_(District)                   129982 non-null  int64  \n",
      " 13  Local_Authority_(Highway)                    129982 non-null  object \n",
      " 14  1st_Road_Class                               129982 non-null  int64  \n",
      " 15  1st_Road_Number                              129982 non-null  int64  \n",
      " 16  Road_Type                                    129982 non-null  int64  \n",
      " 17  Speed_limit                                  129982 non-null  int64  \n",
      " 18  Junction_Detail                              129982 non-null  int64  \n",
      " 19  Junction_Control                             129982 non-null  int64  \n",
      " 20  2nd_Road_Class                               129982 non-null  int64  \n",
      " 21  2nd_Road_Number                              129982 non-null  int64  \n",
      " 22  Pedestrian_Crossing-Human_Control            129982 non-null  int64  \n",
      " 23  Pedestrian_Crossing-Physical_Facilities      129982 non-null  int64  \n",
      " 24  Light_Conditions                             129982 non-null  int64  \n",
      " 25  Weather_Conditions                           129982 non-null  int64  \n",
      " 26  Road_Surface_Conditions                      129982 non-null  int64  \n",
      " 27  Special_Conditions_at_Site                   129982 non-null  int64  \n",
      " 28  Carriageway_Hazards                          129982 non-null  int64  \n",
      " 29  Urban_or_Rural_Area                          129982 non-null  int64  \n",
      " 30  Did_Police_Officer_Attend_Scene_of_Accident  129982 non-null  int64  \n",
      " 31  LSOA_of_Accident_Location                    122851 non-null  object \n",
      "dtypes: float64(4), int64(23), object(5)\n",
      "memory usage: 31.7+ MB\n"
     ]
    }
   ],
   "source": [
    "df_acc.info()"
   ]
  },
  {
   "cell_type": "code",
   "execution_count": 32,
   "metadata": {
    "ExecuteTime": {
     "end_time": "2020-04-24T16:54:55.029034Z",
     "start_time": "2020-04-24T16:54:55.015093Z"
    }
   },
   "outputs": [
    {
     "data": {
      "text/html": [
       "<div>\n",
       "<style scoped>\n",
       "    .dataframe tbody tr th:only-of-type {\n",
       "        vertical-align: middle;\n",
       "    }\n",
       "\n",
       "    .dataframe tbody tr th {\n",
       "        vertical-align: top;\n",
       "    }\n",
       "\n",
       "    .dataframe thead th {\n",
       "        text-align: right;\n",
       "    }\n",
       "</style>\n",
       "<table border=\"1\" class=\"dataframe\">\n",
       "  <thead>\n",
       "    <tr style=\"text-align: right;\">\n",
       "      <th></th>\n",
       "      <th>Accident_Index</th>\n",
       "      <th>Vehicle_Reference</th>\n",
       "      <th>Casualty_Reference</th>\n",
       "      <th>Casualty_Class</th>\n",
       "      <th>Sex_of_Casualty</th>\n",
       "      <th>Age_of_Casualty</th>\n",
       "      <th>Age_Band_of_Casualty</th>\n",
       "      <th>Casualty_Severity</th>\n",
       "      <th>Pedestrian_Location</th>\n",
       "      <th>Pedestrian_Movement</th>\n",
       "      <th>Car_Passenger</th>\n",
       "      <th>Bus_or_Coach_Passenger</th>\n",
       "      <th>Pedestrian_Road_Maintenance_Worker</th>\n",
       "      <th>Casualty_Type</th>\n",
       "      <th>Casualty_Home_Area_Type</th>\n",
       "      <th>Casualty_IMD_Decile</th>\n",
       "    </tr>\n",
       "  </thead>\n",
       "  <tbody>\n",
       "    <tr>\n",
       "      <th>0</th>\n",
       "      <td>2017010001708</td>\n",
       "      <td>1</td>\n",
       "      <td>1</td>\n",
       "      <td>2</td>\n",
       "      <td>2</td>\n",
       "      <td>18</td>\n",
       "      <td>4</td>\n",
       "      <td>3</td>\n",
       "      <td>0</td>\n",
       "      <td>0</td>\n",
       "      <td>1</td>\n",
       "      <td>0</td>\n",
       "      <td>0</td>\n",
       "      <td>9</td>\n",
       "      <td>1</td>\n",
       "      <td>2</td>\n",
       "    </tr>\n",
       "    <tr>\n",
       "      <th>1</th>\n",
       "      <td>2017010001708</td>\n",
       "      <td>2</td>\n",
       "      <td>2</td>\n",
       "      <td>1</td>\n",
       "      <td>1</td>\n",
       "      <td>19</td>\n",
       "      <td>4</td>\n",
       "      <td>2</td>\n",
       "      <td>0</td>\n",
       "      <td>0</td>\n",
       "      <td>0</td>\n",
       "      <td>0</td>\n",
       "      <td>0</td>\n",
       "      <td>2</td>\n",
       "      <td>-1</td>\n",
       "      <td>-1</td>\n",
       "    </tr>\n",
       "    <tr>\n",
       "      <th>2</th>\n",
       "      <td>2017010001708</td>\n",
       "      <td>2</td>\n",
       "      <td>3</td>\n",
       "      <td>2</td>\n",
       "      <td>1</td>\n",
       "      <td>18</td>\n",
       "      <td>4</td>\n",
       "      <td>1</td>\n",
       "      <td>0</td>\n",
       "      <td>0</td>\n",
       "      <td>0</td>\n",
       "      <td>0</td>\n",
       "      <td>0</td>\n",
       "      <td>2</td>\n",
       "      <td>-1</td>\n",
       "      <td>-1</td>\n",
       "    </tr>\n",
       "    <tr>\n",
       "      <th>3</th>\n",
       "      <td>2017010009342</td>\n",
       "      <td>1</td>\n",
       "      <td>1</td>\n",
       "      <td>2</td>\n",
       "      <td>2</td>\n",
       "      <td>33</td>\n",
       "      <td>6</td>\n",
       "      <td>3</td>\n",
       "      <td>0</td>\n",
       "      <td>0</td>\n",
       "      <td>1</td>\n",
       "      <td>0</td>\n",
       "      <td>0</td>\n",
       "      <td>9</td>\n",
       "      <td>1</td>\n",
       "      <td>5</td>\n",
       "    </tr>\n",
       "    <tr>\n",
       "      <th>4</th>\n",
       "      <td>2017010009344</td>\n",
       "      <td>3</td>\n",
       "      <td>1</td>\n",
       "      <td>1</td>\n",
       "      <td>2</td>\n",
       "      <td>31</td>\n",
       "      <td>6</td>\n",
       "      <td>3</td>\n",
       "      <td>0</td>\n",
       "      <td>0</td>\n",
       "      <td>0</td>\n",
       "      <td>0</td>\n",
       "      <td>0</td>\n",
       "      <td>9</td>\n",
       "      <td>1</td>\n",
       "      <td>5</td>\n",
       "    </tr>\n",
       "  </tbody>\n",
       "</table>\n",
       "</div>"
      ],
      "text/plain": [
       "  Accident_Index  Vehicle_Reference  Casualty_Reference  Casualty_Class  \\\n",
       "0  2017010001708                  1                   1               2   \n",
       "1  2017010001708                  2                   2               1   \n",
       "2  2017010001708                  2                   3               2   \n",
       "3  2017010009342                  1                   1               2   \n",
       "4  2017010009344                  3                   1               1   \n",
       "\n",
       "   Sex_of_Casualty  Age_of_Casualty  Age_Band_of_Casualty  Casualty_Severity  \\\n",
       "0                2               18                     4                  3   \n",
       "1                1               19                     4                  2   \n",
       "2                1               18                     4                  1   \n",
       "3                2               33                     6                  3   \n",
       "4                2               31                     6                  3   \n",
       "\n",
       "   Pedestrian_Location  Pedestrian_Movement  Car_Passenger  \\\n",
       "0                    0                    0              1   \n",
       "1                    0                    0              0   \n",
       "2                    0                    0              0   \n",
       "3                    0                    0              1   \n",
       "4                    0                    0              0   \n",
       "\n",
       "   Bus_or_Coach_Passenger  Pedestrian_Road_Maintenance_Worker  Casualty_Type  \\\n",
       "0                       0                                   0              9   \n",
       "1                       0                                   0              2   \n",
       "2                       0                                   0              2   \n",
       "3                       0                                   0              9   \n",
       "4                       0                                   0              9   \n",
       "\n",
       "   Casualty_Home_Area_Type  Casualty_IMD_Decile  \n",
       "0                        1                    2  \n",
       "1                       -1                   -1  \n",
       "2                       -1                   -1  \n",
       "3                        1                    5  \n",
       "4                        1                    5  "
      ]
     },
     "execution_count": 32,
     "metadata": {},
     "output_type": "execute_result"
    }
   ],
   "source": [
    "df_cas.head()"
   ]
  },
  {
   "cell_type": "code",
   "execution_count": 33,
   "metadata": {
    "ExecuteTime": {
     "end_time": "2020-04-24T16:54:55.035528Z",
     "start_time": "2020-04-24T16:54:55.032212Z"
    }
   },
   "outputs": [
    {
     "data": {
      "text/plain": [
       "(170993, 16)"
      ]
     },
     "execution_count": 33,
     "metadata": {},
     "output_type": "execute_result"
    }
   ],
   "source": [
    "df_cas.shape"
   ]
  },
  {
   "cell_type": "code",
   "execution_count": 34,
   "metadata": {
    "ExecuteTime": {
     "end_time": "2020-04-24T16:54:55.099063Z",
     "start_time": "2020-04-24T16:54:55.039319Z"
    }
   },
   "outputs": [
    {
     "name": "stdout",
     "output_type": "stream",
     "text": [
      "<class 'pandas.core.frame.DataFrame'>\n",
      "RangeIndex: 170993 entries, 0 to 170992\n",
      "Data columns (total 16 columns):\n",
      " #   Column                              Non-Null Count   Dtype \n",
      "---  ------                              --------------   ----- \n",
      " 0   Accident_Index                      170993 non-null  object\n",
      " 1   Vehicle_Reference                   170993 non-null  int64 \n",
      " 2   Casualty_Reference                  170993 non-null  int64 \n",
      " 3   Casualty_Class                      170993 non-null  int64 \n",
      " 4   Sex_of_Casualty                     170993 non-null  int64 \n",
      " 5   Age_of_Casualty                     170993 non-null  int64 \n",
      " 6   Age_Band_of_Casualty                170993 non-null  int64 \n",
      " 7   Casualty_Severity                   170993 non-null  int64 \n",
      " 8   Pedestrian_Location                 170993 non-null  int64 \n",
      " 9   Pedestrian_Movement                 170993 non-null  int64 \n",
      " 10  Car_Passenger                       170993 non-null  int64 \n",
      " 11  Bus_or_Coach_Passenger              170993 non-null  int64 \n",
      " 12  Pedestrian_Road_Maintenance_Worker  170993 non-null  int64 \n",
      " 13  Casualty_Type                       170993 non-null  int64 \n",
      " 14  Casualty_Home_Area_Type             170993 non-null  int64 \n",
      " 15  Casualty_IMD_Decile                 170993 non-null  int64 \n",
      "dtypes: int64(15), object(1)\n",
      "memory usage: 20.9+ MB\n"
     ]
    }
   ],
   "source": [
    "df_cas.info()"
   ]
  },
  {
   "cell_type": "code",
   "execution_count": 35,
   "metadata": {
    "ExecuteTime": {
     "end_time": "2020-04-24T16:54:55.118266Z",
     "start_time": "2020-04-24T16:54:55.100912Z"
    }
   },
   "outputs": [
    {
     "data": {
      "text/html": [
       "<div>\n",
       "<style scoped>\n",
       "    .dataframe tbody tr th:only-of-type {\n",
       "        vertical-align: middle;\n",
       "    }\n",
       "\n",
       "    .dataframe tbody tr th {\n",
       "        vertical-align: top;\n",
       "    }\n",
       "\n",
       "    .dataframe thead th {\n",
       "        text-align: right;\n",
       "    }\n",
       "</style>\n",
       "<table border=\"1\" class=\"dataframe\">\n",
       "  <thead>\n",
       "    <tr style=\"text-align: right;\">\n",
       "      <th></th>\n",
       "      <th>Accident_Index</th>\n",
       "      <th>Vehicle_Reference</th>\n",
       "      <th>Vehicle_Type</th>\n",
       "      <th>Towing_and_Articulation</th>\n",
       "      <th>Vehicle_Manoeuvre</th>\n",
       "      <th>Vehicle_Location-Restricted_Lane</th>\n",
       "      <th>Junction_Location</th>\n",
       "      <th>Skidding_and_Overturning</th>\n",
       "      <th>Hit_Object_in_Carriageway</th>\n",
       "      <th>Vehicle_Leaving_Carriageway</th>\n",
       "      <th>...</th>\n",
       "      <th>Journey_Purpose_of_Driver</th>\n",
       "      <th>Sex_of_Driver</th>\n",
       "      <th>Age_of_Driver</th>\n",
       "      <th>Age_Band_of_Driver</th>\n",
       "      <th>Engine_Capacity_(CC)</th>\n",
       "      <th>Propulsion_Code</th>\n",
       "      <th>Age_of_Vehicle</th>\n",
       "      <th>Driver_IMD_Decile</th>\n",
       "      <th>Driver_Home_Area_Type</th>\n",
       "      <th>Vehicle_IMD_Decile</th>\n",
       "    </tr>\n",
       "  </thead>\n",
       "  <tbody>\n",
       "    <tr>\n",
       "      <th>0</th>\n",
       "      <td>2017010001708</td>\n",
       "      <td>1</td>\n",
       "      <td>9</td>\n",
       "      <td>0</td>\n",
       "      <td>18</td>\n",
       "      <td>0</td>\n",
       "      <td>0</td>\n",
       "      <td>0</td>\n",
       "      <td>0</td>\n",
       "      <td>0</td>\n",
       "      <td>...</td>\n",
       "      <td>6</td>\n",
       "      <td>1</td>\n",
       "      <td>24</td>\n",
       "      <td>5</td>\n",
       "      <td>1997</td>\n",
       "      <td>2</td>\n",
       "      <td>1</td>\n",
       "      <td>-1</td>\n",
       "      <td>-1</td>\n",
       "      <td>-1</td>\n",
       "    </tr>\n",
       "    <tr>\n",
       "      <th>1</th>\n",
       "      <td>2017010001708</td>\n",
       "      <td>2</td>\n",
       "      <td>2</td>\n",
       "      <td>0</td>\n",
       "      <td>18</td>\n",
       "      <td>0</td>\n",
       "      <td>0</td>\n",
       "      <td>1</td>\n",
       "      <td>0</td>\n",
       "      <td>0</td>\n",
       "      <td>...</td>\n",
       "      <td>6</td>\n",
       "      <td>1</td>\n",
       "      <td>19</td>\n",
       "      <td>4</td>\n",
       "      <td>-1</td>\n",
       "      <td>-1</td>\n",
       "      <td>-1</td>\n",
       "      <td>-1</td>\n",
       "      <td>-1</td>\n",
       "      <td>-1</td>\n",
       "    </tr>\n",
       "    <tr>\n",
       "      <th>2</th>\n",
       "      <td>2017010009342</td>\n",
       "      <td>1</td>\n",
       "      <td>9</td>\n",
       "      <td>0</td>\n",
       "      <td>18</td>\n",
       "      <td>0</td>\n",
       "      <td>1</td>\n",
       "      <td>0</td>\n",
       "      <td>0</td>\n",
       "      <td>0</td>\n",
       "      <td>...</td>\n",
       "      <td>6</td>\n",
       "      <td>1</td>\n",
       "      <td>33</td>\n",
       "      <td>6</td>\n",
       "      <td>1797</td>\n",
       "      <td>8</td>\n",
       "      <td>8</td>\n",
       "      <td>9</td>\n",
       "      <td>1</td>\n",
       "      <td>9</td>\n",
       "    </tr>\n",
       "    <tr>\n",
       "      <th>3</th>\n",
       "      <td>2017010009342</td>\n",
       "      <td>2</td>\n",
       "      <td>9</td>\n",
       "      <td>0</td>\n",
       "      <td>18</td>\n",
       "      <td>0</td>\n",
       "      <td>1</td>\n",
       "      <td>1</td>\n",
       "      <td>0</td>\n",
       "      <td>0</td>\n",
       "      <td>...</td>\n",
       "      <td>6</td>\n",
       "      <td>1</td>\n",
       "      <td>40</td>\n",
       "      <td>7</td>\n",
       "      <td>2204</td>\n",
       "      <td>2</td>\n",
       "      <td>12</td>\n",
       "      <td>2</td>\n",
       "      <td>1</td>\n",
       "      <td>2</td>\n",
       "    </tr>\n",
       "    <tr>\n",
       "      <th>4</th>\n",
       "      <td>2017010009344</td>\n",
       "      <td>1</td>\n",
       "      <td>9</td>\n",
       "      <td>0</td>\n",
       "      <td>18</td>\n",
       "      <td>0</td>\n",
       "      <td>1</td>\n",
       "      <td>0</td>\n",
       "      <td>0</td>\n",
       "      <td>0</td>\n",
       "      <td>...</td>\n",
       "      <td>6</td>\n",
       "      <td>3</td>\n",
       "      <td>-1</td>\n",
       "      <td>-1</td>\n",
       "      <td>-1</td>\n",
       "      <td>-1</td>\n",
       "      <td>-1</td>\n",
       "      <td>-1</td>\n",
       "      <td>-1</td>\n",
       "      <td>-1</td>\n",
       "    </tr>\n",
       "  </tbody>\n",
       "</table>\n",
       "<p>5 rows × 23 columns</p>\n",
       "</div>"
      ],
      "text/plain": [
       "  Accident_Index  Vehicle_Reference  Vehicle_Type  Towing_and_Articulation  \\\n",
       "0  2017010001708                  1             9                        0   \n",
       "1  2017010001708                  2             2                        0   \n",
       "2  2017010009342                  1             9                        0   \n",
       "3  2017010009342                  2             9                        0   \n",
       "4  2017010009344                  1             9                        0   \n",
       "\n",
       "   Vehicle_Manoeuvre  Vehicle_Location-Restricted_Lane  Junction_Location  \\\n",
       "0                 18                                 0                  0   \n",
       "1                 18                                 0                  0   \n",
       "2                 18                                 0                  1   \n",
       "3                 18                                 0                  1   \n",
       "4                 18                                 0                  1   \n",
       "\n",
       "   Skidding_and_Overturning  Hit_Object_in_Carriageway  \\\n",
       "0                         0                          0   \n",
       "1                         1                          0   \n",
       "2                         0                          0   \n",
       "3                         1                          0   \n",
       "4                         0                          0   \n",
       "\n",
       "   Vehicle_Leaving_Carriageway  ...  Journey_Purpose_of_Driver  Sex_of_Driver  \\\n",
       "0                            0  ...                          6              1   \n",
       "1                            0  ...                          6              1   \n",
       "2                            0  ...                          6              1   \n",
       "3                            0  ...                          6              1   \n",
       "4                            0  ...                          6              3   \n",
       "\n",
       "   Age_of_Driver  Age_Band_of_Driver  Engine_Capacity_(CC)  Propulsion_Code  \\\n",
       "0             24                   5                  1997                2   \n",
       "1             19                   4                    -1               -1   \n",
       "2             33                   6                  1797                8   \n",
       "3             40                   7                  2204                2   \n",
       "4             -1                  -1                    -1               -1   \n",
       "\n",
       "   Age_of_Vehicle  Driver_IMD_Decile  Driver_Home_Area_Type  \\\n",
       "0               1                 -1                     -1   \n",
       "1              -1                 -1                     -1   \n",
       "2               8                  9                      1   \n",
       "3              12                  2                      1   \n",
       "4              -1                 -1                     -1   \n",
       "\n",
       "   Vehicle_IMD_Decile  \n",
       "0                  -1  \n",
       "1                  -1  \n",
       "2                   9  \n",
       "3                   2  \n",
       "4                  -1  \n",
       "\n",
       "[5 rows x 23 columns]"
      ]
     },
     "execution_count": 35,
     "metadata": {},
     "output_type": "execute_result"
    }
   ],
   "source": [
    "df_veh.head()"
   ]
  },
  {
   "cell_type": "code",
   "execution_count": 36,
   "metadata": {
    "ExecuteTime": {
     "end_time": "2020-04-24T16:54:55.123615Z",
     "start_time": "2020-04-24T16:54:55.120133Z"
    }
   },
   "outputs": [
    {
     "data": {
      "text/plain": [
       "(238926, 23)"
      ]
     },
     "execution_count": 36,
     "metadata": {},
     "output_type": "execute_result"
    }
   ],
   "source": [
    "df_veh.shape"
   ]
  },
  {
   "cell_type": "code",
   "execution_count": 37,
   "metadata": {
    "ExecuteTime": {
     "end_time": "2020-04-24T16:54:55.220136Z",
     "start_time": "2020-04-24T16:54:55.125472Z"
    }
   },
   "outputs": [
    {
     "name": "stdout",
     "output_type": "stream",
     "text": [
      "<class 'pandas.core.frame.DataFrame'>\n",
      "RangeIndex: 238926 entries, 0 to 238925\n",
      "Data columns (total 23 columns):\n",
      " #   Column                            Non-Null Count   Dtype \n",
      "---  ------                            --------------   ----- \n",
      " 0   Accident_Index                    238926 non-null  object\n",
      " 1   Vehicle_Reference                 238926 non-null  int64 \n",
      " 2   Vehicle_Type                      238926 non-null  int64 \n",
      " 3   Towing_and_Articulation           238926 non-null  int64 \n",
      " 4   Vehicle_Manoeuvre                 238926 non-null  int64 \n",
      " 5   Vehicle_Location-Restricted_Lane  238926 non-null  int64 \n",
      " 6   Junction_Location                 238926 non-null  int64 \n",
      " 7   Skidding_and_Overturning          238926 non-null  int64 \n",
      " 8   Hit_Object_in_Carriageway         238926 non-null  int64 \n",
      " 9   Vehicle_Leaving_Carriageway       238926 non-null  int64 \n",
      " 10  Hit_Object_off_Carriageway        238926 non-null  int64 \n",
      " 11  1st_Point_of_Impact               238926 non-null  int64 \n",
      " 12  Was_Vehicle_Left_Hand_Drive?      238926 non-null  int64 \n",
      " 13  Journey_Purpose_of_Driver         238926 non-null  int64 \n",
      " 14  Sex_of_Driver                     238926 non-null  int64 \n",
      " 15  Age_of_Driver                     238926 non-null  int64 \n",
      " 16  Age_Band_of_Driver                238926 non-null  int64 \n",
      " 17  Engine_Capacity_(CC)              238926 non-null  int64 \n",
      " 18  Propulsion_Code                   238926 non-null  int64 \n",
      " 19  Age_of_Vehicle                    238926 non-null  int64 \n",
      " 20  Driver_IMD_Decile                 238926 non-null  int64 \n",
      " 21  Driver_Home_Area_Type             238926 non-null  int64 \n",
      " 22  Vehicle_IMD_Decile                238926 non-null  int64 \n",
      "dtypes: int64(22), object(1)\n",
      "memory usage: 41.9+ MB\n"
     ]
    }
   ],
   "source": [
    "df_veh.info()"
   ]
  },
  {
   "cell_type": "code",
   "execution_count": null,
   "metadata": {},
   "outputs": [],
   "source": []
  },
  {
   "cell_type": "markdown",
   "metadata": {},
   "source": [
    "# Preprocessing the data\n"
   ]
  },
  {
   "cell_type": "markdown",
   "metadata": {},
   "source": [
    "## Converting column 'Date' into the python date time format\n"
   ]
  },
  {
   "cell_type": "code",
   "execution_count": 38,
   "metadata": {
    "ExecuteTime": {
     "end_time": "2020-04-24T16:54:55.462544Z",
     "start_time": "2020-04-24T16:54:55.221644Z"
    }
   },
   "outputs": [],
   "source": [
    "df_acc['Date'] = pd.to_datetime(df_acc['Date'], format=\"%d/%m/%Y\")\n"
   ]
  },
  {
   "cell_type": "code",
   "execution_count": 39,
   "metadata": {
    "ExecuteTime": {
     "end_time": "2020-04-24T16:54:55.471190Z",
     "start_time": "2020-04-24T16:54:55.464145Z"
    }
   },
   "outputs": [
    {
     "data": {
      "text/plain": [
       "count                  129982\n",
       "unique                    365\n",
       "top       2017-12-01 00:00:00\n",
       "freq                      559\n",
       "first     2017-01-01 00:00:00\n",
       "last      2017-12-31 00:00:00\n",
       "Name: Date, dtype: object"
      ]
     },
     "execution_count": 39,
     "metadata": {},
     "output_type": "execute_result"
    }
   ],
   "source": [
    "df_acc['Date'].describe()"
   ]
  },
  {
   "cell_type": "code",
   "execution_count": 40,
   "metadata": {
    "ExecuteTime": {
     "end_time": "2020-04-24T16:54:55.478503Z",
     "start_time": "2020-04-24T16:54:55.472546Z"
    }
   },
   "outputs": [
    {
     "name": "stdout",
     "output_type": "stream",
     "text": [
      "<class 'pandas.core.frame.DataFrame'>\n",
      "RangeIndex: 129982 entries, 0 to 129981\n",
      "Data columns (total 1 columns):\n",
      " #   Column  Non-Null Count   Dtype         \n",
      "---  ------  --------------   -----         \n",
      " 0   Date    129982 non-null  datetime64[ns]\n",
      "dtypes: datetime64[ns](1)\n",
      "memory usage: 1015.6 KB\n"
     ]
    }
   ],
   "source": [
    "df_acc[['Date']].info()"
   ]
  },
  {
   "cell_type": "code",
   "execution_count": null,
   "metadata": {},
   "outputs": [],
   "source": [
    "\n"
   ]
  },
  {
   "cell_type": "code",
   "execution_count": 41,
   "metadata": {
    "ExecuteTime": {
     "end_time": "2020-04-24T16:54:55.635995Z",
     "start_time": "2020-04-24T16:54:55.479958Z"
    }
   },
   "outputs": [],
   "source": [
    "df_acc['Hour'] = df_acc['Time'].str[0:2]\n",
    "df_acc['Hour'] = pd.to_numeric(df_acc['Hour'])\n",
    "df_acc = df_acc.dropna(subset=['Hour'])\n",
    "df_acc['Hour'] = df_acc['Hour'].astype('int')\n"
   ]
  },
  {
   "cell_type": "markdown",
   "metadata": {},
   "source": [
    "- Morning Rush from 6am to 9am\n",
    "- Office Hours from 9am to 4pm \n",
    "- Afternoon Rush from 4pm to 7pm \n",
    "- Evening from 7pm to 11pm \n",
    "- Night from 11pm to 6am \n",
    "\n",
    "**Reference**\n",
    "\n",
    "https://www.bbc.com/news/uk-england-42917201\n"
   ]
  },
  {
   "cell_type": "code",
   "execution_count": 42,
   "metadata": {
    "ExecuteTime": {
     "end_time": "2020-04-24T16:54:55.641352Z",
     "start_time": "2020-04-24T16:54:55.637718Z"
    }
   },
   "outputs": [],
   "source": [
    "\n",
    "def get_time_group(hour):\n",
    "    \"\"\"\n",
    "    This function turns the hours into daytime categories\n",
    "    \"\"\"\n",
    "    if hour >= 6 and hour <= 9:\n",
    "        return \"morning rush (6-9)\"\n",
    "    elif hour > 9 and hour <= 16:\n",
    "        return \"office hours (9-16)\"\n",
    "    elif hour > 16 and hour <= 19:\n",
    "        return \"afternoon rush (16-19)\"\n",
    "    elif hour > 19 and hour <= 23:\n",
    "        return \"evening (19-23)\"\n",
    "    else:\n",
    "        return \"night (23-6)\"\n",
    "    \n",
    "    "
   ]
  },
  {
   "cell_type": "code",
   "execution_count": 43,
   "metadata": {
    "ExecuteTime": {
     "end_time": "2020-04-24T16:54:55.723195Z",
     "start_time": "2020-04-24T16:54:55.643167Z"
    }
   },
   "outputs": [
    {
     "data": {
      "text/html": [
       "<div>\n",
       "<style scoped>\n",
       "    .dataframe tbody tr th:only-of-type {\n",
       "        vertical-align: middle;\n",
       "    }\n",
       "\n",
       "    .dataframe tbody tr th {\n",
       "        vertical-align: top;\n",
       "    }\n",
       "\n",
       "    .dataframe thead th {\n",
       "        text-align: right;\n",
       "    }\n",
       "</style>\n",
       "<table border=\"1\" class=\"dataframe\">\n",
       "  <thead>\n",
       "    <tr style=\"text-align: right;\">\n",
       "      <th></th>\n",
       "      <th>Time</th>\n",
       "      <th>Hour</th>\n",
       "      <th>TimeGroup</th>\n",
       "    </tr>\n",
       "  </thead>\n",
       "  <tbody>\n",
       "    <tr>\n",
       "      <th>0</th>\n",
       "      <td>03:12</td>\n",
       "      <td>3</td>\n",
       "      <td>night (23-6)</td>\n",
       "    </tr>\n",
       "    <tr>\n",
       "      <th>1</th>\n",
       "      <td>01:30</td>\n",
       "      <td>1</td>\n",
       "      <td>night (23-6)</td>\n",
       "    </tr>\n",
       "    <tr>\n",
       "      <th>2</th>\n",
       "      <td>00:30</td>\n",
       "      <td>0</td>\n",
       "      <td>night (23-6)</td>\n",
       "    </tr>\n",
       "    <tr>\n",
       "      <th>3</th>\n",
       "      <td>01:11</td>\n",
       "      <td>1</td>\n",
       "      <td>night (23-6)</td>\n",
       "    </tr>\n",
       "    <tr>\n",
       "      <th>4</th>\n",
       "      <td>01:42</td>\n",
       "      <td>1</td>\n",
       "      <td>night (23-6)</td>\n",
       "    </tr>\n",
       "  </tbody>\n",
       "</table>\n",
       "</div>"
      ],
      "text/plain": [
       "    Time  Hour     TimeGroup\n",
       "0  03:12     3  night (23-6)\n",
       "1  01:30     1  night (23-6)\n",
       "2  00:30     0  night (23-6)\n",
       "3  01:11     1  night (23-6)\n",
       "4  01:42     1  night (23-6)"
      ]
     },
     "execution_count": 43,
     "metadata": {},
     "output_type": "execute_result"
    }
   ],
   "source": [
    "df_acc['TimeGroup'] = df_acc['Hour'].apply(get_time_group)\n",
    "\n",
    "df_acc[['Time', 'Hour', 'TimeGroup']].head()\n"
   ]
  },
  {
   "cell_type": "code",
   "execution_count": null,
   "metadata": {},
   "outputs": [],
   "source": []
  },
  {
   "cell_type": "markdown",
   "metadata": {},
   "source": [
    "## Handling missing values"
   ]
  },
  {
   "cell_type": "code",
   "execution_count": 44,
   "metadata": {
    "ExecuteTime": {
     "end_time": "2020-04-24T16:54:55.794600Z",
     "start_time": "2020-04-24T16:54:55.724913Z"
    }
   },
   "outputs": [
    {
     "name": "stdout",
     "output_type": "stream",
     "text": [
      "Percentage of Missing Values in Accidents:\n",
      "0.056\n"
     ]
    }
   ],
   "source": [
    "print('Percentage of Missing Values in Accidents:')\n",
    "print(round(df_acc.isna().sum().sum()/len(df_acc), 3))\n"
   ]
  },
  {
   "cell_type": "code",
   "execution_count": 45,
   "metadata": {
    "ExecuteTime": {
     "end_time": "2020-04-24T16:54:55.871533Z",
     "start_time": "2020-04-24T16:54:55.796505Z"
    }
   },
   "outputs": [
    {
     "name": "stdout",
     "output_type": "stream",
     "text": [
      "Percentage of Missing Values (per column) in Accidents:\n",
      "Accident_Index                                 0.000\n",
      "Location_Easting_OSGR                          0.000\n",
      "Location_Northing_OSGR                         0.000\n",
      "Longitude                                      0.000\n",
      "Latitude                                       0.000\n",
      "Police_Force                                   0.000\n",
      "Accident_Severity                              0.000\n",
      "Number_of_Vehicles                             0.000\n",
      "Number_of_Casualties                           0.000\n",
      "Date                                           0.000\n",
      "Day_of_Week                                    0.000\n",
      "Time                                           0.000\n",
      "Local_Authority_(District)                     0.000\n",
      "Local_Authority_(Highway)                      0.000\n",
      "1st_Road_Class                                 0.000\n",
      "1st_Road_Number                                0.000\n",
      "Road_Type                                      0.000\n",
      "Speed_limit                                    0.000\n",
      "Junction_Detail                                0.000\n",
      "Junction_Control                               0.000\n",
      "2nd_Road_Class                                 0.000\n",
      "2nd_Road_Number                                0.000\n",
      "Pedestrian_Crossing-Human_Control              0.000\n",
      "Pedestrian_Crossing-Physical_Facilities        0.000\n",
      "Light_Conditions                               0.000\n",
      "Weather_Conditions                             0.000\n",
      "Road_Surface_Conditions                        0.000\n",
      "Special_Conditions_at_Site                     0.000\n",
      "Carriageway_Hazards                            0.000\n",
      "Urban_or_Rural_Area                            0.000\n",
      "Did_Police_Officer_Attend_Scene_of_Accident    0.000\n",
      "LSOA_of_Accident_Location                      0.055\n",
      "Hour                                           0.000\n",
      "TimeGroup                                      0.000\n",
      "dtype: float64\n"
     ]
    }
   ],
   "source": [
    "print('Percentage of Missing Values (per column) in Accidents:')\n",
    "print(round(df_acc.isna().sum()/len(df_acc), 3))\n"
   ]
  },
  {
   "cell_type": "code",
   "execution_count": 46,
   "metadata": {
    "ExecuteTime": {
     "end_time": "2020-04-24T16:54:55.946445Z",
     "start_time": "2020-04-24T16:54:55.873472Z"
    }
   },
   "outputs": [
    {
     "name": "stdout",
     "output_type": "stream",
     "text": [
      "Percentage of Missing Values in Vehicles:\n",
      "0.0\n"
     ]
    }
   ],
   "source": [
    "print('Percentage of Missing Values in Vehicles:')\n",
    "print(round(df_veh.isna().sum().sum()/len(df_veh), 3))\n"
   ]
  },
  {
   "cell_type": "code",
   "execution_count": 47,
   "metadata": {
    "ExecuteTime": {
     "end_time": "2020-04-24T16:54:55.991253Z",
     "start_time": "2020-04-24T16:54:55.948595Z"
    }
   },
   "outputs": [
    {
     "name": "stdout",
     "output_type": "stream",
     "text": [
      "Percentage of Missing Values in Casualties:\n",
      "0.0\n"
     ]
    }
   ],
   "source": [
    "print('Percentage of Missing Values in Casualties:')\n",
    "print(round(df_cas.isna().sum().sum()/len(df_cas), 3))\n"
   ]
  },
  {
   "cell_type": "code",
   "execution_count": null,
   "metadata": {},
   "outputs": [],
   "source": []
  },
  {
   "cell_type": "markdown",
   "metadata": {},
   "source": [
    "# Exploratory Data Analysis (EDA)\n"
   ]
  },
  {
   "cell_type": "markdown",
   "metadata": {},
   "source": [
    "## Plot number of accidents per month"
   ]
  },
  {
   "cell_type": "code",
   "execution_count": 48,
   "metadata": {
    "ExecuteTime": {
     "end_time": "2020-04-24T16:54:56.224220Z",
     "start_time": "2020-04-24T16:54:55.993244Z"
    },
    "scrolled": true
   },
   "outputs": [
    {
     "data": {
      "image/png": "[encoded data removed]",
      "text/plain": [
       "<Figure size 864x360 with 1 Axes>"
      ]
     },
     "metadata": {},
     "output_type": "display_data"
    }
   ],
   "source": [
    "acc_monthly_count = df_acc['Date'].dt.month.value_counts().sort_index(ascending=False)\n",
    "\n",
    "sns.set_style('white')\n",
    "fig, ax = plt.subplots(figsize=(12,5))\n",
    "\n",
    "ax.bar(acc_monthly_count.index, acc_monthly_count.values, color='lightblue')\n",
    "ax.plot(acc_monthly_count, linestyle=':', color='black')\n",
    "ax.set_title('\\nNumber of accidents per month\\n', fontsize=14, fontweight='bold')\n",
    "ax.set(ylabel='\\nNumber of accidents')\n",
    "ax.set(xlabel='\\nMonth')\n",
    "\n",
    "sns.despine(ax=ax, top=True, right=True, left=True, bottom=True);\n"
   ]
  },
  {
   "cell_type": "markdown",
   "metadata": {},
   "source": [
    "## Show number of accidents in each week day\n"
   ]
  },
  {
   "cell_type": "code",
   "execution_count": 49,
   "metadata": {
    "ExecuteTime": {
     "end_time": "2020-04-24T16:54:56.324170Z",
     "start_time": "2020-04-24T16:54:56.225662Z"
    }
   },
   "outputs": [
    {
     "data": {
      "text/html": [
       "<div>\n",
       "<style scoped>\n",
       "    .dataframe tbody tr th:only-of-type {\n",
       "        vertical-align: middle;\n",
       "    }\n",
       "\n",
       "    .dataframe tbody tr th {\n",
       "        vertical-align: top;\n",
       "    }\n",
       "\n",
       "    .dataframe thead th {\n",
       "        text-align: right;\n",
       "    }\n",
       "</style>\n",
       "<table border=\"1\" class=\"dataframe\">\n",
       "  <thead>\n",
       "    <tr style=\"text-align: right;\">\n",
       "      <th></th>\n",
       "      <th>Mean_Accidents</th>\n",
       "    </tr>\n",
       "    <tr>\n",
       "      <th>Weekday</th>\n",
       "      <th></th>\n",
       "    </tr>\n",
       "  </thead>\n",
       "  <tbody>\n",
       "    <tr>\n",
       "      <th>Friday</th>\n",
       "      <td>408.557692</td>\n",
       "    </tr>\n",
       "    <tr>\n",
       "      <th>Monday</th>\n",
       "      <td>344.923077</td>\n",
       "    </tr>\n",
       "    <tr>\n",
       "      <th>Saturday</th>\n",
       "      <td>331.269231</td>\n",
       "    </tr>\n",
       "    <tr>\n",
       "      <th>Sunday</th>\n",
       "      <td>282.547170</td>\n",
       "    </tr>\n",
       "    <tr>\n",
       "      <th>Thursday</th>\n",
       "      <td>380.711538</td>\n",
       "    </tr>\n",
       "    <tr>\n",
       "      <th>Tuesday</th>\n",
       "      <td>374.653846</td>\n",
       "    </tr>\n",
       "    <tr>\n",
       "      <th>Wednesday</th>\n",
       "      <td>371.500000</td>\n",
       "    </tr>\n",
       "  </tbody>\n",
       "</table>\n",
       "</div>"
      ],
      "text/plain": [
       "           Mean_Accidents\n",
       "Weekday                  \n",
       "Friday         408.557692\n",
       "Monday         344.923077\n",
       "Saturday       331.269231\n",
       "Sunday         282.547170\n",
       "Thursday       380.711538\n",
       "Tuesday        374.653846\n",
       "Wednesday      371.500000"
      ]
     },
     "execution_count": 49,
     "metadata": {},
     "output_type": "execute_result"
    }
   ],
   "source": [
    "acc_weekday_counts = pd.DataFrame(df_acc.set_index('Date').resample('1d')['Accident_Index'].size().reset_index())\n",
    "\n",
    "acc_weekday_counts.columns = ['Date', 'Count']\n",
    "\n",
    "weekday = acc_weekday_counts['Date'].dt.day_name()\n",
    "#weekday\n",
    "\n",
    "acc_weekday_mean = pd.DataFrame(acc_weekday_counts.groupby(weekday)['Count'].mean().reset_index())\n",
    "acc_weekday_mean.columns = ['Weekday', 'Mean_Accidents']\n",
    "acc_weekday_mean.set_index('Weekday', inplace=True)\n",
    "acc_weekday_mean\n"
   ]
  },
  {
   "cell_type": "code",
   "execution_count": 50,
   "metadata": {
    "ExecuteTime": {
     "end_time": "2020-04-24T16:54:56.330849Z",
     "start_time": "2020-04-24T16:54:56.325944Z"
    }
   },
   "outputs": [
    {
     "data": {
      "text/plain": [
       "Index(['Friday'], dtype='object', name='Weekday')"
      ]
     },
     "execution_count": 50,
     "metadata": {},
     "output_type": "execute_result"
    }
   ],
   "source": [
    "acc_weekday_mean[acc_weekday_mean['Mean_Accidents'] == acc_weekday_mean['Mean_Accidents'].max()].index\n"
   ]
  },
  {
   "cell_type": "code",
   "execution_count": 51,
   "metadata": {
    "ExecuteTime": {
     "end_time": "2020-04-24T16:54:56.341872Z",
     "start_time": "2020-04-24T16:54:56.332400Z"
    }
   },
   "outputs": [
    {
     "data": {
      "text/html": [
       "<div>\n",
       "<style scoped>\n",
       "    .dataframe tbody tr th:only-of-type {\n",
       "        vertical-align: middle;\n",
       "    }\n",
       "\n",
       "    .dataframe tbody tr th {\n",
       "        vertical-align: top;\n",
       "    }\n",
       "\n",
       "    .dataframe thead th {\n",
       "        text-align: right;\n",
       "    }\n",
       "</style>\n",
       "<table border=\"1\" class=\"dataframe\">\n",
       "  <thead>\n",
       "    <tr style=\"text-align: right;\">\n",
       "      <th></th>\n",
       "      <th>Sum_Accidents</th>\n",
       "    </tr>\n",
       "    <tr>\n",
       "      <th>Weekday</th>\n",
       "      <th></th>\n",
       "    </tr>\n",
       "  </thead>\n",
       "  <tbody>\n",
       "    <tr>\n",
       "      <th>Friday</th>\n",
       "      <td>21245</td>\n",
       "    </tr>\n",
       "    <tr>\n",
       "      <th>Monday</th>\n",
       "      <td>17936</td>\n",
       "    </tr>\n",
       "    <tr>\n",
       "      <th>Saturday</th>\n",
       "      <td>17226</td>\n",
       "    </tr>\n",
       "    <tr>\n",
       "      <th>Sunday</th>\n",
       "      <td>14975</td>\n",
       "    </tr>\n",
       "    <tr>\n",
       "      <th>Thursday</th>\n",
       "      <td>19797</td>\n",
       "    </tr>\n",
       "    <tr>\n",
       "      <th>Tuesday</th>\n",
       "      <td>19482</td>\n",
       "    </tr>\n",
       "    <tr>\n",
       "      <th>Wednesday</th>\n",
       "      <td>19318</td>\n",
       "    </tr>\n",
       "  </tbody>\n",
       "</table>\n",
       "</div>"
      ],
      "text/plain": [
       "           Sum_Accidents\n",
       "Weekday                 \n",
       "Friday             21245\n",
       "Monday             17936\n",
       "Saturday           17226\n",
       "Sunday             14975\n",
       "Thursday           19797\n",
       "Tuesday            19482\n",
       "Wednesday          19318"
      ]
     },
     "execution_count": 51,
     "metadata": {},
     "output_type": "execute_result"
    }
   ],
   "source": [
    "acc_weekday_sum = pd.DataFrame(acc_weekday_counts.groupby(weekday)['Count'].sum().reset_index())\n",
    "acc_weekday_sum.columns = ['Weekday', 'Sum_Accidents']\n",
    "acc_weekday_sum.set_index('Weekday', inplace=True)\n",
    "acc_weekday_sum\n"
   ]
  },
  {
   "cell_type": "code",
   "execution_count": 52,
   "metadata": {
    "ExecuteTime": {
     "end_time": "2020-04-24T16:54:56.349895Z",
     "start_time": "2020-04-24T16:54:56.343538Z"
    }
   },
   "outputs": [
    {
     "data": {
      "text/plain": [
       "Index(['Friday'], dtype='object', name='Weekday')"
      ]
     },
     "execution_count": 52,
     "metadata": {},
     "output_type": "execute_result"
    }
   ],
   "source": [
    "acc_weekday_sum[acc_weekday_sum['Sum_Accidents'] == acc_weekday_sum['Sum_Accidents'].max()].index\n"
   ]
  },
  {
   "cell_type": "code",
   "execution_count": 53,
   "metadata": {
    "ExecuteTime": {
     "end_time": "2020-04-24T16:54:56.547897Z",
     "start_time": "2020-04-24T16:54:56.351687Z"
    }
   },
   "outputs": [
    {
     "data": {
      "image/png": "[encoded data removed]",
      "text/plain": [
       "<Figure size 720x360 with 1 Axes>"
      ]
     },
     "metadata": {},
     "output_type": "display_data"
    }
   ],
   "source": [
    "\n",
    "days = ['Sunday', 'Saturday', 'Friday', 'Thursday', 'Wednesday', 'Tuesday', 'Monday']\n",
    "\n",
    "max_acc_day = acc_weekday_mean[acc_weekday_mean['Mean_Accidents'] == acc_weekday_mean['Mean_Accidents'].max()].index.values[0]\n",
    "colors = []\n",
    "for day in days:\n",
    "    if day == max_acc_day:\n",
    "        colors.append('darkblue')\n",
    "    else:\n",
    "        colors.append('lightsteelblue')\n",
    "        \n",
    "sns.set_style('white')\n",
    "fig, ax = plt.subplots(figsize=(10,5))\n",
    "\n",
    "acc_weekday_mean.reindex(days).plot(kind='barh', ax=ax, color=[colors])\n",
    "ax.set_title('\\nAverage Accidents per Weekday\\n', fontsize=14, fontweight='bold')\n",
    "ax.set(xlabel='\\nNumber of accidents', ylabel='Day')\n",
    "ax.legend('')\n",
    "\n",
    "sns.despine(ax=ax, top=True, right=True, left=True, bottom=True);\n"
   ]
  },
  {
   "cell_type": "code",
   "execution_count": null,
   "metadata": {},
   "outputs": [],
   "source": []
  },
  {
   "cell_type": "markdown",
   "metadata": {},
   "source": [
    "### Plot number of accidents in the weekdays of each month\n"
   ]
  },
  {
   "cell_type": "code",
   "execution_count": 54,
   "metadata": {
    "ExecuteTime": {
     "end_time": "2020-04-24T16:54:56.553486Z",
     "start_time": "2020-04-24T16:54:56.549311Z"
    }
   },
   "outputs": [],
   "source": [
    "def highlight_max(data, color='yellow'):\n",
    "    '''\n",
    "    highlight the maximum in a Series or DataFrame\n",
    "    '''\n",
    "    attr = 'background-color: {}'.format(color)\n",
    "    #remove % and cast to float\n",
    "    data = data.replace('%','', regex=True).astype(float)\n",
    "    if data.ndim == 1:  # Series from .apply(axis=0) or axis=1\n",
    "        is_max = data == data.max()\n",
    "        return [attr if v else '' for v in is_max]\n",
    "    else:  # from .apply(axis=None)\n",
    "        is_max = data == data.max().max()\n",
    "        return pd.DataFrame(np.where(is_max, attr, ''),\n",
    "                            index=data.index, columns=data.columns)\n"
   ]
  },
  {
   "cell_type": "code",
   "execution_count": 55,
   "metadata": {
    "ExecuteTime": {
     "end_time": "2020-04-24T16:54:56.602593Z",
     "start_time": "2020-04-24T16:54:56.554913Z"
    }
   },
   "outputs": [
    {
     "ename": "AttributeError",
     "evalue": "'DatetimeProperties' object has no attribute 'weekday_name'",
     "output_type": "error",
     "traceback": [
      "\u001b[0;31m---------------------------------------------------------------------------\u001b[0m",
      "\u001b[0;31mAttributeError\u001b[0m                            Traceback (most recent call last)",
      "\u001b[0;32m<ipython-input-55-f357dfc45e90>\u001b[0m in \u001b[0;36m<module>\u001b[0;34m\u001b[0m\n\u001b[0;32m----> 1\u001b[0;31m \u001b[0mweekday\u001b[0m \u001b[0;34m=\u001b[0m \u001b[0mdf_acc\u001b[0m\u001b[0;34m[\u001b[0m\u001b[0;34m'Date'\u001b[0m\u001b[0;34m]\u001b[0m\u001b[0;34m.\u001b[0m\u001b[0mdt\u001b[0m\u001b[0;34m.\u001b[0m\u001b[0mweekday_name\u001b[0m\u001b[0;34m\u001b[0m\u001b[0;34m\u001b[0m\u001b[0m\n\u001b[0m\u001b[1;32m      2\u001b[0m \u001b[0mmonth\u001b[0m \u001b[0;34m=\u001b[0m \u001b[0mdf_acc\u001b[0m\u001b[0;34m[\u001b[0m\u001b[0;34m'Date'\u001b[0m\u001b[0;34m]\u001b[0m\u001b[0;34m.\u001b[0m\u001b[0mdt\u001b[0m\u001b[0;34m.\u001b[0m\u001b[0mmonth\u001b[0m\u001b[0;34m\u001b[0m\u001b[0;34m\u001b[0m\u001b[0m\n\u001b[1;32m      3\u001b[0m \u001b[0;34m\u001b[0m\u001b[0m\n\u001b[1;32m      4\u001b[0m \u001b[0macc_group\u001b[0m \u001b[0;34m=\u001b[0m \u001b[0mdf_acc\u001b[0m\u001b[0;34m.\u001b[0m\u001b[0mgroupby\u001b[0m\u001b[0;34m(\u001b[0m\u001b[0;34m[\u001b[0m\u001b[0mmonth\u001b[0m\u001b[0;34m,\u001b[0m \u001b[0mweekday\u001b[0m\u001b[0;34m]\u001b[0m\u001b[0;34m)\u001b[0m\u001b[0;34m.\u001b[0m\u001b[0msize\u001b[0m\u001b[0;34m(\u001b[0m\u001b[0;34m)\u001b[0m\u001b[0;34m\u001b[0m\u001b[0;34m\u001b[0m\u001b[0m\n\u001b[1;32m      5\u001b[0m \u001b[0;34m\u001b[0m\u001b[0m\n",
      "\u001b[0;31mAttributeError\u001b[0m: 'DatetimeProperties' object has no attribute 'weekday_name'"
     ]
    }
   ],
   "source": [
    "weekday = df_acc['Date'].dt.day_name()\n",
    "month = df_acc['Date'].dt.month\n",
    "\n",
    "acc_group = df_acc.groupby([month, weekday]).size()\n",
    "\n",
    "acc_group = acc_group.rename_axis(['Month', 'Weekday']).unstack('Weekday').reindex(columns=days)\n",
    "acc_group.style.apply(highlight_max)\n",
    "#acc_group\n"
   ]
  },
  {
   "cell_type": "code",
   "execution_count": null,
   "metadata": {
    "ExecuteTime": {
     "end_time": "2020-04-24T16:54:56.830738Z",
     "start_time": "2020-04-24T16:54:56.604252Z"
    }
   },
   "outputs": [],
   "source": [
    "plt.figure(figsize=(10,6))\n",
    "sns.heatmap(acc_group, cmap='Reds')\n",
    "plt.title('\\nAccidents by Month and Weekday\\n', fontsize=14, fontweight='bold')\n",
    "plt.xlabel('')\n",
    "plt.ylabel('');\n"
   ]
  },
  {
   "cell_type": "code",
   "execution_count": null,
   "metadata": {},
   "outputs": [],
   "source": []
  },
  {
   "cell_type": "markdown",
   "metadata": {},
   "source": [
    "## How weather affects the number of accidents?\n",
    "\n",
    "\n",
    "Weather label\n",
    "\n",
    "- 1\tFine no high winds\n",
    "- 2\tRaining no high winds\n",
    "- 3\tSnowing no high winds\n",
    "- 4\tFine + high winds\n",
    "- 5\tRaining + high winds\n",
    "- 6\tSnowing + high winds\n",
    "- 7\tFog or mist\n",
    "- 8\tOther\n",
    "- 9\tUnknown\n",
    "- -1\tData missing or out of range!\n"
   ]
  },
  {
   "cell_type": "code",
   "execution_count": null,
   "metadata": {
    "ExecuteTime": {
     "end_time": "2020-04-24T16:54:56.845633Z",
     "start_time": "2020-04-24T16:54:56.832133Z"
    }
   },
   "outputs": [],
   "source": [
    "df_acc[['Weather_Conditions']].describe()"
   ]
  },
  {
   "cell_type": "code",
   "execution_count": null,
   "metadata": {
    "ExecuteTime": {
     "end_time": "2020-04-24T16:54:56.852251Z",
     "start_time": "2020-04-24T16:54:56.847176Z"
    }
   },
   "outputs": [],
   "source": [
    "df_acc.Weather_Conditions.value_counts(normalize=True)\n"
   ]
  },
  {
   "cell_type": "code",
   "execution_count": null,
   "metadata": {},
   "outputs": [],
   "source": []
  },
  {
   "cell_type": "markdown",
   "metadata": {},
   "source": [
    "## Percentage of each category of accident severity\n",
    "\n",
    "accident severity\n",
    "\n",
    "- 1\tFatal\n",
    "- 2\tSerious\n",
    "- 3\tSlight\n",
    "\n"
   ]
  },
  {
   "cell_type": "code",
   "execution_count": null,
   "metadata": {
    "ExecuteTime": {
     "end_time": "2020-04-24T16:54:56.859929Z",
     "start_time": "2020-04-24T16:54:56.853733Z"
    }
   },
   "outputs": [],
   "source": [
    "df_acc['Accident_Severity'].value_counts()\n"
   ]
  },
  {
   "cell_type": "code",
   "execution_count": null,
   "metadata": {
    "ExecuteTime": {
     "end_time": "2020-04-24T16:54:56.866412Z",
     "start_time": "2020-04-24T16:54:56.861530Z"
    }
   },
   "outputs": [],
   "source": [
    "df_acc[['Accident_Severity']].info()"
   ]
  },
  {
   "cell_type": "code",
   "execution_count": null,
   "metadata": {
    "ExecuteTime": {
     "end_time": "2020-04-24T16:54:57.018930Z",
     "start_time": "2020-04-24T16:54:56.868126Z"
    }
   },
   "outputs": [],
   "source": [
    "\n",
    "fatal   = df_acc.Accident_Severity.value_counts()[1]\n",
    "serious = df_acc.Accident_Severity.value_counts()[2]\n",
    "slight  = df_acc.Accident_Severity.value_counts()[3]\n",
    "\n",
    "names = ['Fatal','Serious', 'Slight']\n",
    "size  = [fatal, serious, slight]\n",
    "#explode = (0.2, 0, 0)\n",
    "\n",
    "plt.pie(x=size, labels=names, colors=['red', 'orange', 'gray'], \n",
    "        autopct='%1.2f%%', pctdistance=0.6, textprops=dict(fontweight='bold'),\n",
    "        wedgeprops={'linewidth':7, 'edgecolor':'white'})\n",
    "\n",
    "my_circle = plt.Circle((0,0), 0.6, color='white')\n",
    "\n",
    "# plot the donut chart\n",
    "fig = plt.gcf()\n",
    "fig.set_size_inches(8,8)\n",
    "fig.gca().add_artist(my_circle)\n",
    "plt.title('\\nAccident Severity: Share in % (2013-2017)', fontsize=14, fontweight='bold')\n",
    "plt.show()\n"
   ]
  },
  {
   "cell_type": "code",
   "execution_count": null,
   "metadata": {},
   "outputs": [],
   "source": []
  },
  {
   "cell_type": "markdown",
   "metadata": {},
   "source": [
    "### Number of fatalities over the months?\n"
   ]
  },
  {
   "cell_type": "code",
   "execution_count": null,
   "metadata": {
    "ExecuteTime": {
     "end_time": "2020-04-24T16:54:57.376858Z",
     "start_time": "2020-04-24T16:54:57.020741Z"
    }
   },
   "outputs": [],
   "source": [
    "\n",
    "mask = df_acc['Accident_Severity']==1\n",
    "df_weekly_fatalities = df_acc.loc[mask].set_index('Date').sort_index().resample('W').size()\n",
    "\n",
    "sns.set_style('white')\n",
    "fig, ax = plt.subplots(figsize=(14,6))\n",
    "\n",
    "df_weekly_fatalities.plot(label='Total Fatalities per Month', color='gray', ax=ax)\n",
    "plt.fill_between(x=df_weekly_fatalities.index, y1=df_weekly_fatalities.values, color='grey', alpha=0.3)\n",
    "df_weekly_fatalities.rolling(window=4).mean().plot(color='orange', linewidth=5, label='4-Weeks Moving Average', ax=ax)\n",
    "\n",
    "ax.set_title('\\nFatalities', fontsize=14, fontweight='bold')\n",
    "ax.set(ylabel='\\nNumber of accidents', xlabel='Month')\n",
    "ax.legend(bbox_to_anchor=(1.2, 1.1), frameon=False)\n",
    "\n",
    "sns.despine(ax=ax, top=True, right=True, left=True, bottom=True);\n"
   ]
  },
  {
   "cell_type": "code",
   "execution_count": null,
   "metadata": {},
   "outputs": [],
   "source": []
  },
  {
   "cell_type": "markdown",
   "metadata": {},
   "source": [
    "## Number of accidents throughout the day"
   ]
  },
  {
   "cell_type": "markdown",
   "metadata": {},
   "source": [
    "### Number of accidents through the time"
   ]
  },
  {
   "cell_type": "code",
   "execution_count": null,
   "metadata": {
    "ExecuteTime": {
     "end_time": "2020-04-24T16:54:57.586802Z",
     "start_time": "2020-04-24T16:54:57.378090Z"
    }
   },
   "outputs": [],
   "source": [
    "\n",
    "sns.set_style('white')\n",
    "fig, ax = plt.subplots(figsize=(10,6))\n",
    "\n",
    "\n",
    "df_acc.Hour.hist(bins=24, ax=ax, color='lightblue')\n",
    "ax.set_title('\\nAccidents through the time\\n', fontsize=14, fontweight='bold')\n",
    "ax.set(xlabel='Hour of the Day', ylabel='Number of Accidents')\n",
    "\n",
    "# remove all spines\n",
    "sns.despine(top=True, right=True, left=True, bottom=True);\n"
   ]
  },
  {
   "cell_type": "code",
   "execution_count": null,
   "metadata": {
    "ExecuteTime": {
     "end_time": "2020-04-24T16:54:57.607844Z",
     "start_time": "2020-04-24T16:54:57.588349Z"
    }
   },
   "outputs": [],
   "source": [
    "df_acc_counts = df_acc.groupby(['TimeGroup', 'Accident_Severity']).size()\n",
    "\n",
    "df_acc_counts = df_acc_counts.rename_axis(['TimeGroup', 'Accident_Severity']).unstack('Accident_Severity').rename({1:'fatal', 2:'serious', 3:'slight'}, axis='columns')\n",
    "df_acc_counts.style.apply(highlight_max)\n"
   ]
  },
  {
   "cell_type": "code",
   "execution_count": null,
   "metadata": {
    "ExecuteTime": {
     "end_time": "2020-04-24T16:54:57.622029Z",
     "start_time": "2020-04-24T16:54:57.609188Z"
    }
   },
   "outputs": [],
   "source": [
    "df_acc_counts['sum'] = df_acc_counts.sum(axis=1)\n",
    "df_acc_counts = df_acc_counts.join(df_acc_counts.div(df_acc_counts['sum'], axis=0), rsuffix=' in %')\n",
    "\n",
    "df_acc_counts_share = df_acc_counts.drop(columns=['fatal', 'serious', 'slight', 'sum', 'sum in %'], axis=1)\n",
    "df_acc_counts_share.style.apply(highlight_max)\n"
   ]
  },
  {
   "cell_type": "code",
   "execution_count": null,
   "metadata": {
    "ExecuteTime": {
     "end_time": "2020-04-24T16:54:57.858137Z",
     "start_time": "2020-04-24T16:54:57.625589Z"
    }
   },
   "outputs": [],
   "source": [
    "\n",
    "fig, ax = plt.subplots(figsize=(10, 5))\n",
    "\n",
    "order = ['night (23-6)', 'evening (19-23)', 'afternoon rush (16-19)', 'office hours (9-16)', 'morning rush (6-9)']\n",
    "df_acc_counts_share.reindex(order).plot(kind='barh', ax=ax, stacked=True, cmap='cividis')\n",
    "ax.set_title('\\nAccident severity by hours\\n', fontsize=14, fontweight='bold')\n",
    "ax.set(xlabel='Percentage', ylabel='')\n",
    "ax.legend(bbox_to_anchor=(1.25, 0.98), frameon=False)\n",
    "\n",
    "\n",
    "sns.despine(top=True, right=True, left=True, bottom=True);\n"
   ]
  },
  {
   "cell_type": "code",
   "execution_count": null,
   "metadata": {},
   "outputs": [],
   "source": []
  },
  {
   "cell_type": "markdown",
   "metadata": {},
   "source": [
    "## Statistics of Vehicles\n",
    "\n",
    "\n",
    "\n"
   ]
  },
  {
   "cell_type": "markdown",
   "metadata": {},
   "source": [
    "### Sex and Age Band\n",
    "\n",
    "Sex of driver\n",
    "- 1\tMale\n",
    "- 2\tFemale\n",
    "- 3\tNot known\n",
    "- -1\tData missing or out of range\n",
    "\n",
    "\n",
    "Age band\n",
    "- 1\t0 - 5\n",
    "- 2\t6 - 10\n",
    "- 3\t11 - 15\n",
    "- 4\t16 - 20\n",
    "- 5\t21 - 25\n",
    "- 6\t26 - 35\n",
    "- 7\t36 - 45\n",
    "- 8\t46 - 55\n",
    "- 9\t56 - 65\n",
    "- 10\t66 - 75\n",
    "- 11\tOver 75\n",
    "- -1\tData missing or out of range"
   ]
  },
  {
   "cell_type": "code",
   "execution_count": null,
   "metadata": {
    "ExecuteTime": {
     "end_time": "2020-04-24T16:54:57.865085Z",
     "start_time": "2020-04-24T16:54:57.859610Z"
    }
   },
   "outputs": [],
   "source": [
    "def get_sex(row):\n",
    "    if row['Sex_of_Driver'] == 1:\n",
    "        val = 'Male'\n",
    "    elif row['Sex_of_Driver'] == 2:\n",
    "        val = 'Female'\n",
    "    elif row['Sex_of_Driver'] == 3:\n",
    "        val = 'Unknown'\n",
    "    else:\n",
    "        val = 'Data Missing'\n",
    "    return val\n",
    "\n",
    "\n",
    "def get_age_brand(row):\n",
    "    age = row['Age_Band_of_Driver']\n",
    "    if age == 1:\n",
    "        val = '0-5'\n",
    "    elif age == 2:\n",
    "        val = '6-10'\n",
    "    elif age == 3:\n",
    "        val = '11-15'\n",
    "    elif age == 4:\n",
    "        val = '16-20'\n",
    "    elif age == 5:\n",
    "        val = '21-25'\n",
    "    elif age == 6:\n",
    "        val = '26-35'\n",
    "    elif age == 7:\n",
    "        val = '36-45'\n",
    "    elif age == 8:\n",
    "        val = '46-55'\n",
    "    elif age == 9:\n",
    "        val = '56-65'\n",
    "    elif age == 10:\n",
    "        val = '66-75'\n",
    "    elif age == 11:\n",
    "        val = 'Over 75'\n",
    "    else:\n",
    "        val = 'Data Missing'\n",
    "    \n",
    "    return val\n"
   ]
  },
  {
   "cell_type": "code",
   "execution_count": null,
   "metadata": {
    "ExecuteTime": {
     "end_time": "2020-04-24T16:55:00.983026Z",
     "start_time": "2020-04-24T16:54:57.866629Z"
    }
   },
   "outputs": [],
   "source": [
    "df_veh['Sex_of_Driver_str'] = df_veh.apply(get_sex, axis=1)\n"
   ]
  },
  {
   "cell_type": "code",
   "execution_count": null,
   "metadata": {
    "ExecuteTime": {
     "end_time": "2020-04-24T16:55:01.012575Z",
     "start_time": "2020-04-24T16:55:00.984317Z"
    }
   },
   "outputs": [],
   "source": [
    "df_veh.Sex_of_Driver_str.value_counts(normalize=True)\n"
   ]
  },
  {
   "cell_type": "code",
   "execution_count": null,
   "metadata": {
    "ExecuteTime": {
     "end_time": "2020-04-24T16:55:03.853119Z",
     "start_time": "2020-04-24T16:55:01.014336Z"
    }
   },
   "outputs": [],
   "source": [
    "df_veh['Age_Band_of_Driver_str'] = df_veh.apply(get_age_brand, axis=1)\n"
   ]
  },
  {
   "cell_type": "code",
   "execution_count": null,
   "metadata": {
    "ExecuteTime": {
     "end_time": "2020-04-24T16:55:03.888317Z",
     "start_time": "2020-04-24T16:55:03.855010Z"
    }
   },
   "outputs": [],
   "source": [
    "df_veh.Age_Band_of_Driver_str.value_counts(normalize=True)\n"
   ]
  },
  {
   "cell_type": "code",
   "execution_count": null,
   "metadata": {
    "ExecuteTime": {
     "end_time": "2020-04-24T16:55:03.959832Z",
     "start_time": "2020-04-24T16:55:03.890070Z"
    }
   },
   "outputs": [],
   "source": [
    "\n",
    "df_drivers = df_veh.groupby(['Age_Band_of_Driver_str', 'Sex_of_Driver_str']).size().reset_index()\n",
    "\n",
    "\n",
    "df_drivers.drop(df_drivers[(df_drivers['Age_Band_of_Driver_str'] == 'Data Missing') | \n",
    "                           (df_drivers['Sex_of_Driver_str'] == 'Data Missing') | \n",
    "                           (df_drivers['Sex_of_Driver_str'] == 'Unknown')].index, axis=0, inplace=True)\n",
    "\n",
    "df_drivers.columns = ['Age_Band_of_Driver_str', 'Sex_of_Driver_str', 'Count']\n",
    "df_drivers\n"
   ]
  },
  {
   "cell_type": "code",
   "execution_count": null,
   "metadata": {
    "ExecuteTime": {
     "end_time": "2020-04-24T16:55:04.321438Z",
     "start_time": "2020-04-24T16:55:03.961543Z"
    }
   },
   "outputs": [],
   "source": [
    "\n",
    "fig, ax = plt.subplots(figsize=(14, 7))\n",
    "sns.barplot(y='Age_Band_of_Driver_str', x='Count', hue='Sex_of_Driver_str', data=df_drivers, palette='bone')\n",
    "ax.set_title('\\nAccidents (Drivers by Age and Sex)\\n', fontsize=14, fontweight='bold')\n",
    "ax.set(xlabel='Count', ylabel='Age Band of Driver')\n",
    "ax.legend(bbox_to_anchor=(1.1, 1.), borderaxespad=0., frameon=False)\n",
    "\n",
    "\n",
    "sns.despine(top=True, right=True, left=True, bottom=True);\n"
   ]
  },
  {
   "cell_type": "code",
   "execution_count": null,
   "metadata": {},
   "outputs": [],
   "source": []
  },
  {
   "cell_type": "code",
   "execution_count": null,
   "metadata": {
    "ExecuteTime": {
     "end_time": "2020-04-24T17:02:33.105785Z",
     "start_time": "2020-04-24T17:02:33.101534Z"
    }
   },
   "outputs": [],
   "source": [
    "df_veh.columns"
   ]
  },
  {
   "cell_type": "markdown",
   "metadata": {},
   "source": [
    "### Manoeuvre\n",
    "\n",
    "\n",
    "\n",
    "- 1\tReversing\n",
    "- 2\tParked\n",
    "- 3\tWaiting to go - held up\n",
    "- 4\tSlowing or stopping\n",
    "- 5\tMoving off\n",
    "- 6\tU-turn\n",
    "- 7\tTurning left\n",
    "- 8\tWaiting to turn left\n",
    "- 9\tTurning right\n",
    "- 10\tWaiting to turn right\n",
    "- 11\tChanging lane to left\n",
    "- 12\tChanging lane to right\n",
    "- 13\tOvertaking moving vehicle - offside\n",
    "- 14\tOvertaking static vehicle - offside\n",
    "- 15\tOvertaking - nearside\n",
    "- 16\tGoing ahead left-hand bend\n",
    "- 17\tGoing ahead right-hand bend\n",
    "- 18\tGoing ahead other\n",
    "- -1\tData missing or out of range\n"
   ]
  },
  {
   "cell_type": "code",
   "execution_count": null,
   "metadata": {
    "ExecuteTime": {
     "end_time": "2020-04-24T17:20:58.519331Z",
     "start_time": "2020-04-24T17:20:58.512572Z"
    }
   },
   "outputs": [],
   "source": [
    "def get_manoeuvre(row):\n",
    "    age = row['Vehicle_Manoeuvre']\n",
    "    if age == 1:\n",
    "        val = 'Reversing'\n",
    "    elif age == 2:\n",
    "        val = 'Parked'\n",
    "    elif age == 3:\n",
    "        val = 'Waiting to go - held up'\n",
    "    elif age == 4:\n",
    "        val = 'Slowing or stopping'\n",
    "    elif age == 5:\n",
    "        val = 'Moving off'\n",
    "    elif age == 6:\n",
    "        val = 'U-turn'\n",
    "    elif age == 7:\n",
    "        val = 'Turning left'\n",
    "    elif age == 8:\n",
    "        val = 'Waiting to turn left'\n",
    "    elif age == 9:\n",
    "        val = 'Turning right'\n",
    "    elif age == 10:\n",
    "        val = 'Waiting to turn right'\n",
    "    elif age == 11:\n",
    "        val = 'Changing lane to left'\n",
    "    elif age == 12:\n",
    "        val = 'Changing lane to right'\n",
    "    elif age == 13:\n",
    "        val = 'Overtaking moving vehicle - offside'\n",
    "    elif age == 14:\n",
    "        val = 'Overtaking static vehicle - offside'\n",
    "    elif age == 15:\n",
    "        val = 'Overtaking - nearside'\n",
    "    elif age == 16:\n",
    "        val = 'Going ahead left-hand bend'\n",
    "    elif age == 17:\n",
    "        val = 'Going ahead right-hand bend'\n",
    "    elif age == 18:\n",
    "        val = 'Going ahead other'\n",
    "    else:\n",
    "        val = 'Data Missing'\n",
    "    \n",
    "    return val\n"
   ]
  },
  {
   "cell_type": "code",
   "execution_count": null,
   "metadata": {
    "ExecuteTime": {
     "end_time": "2020-04-24T17:21:04.109458Z",
     "start_time": "2020-04-24T17:21:01.451626Z"
    }
   },
   "outputs": [],
   "source": [
    "df_veh['Vehicle_Manoeuvre_str'] = df_veh.apply(get_manoeuvre, axis=1)\n"
   ]
  },
  {
   "cell_type": "code",
   "execution_count": null,
   "metadata": {
    "ExecuteTime": {
     "end_time": "2020-04-24T17:21:04.138877Z",
     "start_time": "2020-04-24T17:21:04.111464Z"
    }
   },
   "outputs": [],
   "source": [
    "# prepare dataframe\n",
    "df_veh_manoeuvre = df_veh.groupby('Vehicle_Manoeuvre_str').size().reset_index(name='counts').sort_values(by='counts', ascending=False)\n",
    "                                                        \n",
    "#df_veh_manoeuvre = df_veh_manoeuvre[df_veh_manoeuvre.counts > 80000]\n",
    "df_veh_manoeuvre\n"
   ]
  },
  {
   "cell_type": "code",
   "execution_count": null,
   "metadata": {
    "ExecuteTime": {
     "end_time": "2020-04-24T17:21:53.934405Z",
     "start_time": "2020-04-24T17:21:53.617921Z"
    }
   },
   "outputs": [],
   "source": [
    "sns.set_style('white')\n",
    "fig, ax = plt.subplots(figsize=(10,5))\n",
    "\n",
    "\n",
    "sns.barplot(x=\"counts\", y=\"Vehicle_Manoeuvre_str\", data=df_veh_manoeuvre)\n",
    "\n",
    "#df_veh_manoeuvre.plot(kind='barh', ax=ax)\n",
    "ax.set_title('\\nAccidents per Manoeuvre\\n', fontsize=15, fontweight='bold')\n",
    "ax.set(xlabel='\\nNumber of accidents', ylabel='Manoeuvre')\n",
    "ax.legend('')\n",
    "\n",
    "sns.despine(ax=ax, top=True, right=True, left=True, bottom=True);\n"
   ]
  },
  {
   "cell_type": "code",
   "execution_count": null,
   "metadata": {},
   "outputs": [],
   "source": []
  },
  {
   "cell_type": "code",
   "execution_count": null,
   "metadata": {},
   "outputs": [],
   "source": []
  },
  {
   "cell_type": "markdown",
   "metadata": {},
   "source": [
    "# Predicting Police Officer Attendance\n"
   ]
  },
  {
   "cell_type": "code",
   "execution_count": null,
   "metadata": {
    "ExecuteTime": {
     "end_time": "2020-04-24T17:29:00.246903Z",
     "start_time": "2020-04-24T17:29:00.032901Z"
    }
   },
   "outputs": [],
   "source": [
    "df_veh_acc = pd.merge(df_acc, df_veh, on='Accident_Index')\n"
   ]
  },
  {
   "cell_type": "code",
   "execution_count": null,
   "metadata": {
    "ExecuteTime": {
     "end_time": "2020-04-24T17:29:09.836985Z",
     "start_time": "2020-04-24T17:29:09.815307Z"
    }
   },
   "outputs": [],
   "source": [
    "df_veh_acc.head()\n"
   ]
  },
  {
   "cell_type": "code",
   "execution_count": null,
   "metadata": {
    "ExecuteTime": {
     "end_time": "2020-04-24T17:30:08.198856Z",
     "start_time": "2020-04-24T17:30:07.995299Z"
    }
   },
   "outputs": [],
   "source": [
    "df_veh_acc.info()    \n"
   ]
  },
  {
   "cell_type": "code",
   "execution_count": null,
   "metadata": {
    "ExecuteTime": {
     "end_time": "2020-04-24T17:29:31.955505Z",
     "start_time": "2020-04-24T17:29:31.541907Z"
    }
   },
   "outputs": [],
   "source": [
    "df_veh_acc.isna().sum()\n"
   ]
  },
  {
   "cell_type": "code",
   "execution_count": null,
   "metadata": {},
   "outputs": [],
   "source": []
  },
  {
   "cell_type": "code",
   "execution_count": null,
   "metadata": {
    "ExecuteTime": {
     "end_time": "2020-04-24T17:40:52.724199Z",
     "start_time": "2020-04-24T17:40:52.718936Z"
    }
   },
   "outputs": [],
   "source": [
    "for col in ['Accident_Severity', 'TimeGroup', 'Speed_limit', 'Urban_or_Rural_Area',\n",
    "            'Age_Band_of_Driver', 'Sex_of_Driver', 'Vehicle_Manoeuvre']:\n",
    "    df_veh_acc[col] = df_veh_acc[col].astype('category')\n",
    "    \n",
    "\n"
   ]
  },
  {
   "cell_type": "code",
   "execution_count": null,
   "metadata": {
    "ExecuteTime": {
     "end_time": "2020-04-24T17:41:15.392332Z",
     "start_time": "2020-04-24T17:41:15.390501Z"
    }
   },
   "outputs": [],
   "source": [
    "# define numerical columns\n",
    "num_cols = ['Age_of_Vehicle', 'Engine_Capacity_.CC.']\n"
   ]
  },
  {
   "cell_type": "code",
   "execution_count": null,
   "metadata": {
    "ExecuteTime": {
     "end_time": "2020-04-24T17:42:50.770329Z",
     "start_time": "2020-04-24T17:42:50.616960Z"
    }
   },
   "outputs": [],
   "source": [
    "df_veh_acc[['Age_of_Vehicle']].plot.box(grid='True')\n",
    "    "
   ]
  },
  {
   "cell_type": "code",
   "execution_count": null,
   "metadata": {
    "ExecuteTime": {
     "end_time": "2020-04-24T17:44:03.208778Z",
     "start_time": "2020-04-24T17:44:03.047456Z"
    }
   },
   "outputs": [],
   "source": [
    "\n",
    "df_veh_acc[['Engine_Capacity_(CC)']].plot.box(grid='True')\n",
    "   "
   ]
  },
  {
   "cell_type": "code",
   "execution_count": null,
   "metadata": {
    "ExecuteTime": {
     "end_time": "2020-04-24T17:44:46.166504Z",
     "start_time": "2020-04-24T17:44:46.148070Z"
    }
   },
   "outputs": [],
   "source": [
    "df_veh_acc['Age_of_Vehicle'].describe()\n"
   ]
  },
  {
   "cell_type": "code",
   "execution_count": null,
   "metadata": {
    "ExecuteTime": {
     "end_time": "2020-04-24T17:45:40.023204Z",
     "start_time": "2020-04-24T17:45:40.002505Z"
    }
   },
   "outputs": [],
   "source": [
    "len(set(df_veh_acc['Age_of_Vehicle'].values))\n"
   ]
  },
  {
   "cell_type": "code",
   "execution_count": null,
   "metadata": {
    "ExecuteTime": {
     "end_time": "2020-04-24T17:46:17.466732Z",
     "start_time": "2020-04-24T17:46:17.255512Z"
    }
   },
   "outputs": [],
   "source": [
    "df_veh_acc[['Age_of_Vehicle']].plot.box(grid='True')\n"
   ]
  },
  {
   "cell_type": "code",
   "execution_count": null,
   "metadata": {
    "ExecuteTime": {
     "end_time": "2020-04-24T17:50:00.443301Z",
     "start_time": "2020-04-24T17:50:00.440530Z"
    }
   },
   "outputs": [],
   "source": [
    "age_of_vehicle_bins = {1: '1 to <2 years', \n",
    "                       2: '2 to <5 years', \n",
    "                       3: '5 to <10 years', \n",
    "                       4: '>=10 years'}\n"
   ]
  },
  {
   "cell_type": "code",
   "execution_count": null,
   "metadata": {
    "ExecuteTime": {
     "end_time": "2020-04-24T17:50:01.211249Z",
     "start_time": "2020-04-24T17:50:01.193331Z"
    }
   },
   "outputs": [],
   "source": [
    "# arguments in bins parameter denote left edge of each bin\n",
    "df_veh_acc['Age_of_Vehicle_bin'] = np.digitize(df_veh_acc['Age_of_Vehicle'], bins=[1,2,5,10])\n",
    "\n",
    "# convert into categorical column\n",
    "df_veh_acc['Age_of_Vehicle_bin'] = df_veh_acc['Age_of_Vehicle_bin'].astype('category')\n",
    "\n",
    "# check the count within each bucket\n",
    "df_veh_acc['Age_of_Vehicle_bin'].value_counts().sort_index()\n"
   ]
  },
  {
   "cell_type": "code",
   "execution_count": null,
   "metadata": {
    "ExecuteTime": {
     "end_time": "2020-04-24T17:55:33.138482Z",
     "start_time": "2020-04-24T17:55:33.132280Z"
    }
   },
   "outputs": [],
   "source": [
    "#df_veh_acc['Did_Police_Officer_Attend_Scene_of_Accident'].describe()\n",
    "\n",
    "#df_veh_acc[['Did_Police_Officer_Attend_Scene_of_Accident']].plot.box(grid='True')\n",
    "\n",
    "df_veh_acc[['Did_Police_Officer_Attend_Scene_of_Accident']].count()\n"
   ]
  },
  {
   "cell_type": "code",
   "execution_count": null,
   "metadata": {
    "ExecuteTime": {
     "end_time": "2020-04-24T17:57:25.986830Z",
     "start_time": "2020-04-24T17:57:25.978702Z"
    }
   },
   "outputs": [],
   "source": [
    "set(df_veh_acc['Did_Police_Officer_Attend_Scene_of_Accident'])"
   ]
  },
  {
   "cell_type": "code",
   "execution_count": null,
   "metadata": {
    "ExecuteTime": {
     "end_time": "2020-04-24T17:57:34.916531Z",
     "start_time": "2020-04-24T17:57:34.707060Z"
    }
   },
   "outputs": [],
   "source": [
    "ax = df_veh_acc[['Did_Police_Officer_Attend_Scene_of_Accident']].plot.hist(alpha=0.5)\n"
   ]
  },
  {
   "cell_type": "code",
   "execution_count": null,
   "metadata": {
    "ExecuteTime": {
     "end_time": "2020-04-24T18:00:50.353545Z",
     "start_time": "2020-04-24T18:00:50.318784Z"
    }
   },
   "outputs": [],
   "source": [
    "len(df_veh_acc[df_veh_acc['Did_Police_Officer_Attend_Scene_of_Accident']==1])\n"
   ]
  },
  {
   "cell_type": "code",
   "execution_count": null,
   "metadata": {
    "ExecuteTime": {
     "end_time": "2020-04-24T18:01:00.483054Z",
     "start_time": "2020-04-24T18:01:00.463302Z"
    }
   },
   "outputs": [],
   "source": [
    "len(df_veh_acc[df_veh_acc['Did_Police_Officer_Attend_Scene_of_Accident']==2])\n"
   ]
  },
  {
   "cell_type": "code",
   "execution_count": null,
   "metadata": {
    "ExecuteTime": {
     "end_time": "2020-04-24T18:01:10.233121Z",
     "start_time": "2020-04-24T18:01:10.227079Z"
    }
   },
   "outputs": [],
   "source": [
    "len(df_veh_acc[df_veh_acc['Did_Police_Officer_Attend_Scene_of_Accident']==3])\n"
   ]
  },
  {
   "cell_type": "code",
   "execution_count": null,
   "metadata": {
    "ExecuteTime": {
     "end_time": "2020-04-24T18:03:59.478384Z",
     "start_time": "2020-04-24T18:03:59.475233Z"
    }
   },
   "outputs": [],
   "source": [
    "cat_cols = ['TimeGroup', 'Speed_limit', 'Urban_or_Rural_Area',\n",
    "            'Age_Band_of_Driver', 'Age_of_Vehicle', 'Sex_of_Driver', 'Vehicle_Manoeuvre']\n",
    "\n",
    "num_cols = ['Age_of_Vehicle', 'Engine_Capacity_(CC)']\n",
    "\n",
    "target_col = ['Did_Police_Officer_Attend_Scene_of_Accident']\n",
    "\n",
    "cols = cat_cols + num_cols + target_col\n"
   ]
  },
  {
   "cell_type": "code",
   "execution_count": null,
   "metadata": {
    "ExecuteTime": {
     "end_time": "2020-04-24T18:04:00.411622Z",
     "start_time": "2020-04-24T18:04:00.402790Z"
    }
   },
   "outputs": [],
   "source": [
    "df_model = df_veh_acc[cols].copy()\n",
    "df_model.shape\n"
   ]
  },
  {
   "cell_type": "code",
   "execution_count": null,
   "metadata": {
    "ExecuteTime": {
     "end_time": "2020-04-24T18:04:53.064543Z",
     "start_time": "2020-04-24T18:04:53.051606Z"
    }
   },
   "outputs": [],
   "source": [
    "df_model = df_model[df_model['Did_Police_Officer_Attend_Scene_of_Accident'] != 3]\n",
    "df_model.shape"
   ]
  },
  {
   "cell_type": "code",
   "execution_count": null,
   "metadata": {
    "ExecuteTime": {
     "end_time": "2020-04-24T18:06:34.717770Z",
     "start_time": "2020-04-24T18:06:34.709079Z"
    }
   },
   "outputs": [],
   "source": [
    "df_model['Did_Police_Officer_Attend_Scene_of_Accident'].value_counts(normalize=True)\n"
   ]
  },
  {
   "cell_type": "code",
   "execution_count": null,
   "metadata": {
    "ExecuteTime": {
     "end_time": "2020-04-24T18:07:21.205928Z",
     "start_time": "2020-04-24T18:07:21.197713Z"
    }
   },
   "outputs": [],
   "source": [
    "df_model['Did_Police_Officer_Attend_Scene_of_Accident'].value_counts(normalize=False)\n"
   ]
  },
  {
   "cell_type": "code",
   "execution_count": null,
   "metadata": {
    "ExecuteTime": {
     "end_time": "2020-04-24T18:05:56.944436Z",
     "start_time": "2020-04-24T18:05:56.936723Z"
    }
   },
   "outputs": [],
   "source": [
    "\n",
    "X = df_model.drop(['Did_Police_Officer_Attend_Scene_of_Accident'], axis=1)\n",
    "\n",
    "Y = df_model[['Did_Police_Officer_Attend_Scene_of_Accident']]\n"
   ]
  },
  {
   "cell_type": "code",
   "execution_count": null,
   "metadata": {
    "ExecuteTime": {
     "end_time": "2020-04-24T18:15:34.011982Z",
     "start_time": "2020-04-24T18:15:33.933443Z"
    }
   },
   "outputs": [],
   "source": [
    "le_time = preprocessing.LabelEncoder()\n",
    "X['TimeGroup'] = le_time.fit_transform(X['TimeGroup'].values)\n"
   ]
  },
  {
   "cell_type": "code",
   "execution_count": null,
   "metadata": {},
   "outputs": [],
   "source": []
  },
  {
   "cell_type": "code",
   "execution_count": null,
   "metadata": {},
   "outputs": [],
   "source": []
  },
  {
   "cell_type": "code",
   "execution_count": null,
   "metadata": {
    "ExecuteTime": {
     "end_time": "2020-04-24T18:15:40.479738Z",
     "start_time": "2020-04-24T18:15:40.451671Z"
    }
   },
   "outputs": [],
   "source": [
    "\n",
    "\n",
    "# split our data\n",
    "X_train, X_test, y_train, y_test = train_test_split(X, Y, test_size=0.2)\n"
   ]
  },
  {
   "cell_type": "code",
   "execution_count": null,
   "metadata": {
    "ExecuteTime": {
     "end_time": "2020-04-24T18:15:56.911838Z",
     "start_time": "2020-04-24T18:15:52.961168Z"
    }
   },
   "outputs": [],
   "source": [
    "\n",
    "model_rf = RandomForestClassifier(random_state=42, n_jobs=-1)\n",
    "\n",
    "model_rf.fit(X_train, y_train)\n",
    "\n",
    "y_pred = model_rf.predict(X_test)\n",
    "\n",
    "report = classification_report(y_test, y_pred)\n",
    "\n",
    "print(report)\n"
   ]
  },
  {
   "cell_type": "code",
   "execution_count": null,
   "metadata": {
    "ExecuteTime": {
     "end_time": "2020-04-24T18:17:05.177249Z",
     "start_time": "2020-04-24T18:16:47.412425Z"
    }
   },
   "outputs": [],
   "source": [
    "cross_val_score(model_rf, X_train, y_train, scoring='f1_macro', n_jobs=-1)\n"
   ]
  },
  {
   "cell_type": "code",
   "execution_count": null,
   "metadata": {},
   "outputs": [],
   "source": []
  },
  {
   "cell_type": "code",
   "execution_count": null,
   "metadata": {
    "ExecuteTime": {
     "end_time": "2020-04-24T18:20:52.021960Z",
     "start_time": "2020-04-24T18:20:51.245750Z"
    }
   },
   "outputs": [],
   "source": [
    "model_lgbm = lgbm.LGBMClassifier()\n",
    "model_lgbm.fit(X_train, y_train)\n",
    "y_pred = model_lgbm.predict(X_test)\n",
    "report = classification_report(y_test, y_pred)\n",
    "print(report)\n"
   ]
  },
  {
   "cell_type": "code",
   "execution_count": null,
   "metadata": {
    "ExecuteTime": {
     "end_time": "2020-04-24T18:21:27.650396Z",
     "start_time": "2020-04-24T18:21:21.672943Z"
    }
   },
   "outputs": [],
   "source": [
    "cross_val_score(model_lgbm, X_train, y_train, scoring='f1_macro', n_jobs=-1)\n"
   ]
  },
  {
   "cell_type": "code",
   "execution_count": null,
   "metadata": {},
   "outputs": [],
   "source": []
  },
  {
   "cell_type": "code",
   "execution_count": null,
   "metadata": {
    "ExecuteTime": {
     "end_time": "2020-04-24T16:55:04.334999Z",
     "start_time": "2020-04-24T16:55:04.323288Z"
    }
   },
   "outputs": [],
   "source": [
    "set(df_acc['Did_Police_Officer_Attend_Scene_of_Accident'].values)"
   ]
  },
  {
   "cell_type": "code",
   "execution_count": null,
   "metadata": {},
   "outputs": [],
   "source": []
  },
  {
   "cell_type": "code",
   "execution_count": null,
   "metadata": {},
   "outputs": [],
   "source": []
  },
  {
   "cell_type": "code",
   "execution_count": null,
   "metadata": {},
   "outputs": [],
   "source": []
  },
  {
   "cell_type": "code",
   "execution_count": null,
   "metadata": {},
   "outputs": [],
   "source": []
  }
 ],
 "metadata": {
  "kernelspec": {
   "display_name": "Python 3",
   "language": "python",
   "name": "python3"
  },
  "language_info": {
   "codemirror_mode": {
    "name": "ipython",
    "version": 3
   },
   "file_extension": ".py",
   "mimetype": "text/x-python",
   "name": "python",
   "nbconvert_exporter": "python",
   "pygments_lexer": "ipython3",
   "version": "3.7.6"
  },
  "toc": {
   "base_numbering": 1,
   "nav_menu": {},
   "number_sections": true,
   "sideBar": true,
   "skip_h1_title": false,
   "title_cell": "Table of Contents",
   "title_sidebar": "Contents",
   "toc_cell": true,
   "toc_position": {},
   "toc_section_display": true,
   "toc_window_display": false
  }
 },
 "nbformat": 4,
 "nbformat_minor": 2
}
