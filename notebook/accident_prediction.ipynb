{
 "cells": [
  {
   "cell_type": "markdown",
   "metadata": {},
   "source": [
    "<font size=\"5\">**Police Officer Attdence Prediction**</font>\n",
    "\n",
    "\n",
    "\n",
    "Author: Kai Chen\n",
    "\n",
    "Date: April, 2020\n",
    "\n",
    "\n",
    "\n",
    "<font size=\"4\">**Introduction**</font>\n",
    "\n",
    "This notebook contains my solution of analyzing the road accident safety data found at https://data.gov.uk/dataset/road-accidents-safety- .\n",
    "\n",
    "- This analysis includes a model that predicts if a police officer is likely to attend an accident or not.\n",
    "\n",
    "- The analysis focuses initially only on the accidents from the 2017 dataset.\n",
    "\n",
    "- The notebook summarizes my initial findings. \n",
    "\n",
    "- This is not an exercise that develops a final solution – more of first iteration.\n",
    "\n",
    "- The notebook describes how I might design and implement for a long term approach a data infrastructure for processing all additional data (large amount including all available years) given the desired use case above. \n"
   ]
  },
  {
   "cell_type": "markdown",
   "metadata": {
    "toc": true
   },
   "source": [
    "<h1>Table of Contents<span class=\"tocSkip\"></span></h1>\n",
    "<div class=\"toc\"><ul class=\"toc-item\"><li><span><a href=\"#Getting-the-data\" data-toc-modified-id=\"Getting-the-data-1\"><span class=\"toc-item-num\">1&nbsp;&nbsp;</span>Getting the data</a></span></li><li><span><a href=\"#Preprocessing-the-data\" data-toc-modified-id=\"Preprocessing-the-data-2\"><span class=\"toc-item-num\">2&nbsp;&nbsp;</span>Preprocessing the data</a></span><ul class=\"toc-item\"><li><span><a href=\"#Converting-column-'Date'-into-the-python-date-time-format\" data-toc-modified-id=\"Converting-column-'Date'-into-the-python-date-time-format-2.1\"><span class=\"toc-item-num\">2.1&nbsp;&nbsp;</span>Converting column 'Date' into the python date time format</a></span></li><li><span><a href=\"#Handling-missing-values\" data-toc-modified-id=\"Handling-missing-values-2.2\"><span class=\"toc-item-num\">2.2&nbsp;&nbsp;</span>Handling missing values</a></span></li></ul></li><li><span><a href=\"#Exploratory-Data-Analysis-(EDA)\" data-toc-modified-id=\"Exploratory-Data-Analysis-(EDA)-3\"><span class=\"toc-item-num\">3&nbsp;&nbsp;</span>Exploratory Data Analysis (EDA)</a></span><ul class=\"toc-item\"><li><span><a href=\"#Plot-number-of-accidents-per-month\" data-toc-modified-id=\"Plot-number-of-accidents-per-month-3.1\"><span class=\"toc-item-num\">3.1&nbsp;&nbsp;</span>Plot number of accidents per month</a></span></li><li><span><a href=\"#Show-number-of-accidents-in-each-week-day\" data-toc-modified-id=\"Show-number-of-accidents-in-each-week-day-3.2\"><span class=\"toc-item-num\">3.2&nbsp;&nbsp;</span>Show number of accidents in each week day</a></span><ul class=\"toc-item\"><li><span><a href=\"#Plot-number-of-accidents-in-the-weekdays-of-each-month\" data-toc-modified-id=\"Plot-number-of-accidents-in-the-weekdays-of-each-month-3.2.1\"><span class=\"toc-item-num\">3.2.1&nbsp;&nbsp;</span>Plot number of accidents in the weekdays of each month</a></span></li></ul></li><li><span><a href=\"#How-weather-affects-the-number-of-accidents?\" data-toc-modified-id=\"How-weather-affects-the-number-of-accidents?-3.3\"><span class=\"toc-item-num\">3.3&nbsp;&nbsp;</span>How weather affects the number of accidents?</a></span></li><li><span><a href=\"#Percentage-of-each-category-of-accident-severity\" data-toc-modified-id=\"Percentage-of-each-category-of-accident-severity-3.4\"><span class=\"toc-item-num\">3.4&nbsp;&nbsp;</span>Percentage of each category of accident severity</a></span><ul class=\"toc-item\"><li><span><a href=\"#Number-of-fatalities-over-the-months?\" data-toc-modified-id=\"Number-of-fatalities-over-the-months?-3.4.1\"><span class=\"toc-item-num\">3.4.1&nbsp;&nbsp;</span>Number of fatalities over the months?</a></span></li></ul></li><li><span><a href=\"#Number-of-accidents-throughout-the-day\" data-toc-modified-id=\"Number-of-accidents-throughout-the-day-3.5\"><span class=\"toc-item-num\">3.5&nbsp;&nbsp;</span>Number of accidents throughout the day</a></span><ul class=\"toc-item\"><li><span><a href=\"#Number-of-accidents-through-the-time\" data-toc-modified-id=\"Number-of-accidents-through-the-time-3.5.1\"><span class=\"toc-item-num\">3.5.1&nbsp;&nbsp;</span>Number of accidents through the time</a></span></li></ul></li><li><span><a href=\"#Statistics-of-Vehicles\" data-toc-modified-id=\"Statistics-of-Vehicles-3.6\"><span class=\"toc-item-num\">3.6&nbsp;&nbsp;</span>Statistics of Vehicles</a></span><ul class=\"toc-item\"><li><span><a href=\"#Sex-and-Age-Band\" data-toc-modified-id=\"Sex-and-Age-Band-3.6.1\"><span class=\"toc-item-num\">3.6.1&nbsp;&nbsp;</span>Sex and Age Band</a></span></li><li><span><a href=\"#Manoeuvre\" data-toc-modified-id=\"Manoeuvre-3.6.2\"><span class=\"toc-item-num\">3.6.2&nbsp;&nbsp;</span>Manoeuvre</a></span></li></ul></li></ul></li><li><span><a href=\"#Predicting-Police-Officer-Attendance\" data-toc-modified-id=\"Predicting-Police-Officer-Attendance-4\"><span class=\"toc-item-num\">4&nbsp;&nbsp;</span>Predicting Police Officer Attendance</a></span><ul class=\"toc-item\"><li><span><a href=\"#Merging-the-data\" data-toc-modified-id=\"Merging-the-data-4.1\"><span class=\"toc-item-num\">4.1&nbsp;&nbsp;</span>Merging the data</a></span></li><li><span><a href=\"#Feature-engineering\" data-toc-modified-id=\"Feature-engineering-4.2\"><span class=\"toc-item-num\">4.2&nbsp;&nbsp;</span>Feature engineering</a></span></li><li><span><a href=\"#Preparing-the-target-variable\" data-toc-modified-id=\"Preparing-the-target-variable-4.3\"><span class=\"toc-item-num\">4.3&nbsp;&nbsp;</span>Preparing the target variable</a></span></li><li><span><a href=\"#Splitting-the-dataset-into-train-and-test-sets\" data-toc-modified-id=\"Splitting-the-dataset-into-train-and-test-sets-4.4\"><span class=\"toc-item-num\">4.4&nbsp;&nbsp;</span>Splitting the dataset into train and test sets</a></span></li><li><span><a href=\"#Evaluating-machine-learning-models\" data-toc-modified-id=\"Evaluating-machine-learning-models-4.5\"><span class=\"toc-item-num\">4.5&nbsp;&nbsp;</span>Evaluating machine learning models</a></span><ul class=\"toc-item\"><li><span><a href=\"#RandomForest\" data-toc-modified-id=\"RandomForest-4.5.1\"><span class=\"toc-item-num\">4.5.1&nbsp;&nbsp;</span>RandomForest</a></span></li><li><span><a href=\"#LightGBM\" data-toc-modified-id=\"LightGBM-4.5.2\"><span class=\"toc-item-num\">4.5.2&nbsp;&nbsp;</span>LightGBM</a></span></li><li><span><a href=\"#Hyperparameter-tuning\" data-toc-modified-id=\"Hyperparameter-tuning-4.5.3\"><span class=\"toc-item-num\">4.5.3&nbsp;&nbsp;</span>Hyperparameter tuning</a></span></li><li><span><a href=\"#Stacking\" data-toc-modified-id=\"Stacking-4.5.4\"><span class=\"toc-item-num\">4.5.4&nbsp;&nbsp;</span>Stacking</a></span></li><li><span><a href=\"#SMOTE\" data-toc-modified-id=\"SMOTE-4.5.5\"><span class=\"toc-item-num\">4.5.5&nbsp;&nbsp;</span>SMOTE</a></span></li><li><span><a href=\"#SHAP-feature-analysis\" data-toc-modified-id=\"SHAP-feature-analysis-4.5.6\"><span class=\"toc-item-num\">4.5.6&nbsp;&nbsp;</span>SHAP feature analysis</a></span></li></ul></li></ul></li><li><span><a href=\"#System-Design\" data-toc-modified-id=\"System-Design-5\"><span class=\"toc-item-num\">5&nbsp;&nbsp;</span>System Design</a></span></li><li><span><a href=\"#Conclusion\" data-toc-modified-id=\"Conclusion-6\"><span class=\"toc-item-num\">6&nbsp;&nbsp;</span>Conclusion</a></span></li></ul></div>"
   ]
  },
  {
   "cell_type": "code",
   "execution_count": 299,
   "metadata": {
    "ExecuteTime": {
     "end_time": "2020-04-24T18:44:55.963206Z",
     "start_time": "2020-04-24T18:44:54.661920Z"
    }
   },
   "outputs": [],
   "source": [
    "import pandas as pd\n",
    "import numpy as np\n",
    "\n",
    "import glob\n",
    "\n",
    "import matplotlib.pyplot as plt\n",
    "import seaborn as sns\n",
    "\n",
    "import shap\n",
    "\n",
    "\n",
    "from sklearn.ensemble import RandomForestClassifier\n",
    "from sklearn.metrics import classification_report, confusion_matrix, f1_score\n",
    "from sklearn.model_selection import KFold, cross_val_score\n",
    "from sklearn.model_selection import train_test_split\n",
    "from sklearn import preprocessing\n",
    "from sklearn.metrics import average_precision_score, auc, roc_curve, precision_recall_curve\n",
    "from sklearn.model_selection import GridSearchCV, RandomizedSearchCV\n",
    "\n",
    "from imblearn.over_sampling import SMOTE\n",
    "\n",
    "import lightgbm as lgbm\n",
    "\n",
    "from imblearn.over_sampling import SMOTE\n",
    "\n",
    "import warnings\n",
    "warnings.filterwarnings(\"ignore\")\n"
   ]
  },
  {
   "cell_type": "markdown",
   "metadata": {},
   "source": [
    "# Getting the data"
   ]
  },
  {
   "cell_type": "code",
   "execution_count": 6,
   "metadata": {
    "ExecuteTime": {
     "end_time": "2020-04-24T16:54:53.876519Z",
     "start_time": "2020-04-24T16:54:53.874116Z"
    }
   },
   "outputs": [],
   "source": [
    "data_folder = 'data'\n",
    "file_cas = '../{}/Cas.csv'.format(data_folder)\n",
    "file_acc = '../{}/Acc.csv'.format(data_folder)\n",
    "file_veh = '../{}/Veh.csv'.format(data_folder)\n"
   ]
  },
  {
   "cell_type": "code",
   "execution_count": 7,
   "metadata": {
    "ExecuteTime": {
     "end_time": "2020-04-24T16:54:54.903242Z",
     "start_time": "2020-04-24T16:54:53.878051Z"
    }
   },
   "outputs": [],
   "source": [
    "df_acc = pd.read_csv(file_acc)\n",
    "df_cas = pd.read_csv(file_cas)\n",
    "df_veh = pd.read_csv(file_veh)\n"
   ]
  },
  {
   "cell_type": "code",
   "execution_count": 8,
   "metadata": {
    "ExecuteTime": {
     "end_time": "2020-04-24T16:54:54.923056Z",
     "start_time": "2020-04-24T16:54:54.905070Z"
    }
   },
   "outputs": [
    {
     "data": {
      "text/html": [
       "<div>\n",
       "<style scoped>\n",
       "    .dataframe tbody tr th:only-of-type {\n",
       "        vertical-align: middle;\n",
       "    }\n",
       "\n",
       "    .dataframe tbody tr th {\n",
       "        vertical-align: top;\n",
       "    }\n",
       "\n",
       "    .dataframe thead th {\n",
       "        text-align: right;\n",
       "    }\n",
       "</style>\n",
       "<table border=\"1\" class=\"dataframe\">\n",
       "  <thead>\n",
       "    <tr style=\"text-align: right;\">\n",
       "      <th></th>\n",
       "      <th>Accident_Index</th>\n",
       "      <th>Location_Easting_OSGR</th>\n",
       "      <th>Location_Northing_OSGR</th>\n",
       "      <th>Longitude</th>\n",
       "      <th>Latitude</th>\n",
       "      <th>Police_Force</th>\n",
       "      <th>Accident_Severity</th>\n",
       "      <th>Number_of_Vehicles</th>\n",
       "      <th>Number_of_Casualties</th>\n",
       "      <th>Date</th>\n",
       "      <th>...</th>\n",
       "      <th>Pedestrian_Crossing-Human_Control</th>\n",
       "      <th>Pedestrian_Crossing-Physical_Facilities</th>\n",
       "      <th>Light_Conditions</th>\n",
       "      <th>Weather_Conditions</th>\n",
       "      <th>Road_Surface_Conditions</th>\n",
       "      <th>Special_Conditions_at_Site</th>\n",
       "      <th>Carriageway_Hazards</th>\n",
       "      <th>Urban_or_Rural_Area</th>\n",
       "      <th>Did_Police_Officer_Attend_Scene_of_Accident</th>\n",
       "      <th>LSOA_of_Accident_Location</th>\n",
       "    </tr>\n",
       "  </thead>\n",
       "  <tbody>\n",
       "    <tr>\n",
       "      <th>0</th>\n",
       "      <td>2017010001708</td>\n",
       "      <td>532920.0</td>\n",
       "      <td>196330.0</td>\n",
       "      <td>-0.080107</td>\n",
       "      <td>51.650061</td>\n",
       "      <td>1</td>\n",
       "      <td>1</td>\n",
       "      <td>2</td>\n",
       "      <td>3</td>\n",
       "      <td>05/08/2017</td>\n",
       "      <td>...</td>\n",
       "      <td>0</td>\n",
       "      <td>0</td>\n",
       "      <td>4</td>\n",
       "      <td>1</td>\n",
       "      <td>1</td>\n",
       "      <td>0</td>\n",
       "      <td>0</td>\n",
       "      <td>1</td>\n",
       "      <td>1</td>\n",
       "      <td>E01001450</td>\n",
       "    </tr>\n",
       "    <tr>\n",
       "      <th>1</th>\n",
       "      <td>2017010009342</td>\n",
       "      <td>526790.0</td>\n",
       "      <td>181970.0</td>\n",
       "      <td>-0.173845</td>\n",
       "      <td>51.522425</td>\n",
       "      <td>1</td>\n",
       "      <td>3</td>\n",
       "      <td>2</td>\n",
       "      <td>1</td>\n",
       "      <td>01/01/2017</td>\n",
       "      <td>...</td>\n",
       "      <td>0</td>\n",
       "      <td>0</td>\n",
       "      <td>4</td>\n",
       "      <td>1</td>\n",
       "      <td>2</td>\n",
       "      <td>0</td>\n",
       "      <td>0</td>\n",
       "      <td>1</td>\n",
       "      <td>1</td>\n",
       "      <td>E01004702</td>\n",
       "    </tr>\n",
       "    <tr>\n",
       "      <th>2</th>\n",
       "      <td>2017010009344</td>\n",
       "      <td>535200.0</td>\n",
       "      <td>181260.0</td>\n",
       "      <td>-0.052969</td>\n",
       "      <td>51.514096</td>\n",
       "      <td>1</td>\n",
       "      <td>3</td>\n",
       "      <td>3</td>\n",
       "      <td>1</td>\n",
       "      <td>01/01/2017</td>\n",
       "      <td>...</td>\n",
       "      <td>0</td>\n",
       "      <td>0</td>\n",
       "      <td>4</td>\n",
       "      <td>1</td>\n",
       "      <td>1</td>\n",
       "      <td>0</td>\n",
       "      <td>0</td>\n",
       "      <td>1</td>\n",
       "      <td>1</td>\n",
       "      <td>E01004298</td>\n",
       "    </tr>\n",
       "    <tr>\n",
       "      <th>3</th>\n",
       "      <td>2017010009348</td>\n",
       "      <td>534340.0</td>\n",
       "      <td>193560.0</td>\n",
       "      <td>-0.060658</td>\n",
       "      <td>51.624832</td>\n",
       "      <td>1</td>\n",
       "      <td>3</td>\n",
       "      <td>2</td>\n",
       "      <td>1</td>\n",
       "      <td>01/01/2017</td>\n",
       "      <td>...</td>\n",
       "      <td>0</td>\n",
       "      <td>4</td>\n",
       "      <td>4</td>\n",
       "      <td>2</td>\n",
       "      <td>2</td>\n",
       "      <td>0</td>\n",
       "      <td>0</td>\n",
       "      <td>1</td>\n",
       "      <td>1</td>\n",
       "      <td>E01001429</td>\n",
       "    </tr>\n",
       "    <tr>\n",
       "      <th>4</th>\n",
       "      <td>2017010009350</td>\n",
       "      <td>533680.0</td>\n",
       "      <td>187820.0</td>\n",
       "      <td>-0.072372</td>\n",
       "      <td>51.573408</td>\n",
       "      <td>1</td>\n",
       "      <td>2</td>\n",
       "      <td>1</td>\n",
       "      <td>1</td>\n",
       "      <td>01/01/2017</td>\n",
       "      <td>...</td>\n",
       "      <td>0</td>\n",
       "      <td>5</td>\n",
       "      <td>4</td>\n",
       "      <td>1</td>\n",
       "      <td>2</td>\n",
       "      <td>0</td>\n",
       "      <td>0</td>\n",
       "      <td>1</td>\n",
       "      <td>1</td>\n",
       "      <td>E01001808</td>\n",
       "    </tr>\n",
       "  </tbody>\n",
       "</table>\n",
       "<p>5 rows × 32 columns</p>\n",
       "</div>"
      ],
      "text/plain": [
       "  Accident_Index  Location_Easting_OSGR  Location_Northing_OSGR  Longitude  \\\n",
       "0  2017010001708               532920.0                196330.0  -0.080107   \n",
       "1  2017010009342               526790.0                181970.0  -0.173845   \n",
       "2  2017010009344               535200.0                181260.0  -0.052969   \n",
       "3  2017010009348               534340.0                193560.0  -0.060658   \n",
       "4  2017010009350               533680.0                187820.0  -0.072372   \n",
       "\n",
       "    Latitude  Police_Force  Accident_Severity  Number_of_Vehicles  \\\n",
       "0  51.650061             1                  1                   2   \n",
       "1  51.522425             1                  3                   2   \n",
       "2  51.514096             1                  3                   3   \n",
       "3  51.624832             1                  3                   2   \n",
       "4  51.573408             1                  2                   1   \n",
       "\n",
       "   Number_of_Casualties        Date  ...  Pedestrian_Crossing-Human_Control  \\\n",
       "0                     3  05/08/2017  ...                                  0   \n",
       "1                     1  01/01/2017  ...                                  0   \n",
       "2                     1  01/01/2017  ...                                  0   \n",
       "3                     1  01/01/2017  ...                                  0   \n",
       "4                     1  01/01/2017  ...                                  0   \n",
       "\n",
       "  Pedestrian_Crossing-Physical_Facilities  Light_Conditions  \\\n",
       "0                                       0                 4   \n",
       "1                                       0                 4   \n",
       "2                                       0                 4   \n",
       "3                                       4                 4   \n",
       "4                                       5                 4   \n",
       "\n",
       "  Weather_Conditions  Road_Surface_Conditions  Special_Conditions_at_Site  \\\n",
       "0                  1                        1                           0   \n",
       "1                  1                        2                           0   \n",
       "2                  1                        1                           0   \n",
       "3                  2                        2                           0   \n",
       "4                  1                        2                           0   \n",
       "\n",
       "   Carriageway_Hazards  Urban_or_Rural_Area  \\\n",
       "0                    0                    1   \n",
       "1                    0                    1   \n",
       "2                    0                    1   \n",
       "3                    0                    1   \n",
       "4                    0                    1   \n",
       "\n",
       "   Did_Police_Officer_Attend_Scene_of_Accident  LSOA_of_Accident_Location  \n",
       "0                                            1                  E01001450  \n",
       "1                                            1                  E01004702  \n",
       "2                                            1                  E01004298  \n",
       "3                                            1                  E01001429  \n",
       "4                                            1                  E01001808  \n",
       "\n",
       "[5 rows x 32 columns]"
      ]
     },
     "execution_count": 8,
     "metadata": {},
     "output_type": "execute_result"
    }
   ],
   "source": [
    "df_acc.head()"
   ]
  },
  {
   "cell_type": "code",
   "execution_count": 9,
   "metadata": {
    "ExecuteTime": {
     "end_time": "2020-04-24T16:54:54.928088Z",
     "start_time": "2020-04-24T16:54:54.924560Z"
    }
   },
   "outputs": [
    {
     "data": {
      "text/plain": [
       "(129982, 32)"
      ]
     },
     "execution_count": 9,
     "metadata": {},
     "output_type": "execute_result"
    }
   ],
   "source": [
    "df_acc.shape"
   ]
  },
  {
   "cell_type": "code",
   "execution_count": 10,
   "metadata": {
    "ExecuteTime": {
     "end_time": "2020-04-24T16:54:55.013111Z",
     "start_time": "2020-04-24T16:54:54.929557Z"
    }
   },
   "outputs": [
    {
     "name": "stdout",
     "output_type": "stream",
     "text": [
      "<class 'pandas.core.frame.DataFrame'>\n",
      "RangeIndex: 129982 entries, 0 to 129981\n",
      "Data columns (total 32 columns):\n",
      " #   Column                                       Non-Null Count   Dtype  \n",
      "---  ------                                       --------------   -----  \n",
      " 0   Accident_Index                               129982 non-null  object \n",
      " 1   Location_Easting_OSGR                        129963 non-null  float64\n",
      " 2   Location_Northing_OSGR                       129963 non-null  float64\n",
      " 3   Longitude                                    129953 non-null  float64\n",
      " 4   Latitude                                     129953 non-null  float64\n",
      " 5   Police_Force                                 129982 non-null  int64  \n",
      " 6   Accident_Severity                            129982 non-null  int64  \n",
      " 7   Number_of_Vehicles                           129982 non-null  int64  \n",
      " 8   Number_of_Casualties                         129982 non-null  int64  \n",
      " 9   Date                                         129982 non-null  object \n",
      " 10  Day_of_Week                                  129982 non-null  int64  \n",
      " 11  Time                                         129979 non-null  object \n",
      " 12  Local_Authority_(District)                   129982 non-null  int64  \n",
      " 13  Local_Authority_(Highway)                    129982 non-null  object \n",
      " 14  1st_Road_Class                               129982 non-null  int64  \n",
      " 15  1st_Road_Number                              129982 non-null  int64  \n",
      " 16  Road_Type                                    129982 non-null  int64  \n",
      " 17  Speed_limit                                  129982 non-null  int64  \n",
      " 18  Junction_Detail                              129982 non-null  int64  \n",
      " 19  Junction_Control                             129982 non-null  int64  \n",
      " 20  2nd_Road_Class                               129982 non-null  int64  \n",
      " 21  2nd_Road_Number                              129982 non-null  int64  \n",
      " 22  Pedestrian_Crossing-Human_Control            129982 non-null  int64  \n",
      " 23  Pedestrian_Crossing-Physical_Facilities      129982 non-null  int64  \n",
      " 24  Light_Conditions                             129982 non-null  int64  \n",
      " 25  Weather_Conditions                           129982 non-null  int64  \n",
      " 26  Road_Surface_Conditions                      129982 non-null  int64  \n",
      " 27  Special_Conditions_at_Site                   129982 non-null  int64  \n",
      " 28  Carriageway_Hazards                          129982 non-null  int64  \n",
      " 29  Urban_or_Rural_Area                          129982 non-null  int64  \n",
      " 30  Did_Police_Officer_Attend_Scene_of_Accident  129982 non-null  int64  \n",
      " 31  LSOA_of_Accident_Location                    122851 non-null  object \n",
      "dtypes: float64(4), int64(23), object(5)\n",
      "memory usage: 31.7+ MB\n"
     ]
    }
   ],
   "source": [
    "df_acc.info()"
   ]
  },
  {
   "cell_type": "code",
   "execution_count": 11,
   "metadata": {
    "ExecuteTime": {
     "end_time": "2020-04-24T16:54:55.029034Z",
     "start_time": "2020-04-24T16:54:55.015093Z"
    }
   },
   "outputs": [
    {
     "data": {
      "text/html": [
       "<div>\n",
       "<style scoped>\n",
       "    .dataframe tbody tr th:only-of-type {\n",
       "        vertical-align: middle;\n",
       "    }\n",
       "\n",
       "    .dataframe tbody tr th {\n",
       "        vertical-align: top;\n",
       "    }\n",
       "\n",
       "    .dataframe thead th {\n",
       "        text-align: right;\n",
       "    }\n",
       "</style>\n",
       "<table border=\"1\" class=\"dataframe\">\n",
       "  <thead>\n",
       "    <tr style=\"text-align: right;\">\n",
       "      <th></th>\n",
       "      <th>Accident_Index</th>\n",
       "      <th>Vehicle_Reference</th>\n",
       "      <th>Casualty_Reference</th>\n",
       "      <th>Casualty_Class</th>\n",
       "      <th>Sex_of_Casualty</th>\n",
       "      <th>Age_of_Casualty</th>\n",
       "      <th>Age_Band_of_Casualty</th>\n",
       "      <th>Casualty_Severity</th>\n",
       "      <th>Pedestrian_Location</th>\n",
       "      <th>Pedestrian_Movement</th>\n",
       "      <th>Car_Passenger</th>\n",
       "      <th>Bus_or_Coach_Passenger</th>\n",
       "      <th>Pedestrian_Road_Maintenance_Worker</th>\n",
       "      <th>Casualty_Type</th>\n",
       "      <th>Casualty_Home_Area_Type</th>\n",
       "      <th>Casualty_IMD_Decile</th>\n",
       "    </tr>\n",
       "  </thead>\n",
       "  <tbody>\n",
       "    <tr>\n",
       "      <th>0</th>\n",
       "      <td>2017010001708</td>\n",
       "      <td>1</td>\n",
       "      <td>1</td>\n",
       "      <td>2</td>\n",
       "      <td>2</td>\n",
       "      <td>18</td>\n",
       "      <td>4</td>\n",
       "      <td>3</td>\n",
       "      <td>0</td>\n",
       "      <td>0</td>\n",
       "      <td>1</td>\n",
       "      <td>0</td>\n",
       "      <td>0</td>\n",
       "      <td>9</td>\n",
       "      <td>1</td>\n",
       "      <td>2</td>\n",
       "    </tr>\n",
       "    <tr>\n",
       "      <th>1</th>\n",
       "      <td>2017010001708</td>\n",
       "      <td>2</td>\n",
       "      <td>2</td>\n",
       "      <td>1</td>\n",
       "      <td>1</td>\n",
       "      <td>19</td>\n",
       "      <td>4</td>\n",
       "      <td>2</td>\n",
       "      <td>0</td>\n",
       "      <td>0</td>\n",
       "      <td>0</td>\n",
       "      <td>0</td>\n",
       "      <td>0</td>\n",
       "      <td>2</td>\n",
       "      <td>-1</td>\n",
       "      <td>-1</td>\n",
       "    </tr>\n",
       "    <tr>\n",
       "      <th>2</th>\n",
       "      <td>2017010001708</td>\n",
       "      <td>2</td>\n",
       "      <td>3</td>\n",
       "      <td>2</td>\n",
       "      <td>1</td>\n",
       "      <td>18</td>\n",
       "      <td>4</td>\n",
       "      <td>1</td>\n",
       "      <td>0</td>\n",
       "      <td>0</td>\n",
       "      <td>0</td>\n",
       "      <td>0</td>\n",
       "      <td>0</td>\n",
       "      <td>2</td>\n",
       "      <td>-1</td>\n",
       "      <td>-1</td>\n",
       "    </tr>\n",
       "    <tr>\n",
       "      <th>3</th>\n",
       "      <td>2017010009342</td>\n",
       "      <td>1</td>\n",
       "      <td>1</td>\n",
       "      <td>2</td>\n",
       "      <td>2</td>\n",
       "      <td>33</td>\n",
       "      <td>6</td>\n",
       "      <td>3</td>\n",
       "      <td>0</td>\n",
       "      <td>0</td>\n",
       "      <td>1</td>\n",
       "      <td>0</td>\n",
       "      <td>0</td>\n",
       "      <td>9</td>\n",
       "      <td>1</td>\n",
       "      <td>5</td>\n",
       "    </tr>\n",
       "    <tr>\n",
       "      <th>4</th>\n",
       "      <td>2017010009344</td>\n",
       "      <td>3</td>\n",
       "      <td>1</td>\n",
       "      <td>1</td>\n",
       "      <td>2</td>\n",
       "      <td>31</td>\n",
       "      <td>6</td>\n",
       "      <td>3</td>\n",
       "      <td>0</td>\n",
       "      <td>0</td>\n",
       "      <td>0</td>\n",
       "      <td>0</td>\n",
       "      <td>0</td>\n",
       "      <td>9</td>\n",
       "      <td>1</td>\n",
       "      <td>5</td>\n",
       "    </tr>\n",
       "  </tbody>\n",
       "</table>\n",
       "</div>"
      ],
      "text/plain": [
       "  Accident_Index  Vehicle_Reference  Casualty_Reference  Casualty_Class  \\\n",
       "0  2017010001708                  1                   1               2   \n",
       "1  2017010001708                  2                   2               1   \n",
       "2  2017010001708                  2                   3               2   \n",
       "3  2017010009342                  1                   1               2   \n",
       "4  2017010009344                  3                   1               1   \n",
       "\n",
       "   Sex_of_Casualty  Age_of_Casualty  Age_Band_of_Casualty  Casualty_Severity  \\\n",
       "0                2               18                     4                  3   \n",
       "1                1               19                     4                  2   \n",
       "2                1               18                     4                  1   \n",
       "3                2               33                     6                  3   \n",
       "4                2               31                     6                  3   \n",
       "\n",
       "   Pedestrian_Location  Pedestrian_Movement  Car_Passenger  \\\n",
       "0                    0                    0              1   \n",
       "1                    0                    0              0   \n",
       "2                    0                    0              0   \n",
       "3                    0                    0              1   \n",
       "4                    0                    0              0   \n",
       "\n",
       "   Bus_or_Coach_Passenger  Pedestrian_Road_Maintenance_Worker  Casualty_Type  \\\n",
       "0                       0                                   0              9   \n",
       "1                       0                                   0              2   \n",
       "2                       0                                   0              2   \n",
       "3                       0                                   0              9   \n",
       "4                       0                                   0              9   \n",
       "\n",
       "   Casualty_Home_Area_Type  Casualty_IMD_Decile  \n",
       "0                        1                    2  \n",
       "1                       -1                   -1  \n",
       "2                       -1                   -1  \n",
       "3                        1                    5  \n",
       "4                        1                    5  "
      ]
     },
     "execution_count": 11,
     "metadata": {},
     "output_type": "execute_result"
    }
   ],
   "source": [
    "df_cas.head()"
   ]
  },
  {
   "cell_type": "code",
   "execution_count": 12,
   "metadata": {
    "ExecuteTime": {
     "end_time": "2020-04-24T16:54:55.035528Z",
     "start_time": "2020-04-24T16:54:55.032212Z"
    }
   },
   "outputs": [
    {
     "data": {
      "text/plain": [
       "(170993, 16)"
      ]
     },
     "execution_count": 12,
     "metadata": {},
     "output_type": "execute_result"
    }
   ],
   "source": [
    "df_cas.shape"
   ]
  },
  {
   "cell_type": "code",
   "execution_count": 13,
   "metadata": {
    "ExecuteTime": {
     "end_time": "2020-04-24T16:54:55.099063Z",
     "start_time": "2020-04-24T16:54:55.039319Z"
    }
   },
   "outputs": [
    {
     "name": "stdout",
     "output_type": "stream",
     "text": [
      "<class 'pandas.core.frame.DataFrame'>\n",
      "RangeIndex: 170993 entries, 0 to 170992\n",
      "Data columns (total 16 columns):\n",
      " #   Column                              Non-Null Count   Dtype \n",
      "---  ------                              --------------   ----- \n",
      " 0   Accident_Index                      170993 non-null  object\n",
      " 1   Vehicle_Reference                   170993 non-null  int64 \n",
      " 2   Casualty_Reference                  170993 non-null  int64 \n",
      " 3   Casualty_Class                      170993 non-null  int64 \n",
      " 4   Sex_of_Casualty                     170993 non-null  int64 \n",
      " 5   Age_of_Casualty                     170993 non-null  int64 \n",
      " 6   Age_Band_of_Casualty                170993 non-null  int64 \n",
      " 7   Casualty_Severity                   170993 non-null  int64 \n",
      " 8   Pedestrian_Location                 170993 non-null  int64 \n",
      " 9   Pedestrian_Movement                 170993 non-null  int64 \n",
      " 10  Car_Passenger                       170993 non-null  int64 \n",
      " 11  Bus_or_Coach_Passenger              170993 non-null  int64 \n",
      " 12  Pedestrian_Road_Maintenance_Worker  170993 non-null  int64 \n",
      " 13  Casualty_Type                       170993 non-null  int64 \n",
      " 14  Casualty_Home_Area_Type             170993 non-null  int64 \n",
      " 15  Casualty_IMD_Decile                 170993 non-null  int64 \n",
      "dtypes: int64(15), object(1)\n",
      "memory usage: 20.9+ MB\n"
     ]
    }
   ],
   "source": [
    "df_cas.info()"
   ]
  },
  {
   "cell_type": "code",
   "execution_count": 14,
   "metadata": {
    "ExecuteTime": {
     "end_time": "2020-04-24T16:54:55.118266Z",
     "start_time": "2020-04-24T16:54:55.100912Z"
    }
   },
   "outputs": [
    {
     "data": {
      "text/html": [
       "<div>\n",
       "<style scoped>\n",
       "    .dataframe tbody tr th:only-of-type {\n",
       "        vertical-align: middle;\n",
       "    }\n",
       "\n",
       "    .dataframe tbody tr th {\n",
       "        vertical-align: top;\n",
       "    }\n",
       "\n",
       "    .dataframe thead th {\n",
       "        text-align: right;\n",
       "    }\n",
       "</style>\n",
       "<table border=\"1\" class=\"dataframe\">\n",
       "  <thead>\n",
       "    <tr style=\"text-align: right;\">\n",
       "      <th></th>\n",
       "      <th>Accident_Index</th>\n",
       "      <th>Vehicle_Reference</th>\n",
       "      <th>Vehicle_Type</th>\n",
       "      <th>Towing_and_Articulation</th>\n",
       "      <th>Vehicle_Manoeuvre</th>\n",
       "      <th>Vehicle_Location-Restricted_Lane</th>\n",
       "      <th>Junction_Location</th>\n",
       "      <th>Skidding_and_Overturning</th>\n",
       "      <th>Hit_Object_in_Carriageway</th>\n",
       "      <th>Vehicle_Leaving_Carriageway</th>\n",
       "      <th>...</th>\n",
       "      <th>Journey_Purpose_of_Driver</th>\n",
       "      <th>Sex_of_Driver</th>\n",
       "      <th>Age_of_Driver</th>\n",
       "      <th>Age_Band_of_Driver</th>\n",
       "      <th>Engine_Capacity_(CC)</th>\n",
       "      <th>Propulsion_Code</th>\n",
       "      <th>Age_of_Vehicle</th>\n",
       "      <th>Driver_IMD_Decile</th>\n",
       "      <th>Driver_Home_Area_Type</th>\n",
       "      <th>Vehicle_IMD_Decile</th>\n",
       "    </tr>\n",
       "  </thead>\n",
       "  <tbody>\n",
       "    <tr>\n",
       "      <th>0</th>\n",
       "      <td>2017010001708</td>\n",
       "      <td>1</td>\n",
       "      <td>9</td>\n",
       "      <td>0</td>\n",
       "      <td>18</td>\n",
       "      <td>0</td>\n",
       "      <td>0</td>\n",
       "      <td>0</td>\n",
       "      <td>0</td>\n",
       "      <td>0</td>\n",
       "      <td>...</td>\n",
       "      <td>6</td>\n",
       "      <td>1</td>\n",
       "      <td>24</td>\n",
       "      <td>5</td>\n",
       "      <td>1997</td>\n",
       "      <td>2</td>\n",
       "      <td>1</td>\n",
       "      <td>-1</td>\n",
       "      <td>-1</td>\n",
       "      <td>-1</td>\n",
       "    </tr>\n",
       "    <tr>\n",
       "      <th>1</th>\n",
       "      <td>2017010001708</td>\n",
       "      <td>2</td>\n",
       "      <td>2</td>\n",
       "      <td>0</td>\n",
       "      <td>18</td>\n",
       "      <td>0</td>\n",
       "      <td>0</td>\n",
       "      <td>1</td>\n",
       "      <td>0</td>\n",
       "      <td>0</td>\n",
       "      <td>...</td>\n",
       "      <td>6</td>\n",
       "      <td>1</td>\n",
       "      <td>19</td>\n",
       "      <td>4</td>\n",
       "      <td>-1</td>\n",
       "      <td>-1</td>\n",
       "      <td>-1</td>\n",
       "      <td>-1</td>\n",
       "      <td>-1</td>\n",
       "      <td>-1</td>\n",
       "    </tr>\n",
       "    <tr>\n",
       "      <th>2</th>\n",
       "      <td>2017010009342</td>\n",
       "      <td>1</td>\n",
       "      <td>9</td>\n",
       "      <td>0</td>\n",
       "      <td>18</td>\n",
       "      <td>0</td>\n",
       "      <td>1</td>\n",
       "      <td>0</td>\n",
       "      <td>0</td>\n",
       "      <td>0</td>\n",
       "      <td>...</td>\n",
       "      <td>6</td>\n",
       "      <td>1</td>\n",
       "      <td>33</td>\n",
       "      <td>6</td>\n",
       "      <td>1797</td>\n",
       "      <td>8</td>\n",
       "      <td>8</td>\n",
       "      <td>9</td>\n",
       "      <td>1</td>\n",
       "      <td>9</td>\n",
       "    </tr>\n",
       "    <tr>\n",
       "      <th>3</th>\n",
       "      <td>2017010009342</td>\n",
       "      <td>2</td>\n",
       "      <td>9</td>\n",
       "      <td>0</td>\n",
       "      <td>18</td>\n",
       "      <td>0</td>\n",
       "      <td>1</td>\n",
       "      <td>1</td>\n",
       "      <td>0</td>\n",
       "      <td>0</td>\n",
       "      <td>...</td>\n",
       "      <td>6</td>\n",
       "      <td>1</td>\n",
       "      <td>40</td>\n",
       "      <td>7</td>\n",
       "      <td>2204</td>\n",
       "      <td>2</td>\n",
       "      <td>12</td>\n",
       "      <td>2</td>\n",
       "      <td>1</td>\n",
       "      <td>2</td>\n",
       "    </tr>\n",
       "    <tr>\n",
       "      <th>4</th>\n",
       "      <td>2017010009344</td>\n",
       "      <td>1</td>\n",
       "      <td>9</td>\n",
       "      <td>0</td>\n",
       "      <td>18</td>\n",
       "      <td>0</td>\n",
       "      <td>1</td>\n",
       "      <td>0</td>\n",
       "      <td>0</td>\n",
       "      <td>0</td>\n",
       "      <td>...</td>\n",
       "      <td>6</td>\n",
       "      <td>3</td>\n",
       "      <td>-1</td>\n",
       "      <td>-1</td>\n",
       "      <td>-1</td>\n",
       "      <td>-1</td>\n",
       "      <td>-1</td>\n",
       "      <td>-1</td>\n",
       "      <td>-1</td>\n",
       "      <td>-1</td>\n",
       "    </tr>\n",
       "  </tbody>\n",
       "</table>\n",
       "<p>5 rows × 23 columns</p>\n",
       "</div>"
      ],
      "text/plain": [
       "  Accident_Index  Vehicle_Reference  Vehicle_Type  Towing_and_Articulation  \\\n",
       "0  2017010001708                  1             9                        0   \n",
       "1  2017010001708                  2             2                        0   \n",
       "2  2017010009342                  1             9                        0   \n",
       "3  2017010009342                  2             9                        0   \n",
       "4  2017010009344                  1             9                        0   \n",
       "\n",
       "   Vehicle_Manoeuvre  Vehicle_Location-Restricted_Lane  Junction_Location  \\\n",
       "0                 18                                 0                  0   \n",
       "1                 18                                 0                  0   \n",
       "2                 18                                 0                  1   \n",
       "3                 18                                 0                  1   \n",
       "4                 18                                 0                  1   \n",
       "\n",
       "   Skidding_and_Overturning  Hit_Object_in_Carriageway  \\\n",
       "0                         0                          0   \n",
       "1                         1                          0   \n",
       "2                         0                          0   \n",
       "3                         1                          0   \n",
       "4                         0                          0   \n",
       "\n",
       "   Vehicle_Leaving_Carriageway  ...  Journey_Purpose_of_Driver  Sex_of_Driver  \\\n",
       "0                            0  ...                          6              1   \n",
       "1                            0  ...                          6              1   \n",
       "2                            0  ...                          6              1   \n",
       "3                            0  ...                          6              1   \n",
       "4                            0  ...                          6              3   \n",
       "\n",
       "   Age_of_Driver  Age_Band_of_Driver  Engine_Capacity_(CC)  Propulsion_Code  \\\n",
       "0             24                   5                  1997                2   \n",
       "1             19                   4                    -1               -1   \n",
       "2             33                   6                  1797                8   \n",
       "3             40                   7                  2204                2   \n",
       "4             -1                  -1                    -1               -1   \n",
       "\n",
       "   Age_of_Vehicle  Driver_IMD_Decile  Driver_Home_Area_Type  \\\n",
       "0               1                 -1                     -1   \n",
       "1              -1                 -1                     -1   \n",
       "2               8                  9                      1   \n",
       "3              12                  2                      1   \n",
       "4              -1                 -1                     -1   \n",
       "\n",
       "   Vehicle_IMD_Decile  \n",
       "0                  -1  \n",
       "1                  -1  \n",
       "2                   9  \n",
       "3                   2  \n",
       "4                  -1  \n",
       "\n",
       "[5 rows x 23 columns]"
      ]
     },
     "execution_count": 14,
     "metadata": {},
     "output_type": "execute_result"
    }
   ],
   "source": [
    "df_veh.head()"
   ]
  },
  {
   "cell_type": "code",
   "execution_count": 15,
   "metadata": {
    "ExecuteTime": {
     "end_time": "2020-04-24T16:54:55.123615Z",
     "start_time": "2020-04-24T16:54:55.120133Z"
    }
   },
   "outputs": [
    {
     "data": {
      "text/plain": [
       "(238926, 23)"
      ]
     },
     "execution_count": 15,
     "metadata": {},
     "output_type": "execute_result"
    }
   ],
   "source": [
    "df_veh.shape"
   ]
  },
  {
   "cell_type": "code",
   "execution_count": 16,
   "metadata": {
    "ExecuteTime": {
     "end_time": "2020-04-24T16:54:55.220136Z",
     "start_time": "2020-04-24T16:54:55.125472Z"
    }
   },
   "outputs": [
    {
     "name": "stdout",
     "output_type": "stream",
     "text": [
      "<class 'pandas.core.frame.DataFrame'>\n",
      "RangeIndex: 238926 entries, 0 to 238925\n",
      "Data columns (total 23 columns):\n",
      " #   Column                            Non-Null Count   Dtype \n",
      "---  ------                            --------------   ----- \n",
      " 0   Accident_Index                    238926 non-null  object\n",
      " 1   Vehicle_Reference                 238926 non-null  int64 \n",
      " 2   Vehicle_Type                      238926 non-null  int64 \n",
      " 3   Towing_and_Articulation           238926 non-null  int64 \n",
      " 4   Vehicle_Manoeuvre                 238926 non-null  int64 \n",
      " 5   Vehicle_Location-Restricted_Lane  238926 non-null  int64 \n",
      " 6   Junction_Location                 238926 non-null  int64 \n",
      " 7   Skidding_and_Overturning          238926 non-null  int64 \n",
      " 8   Hit_Object_in_Carriageway         238926 non-null  int64 \n",
      " 9   Vehicle_Leaving_Carriageway       238926 non-null  int64 \n",
      " 10  Hit_Object_off_Carriageway        238926 non-null  int64 \n",
      " 11  1st_Point_of_Impact               238926 non-null  int64 \n",
      " 12  Was_Vehicle_Left_Hand_Drive?      238926 non-null  int64 \n",
      " 13  Journey_Purpose_of_Driver         238926 non-null  int64 \n",
      " 14  Sex_of_Driver                     238926 non-null  int64 \n",
      " 15  Age_of_Driver                     238926 non-null  int64 \n",
      " 16  Age_Band_of_Driver                238926 non-null  int64 \n",
      " 17  Engine_Capacity_(CC)              238926 non-null  int64 \n",
      " 18  Propulsion_Code                   238926 non-null  int64 \n",
      " 19  Age_of_Vehicle                    238926 non-null  int64 \n",
      " 20  Driver_IMD_Decile                 238926 non-null  int64 \n",
      " 21  Driver_Home_Area_Type             238926 non-null  int64 \n",
      " 22  Vehicle_IMD_Decile                238926 non-null  int64 \n",
      "dtypes: int64(22), object(1)\n",
      "memory usage: 41.9+ MB\n"
     ]
    }
   ],
   "source": [
    "df_veh.info()"
   ]
  },
  {
   "cell_type": "code",
   "execution_count": null,
   "metadata": {},
   "outputs": [],
   "source": []
  },
  {
   "cell_type": "markdown",
   "metadata": {},
   "source": [
    "# Preprocessing the data\n"
   ]
  },
  {
   "cell_type": "markdown",
   "metadata": {},
   "source": [
    "## Converting column 'Date' into the python date time format\n"
   ]
  },
  {
   "cell_type": "code",
   "execution_count": 17,
   "metadata": {
    "ExecuteTime": {
     "end_time": "2020-04-24T16:54:55.462544Z",
     "start_time": "2020-04-24T16:54:55.221644Z"
    }
   },
   "outputs": [],
   "source": [
    "df_acc['Date'] = pd.to_datetime(df_acc['Date'], format=\"%d/%m/%Y\")\n"
   ]
  },
  {
   "cell_type": "code",
   "execution_count": 18,
   "metadata": {
    "ExecuteTime": {
     "end_time": "2020-04-24T16:54:55.471190Z",
     "start_time": "2020-04-24T16:54:55.464145Z"
    }
   },
   "outputs": [
    {
     "data": {
      "text/plain": [
       "count                  129982\n",
       "unique                    365\n",
       "top       2017-12-01 00:00:00\n",
       "freq                      559\n",
       "first     2017-01-01 00:00:00\n",
       "last      2017-12-31 00:00:00\n",
       "Name: Date, dtype: object"
      ]
     },
     "execution_count": 18,
     "metadata": {},
     "output_type": "execute_result"
    }
   ],
   "source": [
    "df_acc['Date'].describe()"
   ]
  },
  {
   "cell_type": "code",
   "execution_count": 19,
   "metadata": {
    "ExecuteTime": {
     "end_time": "2020-04-24T16:54:55.478503Z",
     "start_time": "2020-04-24T16:54:55.472546Z"
    }
   },
   "outputs": [
    {
     "name": "stdout",
     "output_type": "stream",
     "text": [
      "<class 'pandas.core.frame.DataFrame'>\n",
      "RangeIndex: 129982 entries, 0 to 129981\n",
      "Data columns (total 1 columns):\n",
      " #   Column  Non-Null Count   Dtype         \n",
      "---  ------  --------------   -----         \n",
      " 0   Date    129982 non-null  datetime64[ns]\n",
      "dtypes: datetime64[ns](1)\n",
      "memory usage: 1015.6 KB\n"
     ]
    }
   ],
   "source": [
    "df_acc[['Date']].info()"
   ]
  },
  {
   "cell_type": "code",
   "execution_count": null,
   "metadata": {},
   "outputs": [],
   "source": [
    "\n"
   ]
  },
  {
   "cell_type": "code",
   "execution_count": 20,
   "metadata": {
    "ExecuteTime": {
     "end_time": "2020-04-24T16:54:55.635995Z",
     "start_time": "2020-04-24T16:54:55.479958Z"
    }
   },
   "outputs": [],
   "source": [
    "df_acc['Hour'] = df_acc['Time'].str[0:2]\n",
    "df_acc['Hour'] = pd.to_numeric(df_acc['Hour'])\n",
    "df_acc = df_acc.dropna(subset=['Hour'])\n",
    "df_acc['Hour'] = df_acc['Hour'].astype('int')\n"
   ]
  },
  {
   "cell_type": "markdown",
   "metadata": {},
   "source": [
    "- Morning Rush from 6am to 9am\n",
    "- Office Hours from 9am to 4pm \n",
    "- Afternoon Rush from 4pm to 7pm \n",
    "- Evening from 7pm to 11pm \n",
    "- Night from 11pm to 6am \n",
    "\n",
    "**Reference**\n",
    "\n",
    "https://www.bbc.com/news/uk-england-42917201\n"
   ]
  },
  {
   "cell_type": "code",
   "execution_count": 21,
   "metadata": {
    "ExecuteTime": {
     "end_time": "2020-04-24T16:54:55.641352Z",
     "start_time": "2020-04-24T16:54:55.637718Z"
    }
   },
   "outputs": [],
   "source": [
    "\n",
    "def get_time_group(hour):\n",
    "    \"\"\"\n",
    "    This function turns the hours into daytime categories\n",
    "    \"\"\"\n",
    "    if hour >= 6 and hour <= 9:\n",
    "        return \"morning rush (6-9)\"\n",
    "    elif hour > 9 and hour <= 16:\n",
    "        return \"office hours (9-16)\"\n",
    "    elif hour > 16 and hour <= 19:\n",
    "        return \"afternoon rush (16-19)\"\n",
    "    elif hour > 19 and hour <= 23:\n",
    "        return \"evening (19-23)\"\n",
    "    else:\n",
    "        return \"night (23-6)\"\n",
    "    \n",
    "    "
   ]
  },
  {
   "cell_type": "code",
   "execution_count": 22,
   "metadata": {
    "ExecuteTime": {
     "end_time": "2020-04-24T16:54:55.723195Z",
     "start_time": "2020-04-24T16:54:55.643167Z"
    }
   },
   "outputs": [
    {
     "data": {
      "text/html": [
       "<div>\n",
       "<style scoped>\n",
       "    .dataframe tbody tr th:only-of-type {\n",
       "        vertical-align: middle;\n",
       "    }\n",
       "\n",
       "    .dataframe tbody tr th {\n",
       "        vertical-align: top;\n",
       "    }\n",
       "\n",
       "    .dataframe thead th {\n",
       "        text-align: right;\n",
       "    }\n",
       "</style>\n",
       "<table border=\"1\" class=\"dataframe\">\n",
       "  <thead>\n",
       "    <tr style=\"text-align: right;\">\n",
       "      <th></th>\n",
       "      <th>Time</th>\n",
       "      <th>Hour</th>\n",
       "      <th>TimeGroup</th>\n",
       "    </tr>\n",
       "  </thead>\n",
       "  <tbody>\n",
       "    <tr>\n",
       "      <th>0</th>\n",
       "      <td>03:12</td>\n",
       "      <td>3</td>\n",
       "      <td>night (23-6)</td>\n",
       "    </tr>\n",
       "    <tr>\n",
       "      <th>1</th>\n",
       "      <td>01:30</td>\n",
       "      <td>1</td>\n",
       "      <td>night (23-6)</td>\n",
       "    </tr>\n",
       "    <tr>\n",
       "      <th>2</th>\n",
       "      <td>00:30</td>\n",
       "      <td>0</td>\n",
       "      <td>night (23-6)</td>\n",
       "    </tr>\n",
       "    <tr>\n",
       "      <th>3</th>\n",
       "      <td>01:11</td>\n",
       "      <td>1</td>\n",
       "      <td>night (23-6)</td>\n",
       "    </tr>\n",
       "    <tr>\n",
       "      <th>4</th>\n",
       "      <td>01:42</td>\n",
       "      <td>1</td>\n",
       "      <td>night (23-6)</td>\n",
       "    </tr>\n",
       "  </tbody>\n",
       "</table>\n",
       "</div>"
      ],
      "text/plain": [
       "    Time  Hour     TimeGroup\n",
       "0  03:12     3  night (23-6)\n",
       "1  01:30     1  night (23-6)\n",
       "2  00:30     0  night (23-6)\n",
       "3  01:11     1  night (23-6)\n",
       "4  01:42     1  night (23-6)"
      ]
     },
     "execution_count": 22,
     "metadata": {},
     "output_type": "execute_result"
    }
   ],
   "source": [
    "df_acc['TimeGroup'] = df_acc['Hour'].apply(get_time_group)\n",
    "\n",
    "df_acc[['Time', 'Hour', 'TimeGroup']].head()\n"
   ]
  },
  {
   "cell_type": "code",
   "execution_count": null,
   "metadata": {},
   "outputs": [],
   "source": []
  },
  {
   "cell_type": "markdown",
   "metadata": {},
   "source": [
    "## Handling missing values"
   ]
  },
  {
   "cell_type": "code",
   "execution_count": 23,
   "metadata": {
    "ExecuteTime": {
     "end_time": "2020-04-24T16:54:55.794600Z",
     "start_time": "2020-04-24T16:54:55.724913Z"
    }
   },
   "outputs": [
    {
     "name": "stdout",
     "output_type": "stream",
     "text": [
      "Percentage of Missing Values in Accidents:\n",
      "0.056\n"
     ]
    }
   ],
   "source": [
    "print('Percentage of Missing Values in Accidents:')\n",
    "print(round(df_acc.isna().sum().sum()/len(df_acc), 3))\n"
   ]
  },
  {
   "cell_type": "code",
   "execution_count": 24,
   "metadata": {
    "ExecuteTime": {
     "end_time": "2020-04-24T16:54:55.871533Z",
     "start_time": "2020-04-24T16:54:55.796505Z"
    }
   },
   "outputs": [
    {
     "name": "stdout",
     "output_type": "stream",
     "text": [
      "Percentage of Missing Values (per column) in Accidents:\n",
      "Accident_Index                                 0.000\n",
      "Location_Easting_OSGR                          0.000\n",
      "Location_Northing_OSGR                         0.000\n",
      "Longitude                                      0.000\n",
      "Latitude                                       0.000\n",
      "Police_Force                                   0.000\n",
      "Accident_Severity                              0.000\n",
      "Number_of_Vehicles                             0.000\n",
      "Number_of_Casualties                           0.000\n",
      "Date                                           0.000\n",
      "Day_of_Week                                    0.000\n",
      "Time                                           0.000\n",
      "Local_Authority_(District)                     0.000\n",
      "Local_Authority_(Highway)                      0.000\n",
      "1st_Road_Class                                 0.000\n",
      "1st_Road_Number                                0.000\n",
      "Road_Type                                      0.000\n",
      "Speed_limit                                    0.000\n",
      "Junction_Detail                                0.000\n",
      "Junction_Control                               0.000\n",
      "2nd_Road_Class                                 0.000\n",
      "2nd_Road_Number                                0.000\n",
      "Pedestrian_Crossing-Human_Control              0.000\n",
      "Pedestrian_Crossing-Physical_Facilities        0.000\n",
      "Light_Conditions                               0.000\n",
      "Weather_Conditions                             0.000\n",
      "Road_Surface_Conditions                        0.000\n",
      "Special_Conditions_at_Site                     0.000\n",
      "Carriageway_Hazards                            0.000\n",
      "Urban_or_Rural_Area                            0.000\n",
      "Did_Police_Officer_Attend_Scene_of_Accident    0.000\n",
      "LSOA_of_Accident_Location                      0.055\n",
      "Hour                                           0.000\n",
      "TimeGroup                                      0.000\n",
      "dtype: float64\n"
     ]
    }
   ],
   "source": [
    "print('Percentage of Missing Values (per column) in Accidents:')\n",
    "print(round(df_acc.isna().sum()/len(df_acc), 3))\n"
   ]
  },
  {
   "cell_type": "code",
   "execution_count": 25,
   "metadata": {
    "ExecuteTime": {
     "end_time": "2020-04-24T16:54:55.946445Z",
     "start_time": "2020-04-24T16:54:55.873472Z"
    }
   },
   "outputs": [
    {
     "name": "stdout",
     "output_type": "stream",
     "text": [
      "Percentage of Missing Values in Vehicles:\n",
      "0.0\n"
     ]
    }
   ],
   "source": [
    "print('Percentage of Missing Values in Vehicles:')\n",
    "print(round(df_veh.isna().sum().sum()/len(df_veh), 3))\n"
   ]
  },
  {
   "cell_type": "code",
   "execution_count": 26,
   "metadata": {
    "ExecuteTime": {
     "end_time": "2020-04-24T16:54:55.991253Z",
     "start_time": "2020-04-24T16:54:55.948595Z"
    }
   },
   "outputs": [
    {
     "name": "stdout",
     "output_type": "stream",
     "text": [
      "Percentage of Missing Values in Casualties:\n",
      "0.0\n"
     ]
    }
   ],
   "source": [
    "print('Percentage of Missing Values in Casualties:')\n",
    "print(round(df_cas.isna().sum().sum()/len(df_cas), 3))\n"
   ]
  },
  {
   "cell_type": "code",
   "execution_count": null,
   "metadata": {},
   "outputs": [],
   "source": []
  },
  {
   "cell_type": "markdown",
   "metadata": {},
   "source": [
    "# Exploratory Data Analysis (EDA)\n"
   ]
  },
  {
   "cell_type": "markdown",
   "metadata": {},
   "source": [
    "## Plot number of accidents per month"
   ]
  },
  {
   "cell_type": "code",
   "execution_count": 27,
   "metadata": {
    "ExecuteTime": {
     "end_time": "2020-04-24T16:54:56.224220Z",
     "start_time": "2020-04-24T16:54:55.993244Z"
    },
    "scrolled": true
   },
   "outputs": [
    {
     "data": {
      "image/png": "[encoded data removed]",
      "text/plain": [
       "<Figure size 864x360 with 1 Axes>"
      ]
     },
     "metadata": {},
     "output_type": "display_data"
    }
   ],
   "source": [
    "acc_monthly_count = df_acc['Date'].dt.month.value_counts().sort_index(ascending=False)\n",
    "\n",
    "sns.set_style('white')\n",
    "fig, ax = plt.subplots(figsize=(12,5))\n",
    "\n",
    "ax.bar(acc_monthly_count.index, acc_monthly_count.values, color='lightblue')\n",
    "ax.plot(acc_monthly_count, linestyle=':', color='black')\n",
    "ax.set_title('\\nNumber of accidents per month\\n', fontsize=14, fontweight='bold')\n",
    "ax.set(ylabel='\\nNumber of accidents')\n",
    "ax.set(xlabel='\\nMonth')\n",
    "\n",
    "sns.despine(ax=ax, top=True, right=True, left=True, bottom=True);\n"
   ]
  },
  {
   "cell_type": "markdown",
   "metadata": {},
   "source": [
    "## Show number of accidents in each week day\n"
   ]
  },
  {
   "cell_type": "code",
   "execution_count": 28,
   "metadata": {
    "ExecuteTime": {
     "end_time": "2020-04-24T16:54:56.324170Z",
     "start_time": "2020-04-24T16:54:56.225662Z"
    }
   },
   "outputs": [
    {
     "data": {
      "text/html": [
       "<div>\n",
       "<style scoped>\n",
       "    .dataframe tbody tr th:only-of-type {\n",
       "        vertical-align: middle;\n",
       "    }\n",
       "\n",
       "    .dataframe tbody tr th {\n",
       "        vertical-align: top;\n",
       "    }\n",
       "\n",
       "    .dataframe thead th {\n",
       "        text-align: right;\n",
       "    }\n",
       "</style>\n",
       "<table border=\"1\" class=\"dataframe\">\n",
       "  <thead>\n",
       "    <tr style=\"text-align: right;\">\n",
       "      <th></th>\n",
       "      <th>Mean_Accidents</th>\n",
       "    </tr>\n",
       "    <tr>\n",
       "      <th>Weekday</th>\n",
       "      <th></th>\n",
       "    </tr>\n",
       "  </thead>\n",
       "  <tbody>\n",
       "    <tr>\n",
       "      <th>Friday</th>\n",
       "      <td>408.557692</td>\n",
       "    </tr>\n",
       "    <tr>\n",
       "      <th>Monday</th>\n",
       "      <td>344.923077</td>\n",
       "    </tr>\n",
       "    <tr>\n",
       "      <th>Saturday</th>\n",
       "      <td>331.269231</td>\n",
       "    </tr>\n",
       "    <tr>\n",
       "      <th>Sunday</th>\n",
       "      <td>282.547170</td>\n",
       "    </tr>\n",
       "    <tr>\n",
       "      <th>Thursday</th>\n",
       "      <td>380.711538</td>\n",
       "    </tr>\n",
       "    <tr>\n",
       "      <th>Tuesday</th>\n",
       "      <td>374.653846</td>\n",
       "    </tr>\n",
       "    <tr>\n",
       "      <th>Wednesday</th>\n",
       "      <td>371.500000</td>\n",
       "    </tr>\n",
       "  </tbody>\n",
       "</table>\n",
       "</div>"
      ],
      "text/plain": [
       "           Mean_Accidents\n",
       "Weekday                  \n",
       "Friday         408.557692\n",
       "Monday         344.923077\n",
       "Saturday       331.269231\n",
       "Sunday         282.547170\n",
       "Thursday       380.711538\n",
       "Tuesday        374.653846\n",
       "Wednesday      371.500000"
      ]
     },
     "execution_count": 28,
     "metadata": {},
     "output_type": "execute_result"
    }
   ],
   "source": [
    "acc_weekday_counts = pd.DataFrame(df_acc.set_index('Date').resample('1d')['Accident_Index'].size().reset_index())\n",
    "\n",
    "acc_weekday_counts.columns = ['Date', 'Count']\n",
    "\n",
    "weekday = acc_weekday_counts['Date'].dt.day_name()\n",
    "#weekday\n",
    "\n",
    "acc_weekday_mean = pd.DataFrame(acc_weekday_counts.groupby(weekday)['Count'].mean().reset_index())\n",
    "acc_weekday_mean.columns = ['Weekday', 'Mean_Accidents']\n",
    "acc_weekday_mean.set_index('Weekday', inplace=True)\n",
    "acc_weekday_mean\n"
   ]
  },
  {
   "cell_type": "code",
   "execution_count": 29,
   "metadata": {
    "ExecuteTime": {
     "end_time": "2020-04-24T16:54:56.330849Z",
     "start_time": "2020-04-24T16:54:56.325944Z"
    }
   },
   "outputs": [
    {
     "data": {
      "text/plain": [
       "Index(['Friday'], dtype='object', name='Weekday')"
      ]
     },
     "execution_count": 29,
     "metadata": {},
     "output_type": "execute_result"
    }
   ],
   "source": [
    "acc_weekday_mean[acc_weekday_mean['Mean_Accidents'] == acc_weekday_mean['Mean_Accidents'].max()].index\n"
   ]
  },
  {
   "cell_type": "code",
   "execution_count": 30,
   "metadata": {
    "ExecuteTime": {
     "end_time": "2020-04-24T16:54:56.341872Z",
     "start_time": "2020-04-24T16:54:56.332400Z"
    }
   },
   "outputs": [
    {
     "data": {
      "text/html": [
       "<div>\n",
       "<style scoped>\n",
       "    .dataframe tbody tr th:only-of-type {\n",
       "        vertical-align: middle;\n",
       "    }\n",
       "\n",
       "    .dataframe tbody tr th {\n",
       "        vertical-align: top;\n",
       "    }\n",
       "\n",
       "    .dataframe thead th {\n",
       "        text-align: right;\n",
       "    }\n",
       "</style>\n",
       "<table border=\"1\" class=\"dataframe\">\n",
       "  <thead>\n",
       "    <tr style=\"text-align: right;\">\n",
       "      <th></th>\n",
       "      <th>Sum_Accidents</th>\n",
       "    </tr>\n",
       "    <tr>\n",
       "      <th>Weekday</th>\n",
       "      <th></th>\n",
       "    </tr>\n",
       "  </thead>\n",
       "  <tbody>\n",
       "    <tr>\n",
       "      <th>Friday</th>\n",
       "      <td>21245</td>\n",
       "    </tr>\n",
       "    <tr>\n",
       "      <th>Monday</th>\n",
       "      <td>17936</td>\n",
       "    </tr>\n",
       "    <tr>\n",
       "      <th>Saturday</th>\n",
       "      <td>17226</td>\n",
       "    </tr>\n",
       "    <tr>\n",
       "      <th>Sunday</th>\n",
       "      <td>14975</td>\n",
       "    </tr>\n",
       "    <tr>\n",
       "      <th>Thursday</th>\n",
       "      <td>19797</td>\n",
       "    </tr>\n",
       "    <tr>\n",
       "      <th>Tuesday</th>\n",
       "      <td>19482</td>\n",
       "    </tr>\n",
       "    <tr>\n",
       "      <th>Wednesday</th>\n",
       "      <td>19318</td>\n",
       "    </tr>\n",
       "  </tbody>\n",
       "</table>\n",
       "</div>"
      ],
      "text/plain": [
       "           Sum_Accidents\n",
       "Weekday                 \n",
       "Friday             21245\n",
       "Monday             17936\n",
       "Saturday           17226\n",
       "Sunday             14975\n",
       "Thursday           19797\n",
       "Tuesday            19482\n",
       "Wednesday          19318"
      ]
     },
     "execution_count": 30,
     "metadata": {},
     "output_type": "execute_result"
    }
   ],
   "source": [
    "acc_weekday_sum = pd.DataFrame(acc_weekday_counts.groupby(weekday)['Count'].sum().reset_index())\n",
    "acc_weekday_sum.columns = ['Weekday', 'Sum_Accidents']\n",
    "acc_weekday_sum.set_index('Weekday', inplace=True)\n",
    "acc_weekday_sum\n"
   ]
  },
  {
   "cell_type": "code",
   "execution_count": 31,
   "metadata": {
    "ExecuteTime": {
     "end_time": "2020-04-24T16:54:56.349895Z",
     "start_time": "2020-04-24T16:54:56.343538Z"
    }
   },
   "outputs": [
    {
     "data": {
      "text/plain": [
       "Index(['Friday'], dtype='object', name='Weekday')"
      ]
     },
     "execution_count": 31,
     "metadata": {},
     "output_type": "execute_result"
    }
   ],
   "source": [
    "acc_weekday_sum[acc_weekday_sum['Sum_Accidents'] == acc_weekday_sum['Sum_Accidents'].max()].index\n"
   ]
  },
  {
   "cell_type": "code",
   "execution_count": 32,
   "metadata": {
    "ExecuteTime": {
     "end_time": "2020-04-24T16:54:56.547897Z",
     "start_time": "2020-04-24T16:54:56.351687Z"
    }
   },
   "outputs": [
    {
     "data": {
      "image/png": "[encoded data removed]",
      "text/plain": [
       "<Figure size 720x360 with 1 Axes>"
      ]
     },
     "metadata": {},
     "output_type": "display_data"
    }
   ],
   "source": [
    "\n",
    "days = ['Sunday', 'Saturday', 'Friday', 'Thursday', 'Wednesday', 'Tuesday', 'Monday']\n",
    "\n",
    "max_acc_day = acc_weekday_mean[acc_weekday_mean['Mean_Accidents'] == acc_weekday_mean['Mean_Accidents'].max()].index.values[0]\n",
    "colors = []\n",
    "for day in days:\n",
    "    if day == max_acc_day:\n",
    "        colors.append('darkblue')\n",
    "    else:\n",
    "        colors.append('lightsteelblue')\n",
    "        \n",
    "sns.set_style('white')\n",
    "fig, ax = plt.subplots(figsize=(10,5))\n",
    "\n",
    "acc_weekday_mean.reindex(days).plot(kind='barh', ax=ax, color=[colors])\n",
    "ax.set_title('\\nAverage Accidents per Weekday\\n', fontsize=14, fontweight='bold')\n",
    "ax.set(xlabel='\\nNumber of accidents', ylabel='Day')\n",
    "ax.legend('')\n",
    "\n",
    "sns.despine(ax=ax, top=True, right=True, left=True, bottom=True);\n"
   ]
  },
  {
   "cell_type": "code",
   "execution_count": null,
   "metadata": {},
   "outputs": [],
   "source": []
  },
  {
   "cell_type": "markdown",
   "metadata": {},
   "source": [
    "### Plot number of accidents in the weekdays of each month\n"
   ]
  },
  {
   "cell_type": "code",
   "execution_count": 33,
   "metadata": {
    "ExecuteTime": {
     "end_time": "2020-04-24T16:54:56.553486Z",
     "start_time": "2020-04-24T16:54:56.549311Z"
    }
   },
   "outputs": [],
   "source": [
    "def highlight_max(data, color='yellow'):\n",
    "    '''\n",
    "    highlight the maximum in a Series or DataFrame\n",
    "    '''\n",
    "    attr = 'background-color: {}'.format(color)\n",
    "    #remove % and cast to float\n",
    "    data = data.replace('%','', regex=True).astype(float)\n",
    "    if data.ndim == 1:  # Series from .apply(axis=0) or axis=1\n",
    "        is_max = data == data.max()\n",
    "        return [attr if v else '' for v in is_max]\n",
    "    else:  # from .apply(axis=None)\n",
    "        is_max = data == data.max().max()\n",
    "        return pd.DataFrame(np.where(is_max, attr, ''),\n",
    "                            index=data.index, columns=data.columns)\n"
   ]
  },
  {
   "cell_type": "code",
   "execution_count": 34,
   "metadata": {
    "ExecuteTime": {
     "end_time": "2020-04-24T16:54:56.602593Z",
     "start_time": "2020-04-24T16:54:56.554913Z"
    }
   },
   "outputs": [
    {
     "data": {
      "text/html": [
       "<style  type=\"text/css\" >\n",
       "    #T_a40da556_866c_11ea_a84d_4c32759ef4ffrow6_col0 {\n",
       "            background-color:  yellow;\n",
       "        }    #T_a40da556_866c_11ea_a84d_4c32759ef4ffrow6_col1 {\n",
       "            background-color:  yellow;\n",
       "        }    #T_a40da556_866c_11ea_a84d_4c32759ef4ffrow6_col6 {\n",
       "            background-color:  yellow;\n",
       "        }    #T_a40da556_866c_11ea_a84d_4c32759ef4ffrow8_col2 {\n",
       "            background-color:  yellow;\n",
       "        }    #T_a40da556_866c_11ea_a84d_4c32759ef4ffrow9_col5 {\n",
       "            background-color:  yellow;\n",
       "        }    #T_a40da556_866c_11ea_a84d_4c32759ef4ffrow10_col3 {\n",
       "            background-color:  yellow;\n",
       "        }    #T_a40da556_866c_11ea_a84d_4c32759ef4ffrow10_col4 {\n",
       "            background-color:  yellow;\n",
       "        }</style><table id=\"T_a40da556_866c_11ea_a84d_4c32759ef4ff\" ><thead>    <tr>        <th class=\"index_name level0\" >Weekday</th>        <th class=\"col_heading level0 col0\" >Sunday</th>        <th class=\"col_heading level0 col1\" >Saturday</th>        <th class=\"col_heading level0 col2\" >Friday</th>        <th class=\"col_heading level0 col3\" >Thursday</th>        <th class=\"col_heading level0 col4\" >Wednesday</th>        <th class=\"col_heading level0 col5\" >Tuesday</th>        <th class=\"col_heading level0 col6\" >Monday</th>    </tr>    <tr>        <th class=\"index_name level0\" >Month</th>        <th class=\"blank\" ></th>        <th class=\"blank\" ></th>        <th class=\"blank\" ></th>        <th class=\"blank\" ></th>        <th class=\"blank\" ></th>        <th class=\"blank\" ></th>        <th class=\"blank\" ></th>    </tr></thead><tbody>\n",
       "                <tr>\n",
       "                        <th id=\"T_a40da556_866c_11ea_a84d_4c32759ef4fflevel0_row0\" class=\"row_heading level0 row0\" >1</th>\n",
       "                        <td id=\"T_a40da556_866c_11ea_a84d_4c32759ef4ffrow0_col0\" class=\"data row0 col0\" >1295</td>\n",
       "                        <td id=\"T_a40da556_866c_11ea_a84d_4c32759ef4ffrow0_col1\" class=\"data row0 col1\" >1298</td>\n",
       "                        <td id=\"T_a40da556_866c_11ea_a84d_4c32759ef4ffrow0_col2\" class=\"data row0 col2\" >1665</td>\n",
       "                        <td id=\"T_a40da556_866c_11ea_a84d_4c32759ef4ffrow0_col3\" class=\"data row0 col3\" >1663</td>\n",
       "                        <td id=\"T_a40da556_866c_11ea_a84d_4c32759ef4ffrow0_col4\" class=\"data row0 col4\" >1513</td>\n",
       "                        <td id=\"T_a40da556_866c_11ea_a84d_4c32759ef4ffrow0_col5\" class=\"data row0 col5\" >1905</td>\n",
       "                        <td id=\"T_a40da556_866c_11ea_a84d_4c32759ef4ffrow0_col6\" class=\"data row0 col6\" >1808</td>\n",
       "            </tr>\n",
       "            <tr>\n",
       "                        <th id=\"T_a40da556_866c_11ea_a84d_4c32759ef4fflevel0_row1\" class=\"row_heading level0 row1\" >2</th>\n",
       "                        <td id=\"T_a40da556_866c_11ea_a84d_4c32759ef4ffrow1_col0\" class=\"data row1 col0\" >942</td>\n",
       "                        <td id=\"T_a40da556_866c_11ea_a84d_4c32759ef4ffrow1_col1\" class=\"data row1 col1\" >1208</td>\n",
       "                        <td id=\"T_a40da556_866c_11ea_a84d_4c32759ef4ffrow1_col2\" class=\"data row1 col2\" >1654</td>\n",
       "                        <td id=\"T_a40da556_866c_11ea_a84d_4c32759ef4ffrow1_col3\" class=\"data row1 col3\" >1478</td>\n",
       "                        <td id=\"T_a40da556_866c_11ea_a84d_4c32759ef4ffrow1_col4\" class=\"data row1 col4\" >1419</td>\n",
       "                        <td id=\"T_a40da556_866c_11ea_a84d_4c32759ef4ffrow1_col5\" class=\"data row1 col5\" >1557</td>\n",
       "                        <td id=\"T_a40da556_866c_11ea_a84d_4c32759ef4ffrow1_col6\" class=\"data row1 col6\" >1482</td>\n",
       "            </tr>\n",
       "            <tr>\n",
       "                        <th id=\"T_a40da556_866c_11ea_a84d_4c32759ef4fflevel0_row2\" class=\"row_heading level0 row2\" >3</th>\n",
       "                        <td id=\"T_a40da556_866c_11ea_a84d_4c32759ef4ffrow2_col0\" class=\"data row2 col0\" >1056</td>\n",
       "                        <td id=\"T_a40da556_866c_11ea_a84d_4c32759ef4ffrow2_col1\" class=\"data row2 col1\" >1337</td>\n",
       "                        <td id=\"T_a40da556_866c_11ea_a84d_4c32759ef4ffrow2_col2\" class=\"data row2 col2\" >1943</td>\n",
       "                        <td id=\"T_a40da556_866c_11ea_a84d_4c32759ef4ffrow2_col3\" class=\"data row2 col3\" >1826</td>\n",
       "                        <td id=\"T_a40da556_866c_11ea_a84d_4c32759ef4ffrow2_col4\" class=\"data row2 col4\" >1821</td>\n",
       "                        <td id=\"T_a40da556_866c_11ea_a84d_4c32759ef4ffrow2_col5\" class=\"data row2 col5\" >1445</td>\n",
       "                        <td id=\"T_a40da556_866c_11ea_a84d_4c32759ef4ffrow2_col6\" class=\"data row2 col6\" >1377</td>\n",
       "            </tr>\n",
       "            <tr>\n",
       "                        <th id=\"T_a40da556_866c_11ea_a84d_4c32759ef4fflevel0_row3\" class=\"row_heading level0 row3\" >4</th>\n",
       "                        <td id=\"T_a40da556_866c_11ea_a84d_4c32759ef4ffrow3_col0\" class=\"data row3 col0\" >1536</td>\n",
       "                        <td id=\"T_a40da556_866c_11ea_a84d_4c32759ef4ffrow3_col1\" class=\"data row3 col1\" >1685</td>\n",
       "                        <td id=\"T_a40da556_866c_11ea_a84d_4c32759ef4ffrow3_col2\" class=\"data row3 col2\" >1302</td>\n",
       "                        <td id=\"T_a40da556_866c_11ea_a84d_4c32759ef4ffrow3_col3\" class=\"data row3 col3\" >1362</td>\n",
       "                        <td id=\"T_a40da556_866c_11ea_a84d_4c32759ef4ffrow3_col4\" class=\"data row3 col4\" >1332</td>\n",
       "                        <td id=\"T_a40da556_866c_11ea_a84d_4c32759ef4ffrow3_col5\" class=\"data row3 col5\" >1380</td>\n",
       "                        <td id=\"T_a40da556_866c_11ea_a84d_4c32759ef4ffrow3_col6\" class=\"data row3 col6\" >1176</td>\n",
       "            </tr>\n",
       "            <tr>\n",
       "                        <th id=\"T_a40da556_866c_11ea_a84d_4c32759ef4fflevel0_row4\" class=\"row_heading level0 row4\" >5</th>\n",
       "                        <td id=\"T_a40da556_866c_11ea_a84d_4c32759ef4ffrow4_col0\" class=\"data row4 col0\" >1183</td>\n",
       "                        <td id=\"T_a40da556_866c_11ea_a84d_4c32759ef4ffrow4_col1\" class=\"data row4 col1\" >1295</td>\n",
       "                        <td id=\"T_a40da556_866c_11ea_a84d_4c32759ef4ffrow4_col2\" class=\"data row4 col2\" >1671</td>\n",
       "                        <td id=\"T_a40da556_866c_11ea_a84d_4c32759ef4ffrow4_col3\" class=\"data row4 col3\" >1536</td>\n",
       "                        <td id=\"T_a40da556_866c_11ea_a84d_4c32759ef4ffrow4_col4\" class=\"data row4 col4\" >1887</td>\n",
       "                        <td id=\"T_a40da556_866c_11ea_a84d_4c32759ef4ffrow4_col5\" class=\"data row4 col5\" >1794</td>\n",
       "                        <td id=\"T_a40da556_866c_11ea_a84d_4c32759ef4ffrow4_col6\" class=\"data row4 col6\" >1556</td>\n",
       "            </tr>\n",
       "            <tr>\n",
       "                        <th id=\"T_a40da556_866c_11ea_a84d_4c32759ef4fflevel0_row5\" class=\"row_heading level0 row5\" >6</th>\n",
       "                        <td id=\"T_a40da556_866c_11ea_a84d_4c32759ef4ffrow5_col0\" class=\"data row5 col0\" >1201</td>\n",
       "                        <td id=\"T_a40da556_866c_11ea_a84d_4c32759ef4ffrow5_col1\" class=\"data row5 col1\" >1397</td>\n",
       "                        <td id=\"T_a40da556_866c_11ea_a84d_4c32759ef4ffrow5_col2\" class=\"data row5 col2\" >1956</td>\n",
       "                        <td id=\"T_a40da556_866c_11ea_a84d_4c32759ef4ffrow5_col3\" class=\"data row5 col3\" >1932</td>\n",
       "                        <td id=\"T_a40da556_866c_11ea_a84d_4c32759ef4ffrow5_col4\" class=\"data row5 col4\" >1566</td>\n",
       "                        <td id=\"T_a40da556_866c_11ea_a84d_4c32759ef4ffrow5_col5\" class=\"data row5 col5\" >1568</td>\n",
       "                        <td id=\"T_a40da556_866c_11ea_a84d_4c32759ef4ffrow5_col6\" class=\"data row5 col6\" >1510</td>\n",
       "            </tr>\n",
       "            <tr>\n",
       "                        <th id=\"T_a40da556_866c_11ea_a84d_4c32759ef4fflevel0_row6\" class=\"row_heading level0 row6\" >7</th>\n",
       "                        <td id=\"T_a40da556_866c_11ea_a84d_4c32759ef4ffrow6_col0\" class=\"data row6 col0\" >1581</td>\n",
       "                        <td id=\"T_a40da556_866c_11ea_a84d_4c32759ef4ffrow6_col1\" class=\"data row6 col1\" >1792</td>\n",
       "                        <td id=\"T_a40da556_866c_11ea_a84d_4c32759ef4ffrow6_col2\" class=\"data row6 col2\" >1642</td>\n",
       "                        <td id=\"T_a40da556_866c_11ea_a84d_4c32759ef4ffrow6_col3\" class=\"data row6 col3\" >1505</td>\n",
       "                        <td id=\"T_a40da556_866c_11ea_a84d_4c32759ef4ffrow6_col4\" class=\"data row6 col4\" >1540</td>\n",
       "                        <td id=\"T_a40da556_866c_11ea_a84d_4c32759ef4ffrow6_col5\" class=\"data row6 col5\" >1577</td>\n",
       "                        <td id=\"T_a40da556_866c_11ea_a84d_4c32759ef4ffrow6_col6\" class=\"data row6 col6\" >1812</td>\n",
       "            </tr>\n",
       "            <tr>\n",
       "                        <th id=\"T_a40da556_866c_11ea_a84d_4c32759ef4fflevel0_row7\" class=\"row_heading level0 row7\" >8</th>\n",
       "                        <td id=\"T_a40da556_866c_11ea_a84d_4c32759ef4ffrow7_col0\" class=\"data row7 col0\" >1263</td>\n",
       "                        <td id=\"T_a40da556_866c_11ea_a84d_4c32759ef4ffrow7_col1\" class=\"data row7 col1\" >1230</td>\n",
       "                        <td id=\"T_a40da556_866c_11ea_a84d_4c32759ef4ffrow7_col2\" class=\"data row7 col2\" >1452</td>\n",
       "                        <td id=\"T_a40da556_866c_11ea_a84d_4c32759ef4ffrow7_col3\" class=\"data row7 col3\" >1710</td>\n",
       "                        <td id=\"T_a40da556_866c_11ea_a84d_4c32759ef4ffrow7_col4\" class=\"data row7 col4\" >1768</td>\n",
       "                        <td id=\"T_a40da556_866c_11ea_a84d_4c32759ef4ffrow7_col5\" class=\"data row7 col5\" >1682</td>\n",
       "                        <td id=\"T_a40da556_866c_11ea_a84d_4c32759ef4ffrow7_col6\" class=\"data row7 col6\" >1195</td>\n",
       "            </tr>\n",
       "            <tr>\n",
       "                        <th id=\"T_a40da556_866c_11ea_a84d_4c32759ef4fflevel0_row8\" class=\"row_heading level0 row8\" >9</th>\n",
       "                        <td id=\"T_a40da556_866c_11ea_a84d_4c32759ef4ffrow8_col0\" class=\"data row8 col0\" >1184</td>\n",
       "                        <td id=\"T_a40da556_866c_11ea_a84d_4c32759ef4ffrow8_col1\" class=\"data row8 col1\" >1740</td>\n",
       "                        <td id=\"T_a40da556_866c_11ea_a84d_4c32759ef4ffrow8_col2\" class=\"data row8 col2\" >2232</td>\n",
       "                        <td id=\"T_a40da556_866c_11ea_a84d_4c32759ef4ffrow8_col3\" class=\"data row8 col3\" >1502</td>\n",
       "                        <td id=\"T_a40da556_866c_11ea_a84d_4c32759ef4ffrow8_col4\" class=\"data row8 col4\" >1483</td>\n",
       "                        <td id=\"T_a40da556_866c_11ea_a84d_4c32759ef4ffrow8_col5\" class=\"data row8 col5\" >1530</td>\n",
       "                        <td id=\"T_a40da556_866c_11ea_a84d_4c32759ef4ffrow8_col6\" class=\"data row8 col6\" >1420</td>\n",
       "            </tr>\n",
       "            <tr>\n",
       "                        <th id=\"T_a40da556_866c_11ea_a84d_4c32759ef4fflevel0_row9\" class=\"row_heading level0 row9\" >10</th>\n",
       "                        <td id=\"T_a40da556_866c_11ea_a84d_4c32759ef4ffrow9_col0\" class=\"data row9 col0\" >1387</td>\n",
       "                        <td id=\"T_a40da556_866c_11ea_a84d_4c32759ef4ffrow9_col1\" class=\"data row9 col1\" >1327</td>\n",
       "                        <td id=\"T_a40da556_866c_11ea_a84d_4c32759ef4ffrow9_col2\" class=\"data row9 col2\" >1756</td>\n",
       "                        <td id=\"T_a40da556_866c_11ea_a84d_4c32759ef4ffrow9_col3\" class=\"data row9 col3\" >1630</td>\n",
       "                        <td id=\"T_a40da556_866c_11ea_a84d_4c32759ef4ffrow9_col4\" class=\"data row9 col4\" >1501</td>\n",
       "                        <td id=\"T_a40da556_866c_11ea_a84d_4c32759ef4ffrow9_col5\" class=\"data row9 col5\" >1924</td>\n",
       "                        <td id=\"T_a40da556_866c_11ea_a84d_4c32759ef4ffrow9_col6\" class=\"data row9 col6\" >1669</td>\n",
       "            </tr>\n",
       "            <tr>\n",
       "                        <th id=\"T_a40da556_866c_11ea_a84d_4c32759ef4fflevel0_row10\" class=\"row_heading level0 row10\" >11</th>\n",
       "                        <td id=\"T_a40da556_866c_11ea_a84d_4c32759ef4ffrow10_col0\" class=\"data row10 col0\" >1195</td>\n",
       "                        <td id=\"T_a40da556_866c_11ea_a84d_4c32759ef4ffrow10_col1\" class=\"data row10 col1\" >1412</td>\n",
       "                        <td id=\"T_a40da556_866c_11ea_a84d_4c32759ef4ffrow10_col2\" class=\"data row10 col2\" >1838</td>\n",
       "                        <td id=\"T_a40da556_866c_11ea_a84d_4c32759ef4ffrow10_col3\" class=\"data row10 col3\" >2105</td>\n",
       "                        <td id=\"T_a40da556_866c_11ea_a84d_4c32759ef4ffrow10_col4\" class=\"data row10 col4\" >2082</td>\n",
       "                        <td id=\"T_a40da556_866c_11ea_a84d_4c32759ef4ffrow10_col5\" class=\"data row10 col5\" >1702</td>\n",
       "                        <td id=\"T_a40da556_866c_11ea_a84d_4c32759ef4ffrow10_col6\" class=\"data row10 col6\" >1624</td>\n",
       "            </tr>\n",
       "            <tr>\n",
       "                        <th id=\"T_a40da556_866c_11ea_a84d_4c32759ef4fflevel0_row11\" class=\"row_heading level0 row11\" >12</th>\n",
       "                        <td id=\"T_a40da556_866c_11ea_a84d_4c32759ef4ffrow11_col0\" class=\"data row11 col0\" >1152</td>\n",
       "                        <td id=\"T_a40da556_866c_11ea_a84d_4c32759ef4ffrow11_col1\" class=\"data row11 col1\" >1505</td>\n",
       "                        <td id=\"T_a40da556_866c_11ea_a84d_4c32759ef4ffrow11_col2\" class=\"data row11 col2\" >2134</td>\n",
       "                        <td id=\"T_a40da556_866c_11ea_a84d_4c32759ef4ffrow11_col3\" class=\"data row11 col3\" >1548</td>\n",
       "                        <td id=\"T_a40da556_866c_11ea_a84d_4c32759ef4ffrow11_col4\" class=\"data row11 col4\" >1406</td>\n",
       "                        <td id=\"T_a40da556_866c_11ea_a84d_4c32759ef4ffrow11_col5\" class=\"data row11 col5\" >1418</td>\n",
       "                        <td id=\"T_a40da556_866c_11ea_a84d_4c32759ef4ffrow11_col6\" class=\"data row11 col6\" >1307</td>\n",
       "            </tr>\n",
       "    </tbody></table>"
      ],
      "text/plain": [
       "<pandas.io.formats.style.Styler at 0x1a1bee3f50>"
      ]
     },
     "execution_count": 34,
     "metadata": {},
     "output_type": "execute_result"
    }
   ],
   "source": [
    "weekday = df_acc['Date'].dt.day_name()\n",
    "month = df_acc['Date'].dt.month\n",
    "\n",
    "acc_group = df_acc.groupby([month, weekday]).size()\n",
    "\n",
    "acc_group = acc_group.rename_axis(['Month', 'Weekday']).unstack('Weekday').reindex(columns=days)\n",
    "acc_group.style.apply(highlight_max)\n",
    "#acc_group\n"
   ]
  },
  {
   "cell_type": "code",
   "execution_count": 35,
   "metadata": {
    "ExecuteTime": {
     "end_time": "2020-04-24T16:54:56.830738Z",
     "start_time": "2020-04-24T16:54:56.604252Z"
    }
   },
   "outputs": [
    {
     "data": {
      "image/png": "[encoded data removed]",
      "text/plain": [
       "<Figure size 720x432 with 2 Axes>"
      ]
     },
     "metadata": {},
     "output_type": "display_data"
    }
   ],
   "source": [
    "plt.figure(figsize=(10,6))\n",
    "sns.heatmap(acc_group, cmap='Reds')\n",
    "plt.title('\\nAccidents by Month and Weekday\\n', fontsize=14, fontweight='bold')\n",
    "plt.xlabel('')\n",
    "plt.ylabel('');\n"
   ]
  },
  {
   "cell_type": "code",
   "execution_count": null,
   "metadata": {},
   "outputs": [],
   "source": []
  },
  {
   "cell_type": "markdown",
   "metadata": {},
   "source": [
    "## How weather affects the number of accidents?\n",
    "\n",
    "\n",
    "Weather label\n",
    "\n",
    "- 1\tFine no high winds\n",
    "- 2\tRaining no high winds\n",
    "- 3\tSnowing no high winds\n",
    "- 4\tFine + high winds\n",
    "- 5\tRaining + high winds\n",
    "- 6\tSnowing + high winds\n",
    "- 7\tFog or mist\n",
    "- 8\tOther\n",
    "- 9\tUnknown\n",
    "- -1\tData missing or out of range!\n"
   ]
  },
  {
   "cell_type": "code",
   "execution_count": 36,
   "metadata": {
    "ExecuteTime": {
     "end_time": "2020-04-24T16:54:56.845633Z",
     "start_time": "2020-04-24T16:54:56.832133Z"
    }
   },
   "outputs": [
    {
     "data": {
      "text/html": [
       "<div>\n",
       "<style scoped>\n",
       "    .dataframe tbody tr th:only-of-type {\n",
       "        vertical-align: middle;\n",
       "    }\n",
       "\n",
       "    .dataframe tbody tr th {\n",
       "        vertical-align: top;\n",
       "    }\n",
       "\n",
       "    .dataframe thead th {\n",
       "        text-align: right;\n",
       "    }\n",
       "</style>\n",
       "<table border=\"1\" class=\"dataframe\">\n",
       "  <thead>\n",
       "    <tr style=\"text-align: right;\">\n",
       "      <th></th>\n",
       "      <th>Weather_Conditions</th>\n",
       "    </tr>\n",
       "  </thead>\n",
       "  <tbody>\n",
       "    <tr>\n",
       "      <th>count</th>\n",
       "      <td>129979.000000</td>\n",
       "    </tr>\n",
       "    <tr>\n",
       "      <th>mean</th>\n",
       "      <td>1.641488</td>\n",
       "    </tr>\n",
       "    <tr>\n",
       "      <th>std</th>\n",
       "      <td>1.843737</td>\n",
       "    </tr>\n",
       "    <tr>\n",
       "      <th>min</th>\n",
       "      <td>-1.000000</td>\n",
       "    </tr>\n",
       "    <tr>\n",
       "      <th>25%</th>\n",
       "      <td>1.000000</td>\n",
       "    </tr>\n",
       "    <tr>\n",
       "      <th>50%</th>\n",
       "      <td>1.000000</td>\n",
       "    </tr>\n",
       "    <tr>\n",
       "      <th>75%</th>\n",
       "      <td>1.000000</td>\n",
       "    </tr>\n",
       "    <tr>\n",
       "      <th>max</th>\n",
       "      <td>9.000000</td>\n",
       "    </tr>\n",
       "  </tbody>\n",
       "</table>\n",
       "</div>"
      ],
      "text/plain": [
       "       Weather_Conditions\n",
       "count       129979.000000\n",
       "mean             1.641488\n",
       "std              1.843737\n",
       "min             -1.000000\n",
       "25%              1.000000\n",
       "50%              1.000000\n",
       "75%              1.000000\n",
       "max              9.000000"
      ]
     },
     "execution_count": 36,
     "metadata": {},
     "output_type": "execute_result"
    }
   ],
   "source": [
    "df_acc[['Weather_Conditions']].describe()"
   ]
  },
  {
   "cell_type": "code",
   "execution_count": 37,
   "metadata": {
    "ExecuteTime": {
     "end_time": "2020-04-24T16:54:56.852251Z",
     "start_time": "2020-04-24T16:54:56.847176Z"
    }
   },
   "outputs": [
    {
     "data": {
      "text/plain": [
       " 1    0.805576\n",
       " 2    0.110018\n",
       " 9    0.035306\n",
       " 8    0.020573\n",
       " 4    0.009548\n",
       " 5    0.008478\n",
       " 3    0.004932\n",
       " 7    0.004801\n",
       " 6    0.000762\n",
       "-1    0.000008\n",
       "Name: Weather_Conditions, dtype: float64"
      ]
     },
     "execution_count": 37,
     "metadata": {},
     "output_type": "execute_result"
    }
   ],
   "source": [
    "df_acc.Weather_Conditions.value_counts(normalize=True)\n"
   ]
  },
  {
   "cell_type": "code",
   "execution_count": null,
   "metadata": {},
   "outputs": [],
   "source": []
  },
  {
   "cell_type": "markdown",
   "metadata": {},
   "source": [
    "## Percentage of each category of accident severity\n",
    "\n",
    "accident severity\n",
    "\n",
    "- 1\tFatal\n",
    "- 2\tSerious\n",
    "- 3\tSlight\n",
    "\n"
   ]
  },
  {
   "cell_type": "code",
   "execution_count": 38,
   "metadata": {
    "ExecuteTime": {
     "end_time": "2020-04-24T16:54:56.859929Z",
     "start_time": "2020-04-24T16:54:56.853733Z"
    }
   },
   "outputs": [
    {
     "data": {
      "text/plain": [
       "3    105769\n",
       "2     22534\n",
       "1      1676\n",
       "Name: Accident_Severity, dtype: int64"
      ]
     },
     "execution_count": 38,
     "metadata": {},
     "output_type": "execute_result"
    }
   ],
   "source": [
    "df_acc['Accident_Severity'].value_counts()\n"
   ]
  },
  {
   "cell_type": "code",
   "execution_count": 39,
   "metadata": {
    "ExecuteTime": {
     "end_time": "2020-04-24T16:54:56.866412Z",
     "start_time": "2020-04-24T16:54:56.861530Z"
    }
   },
   "outputs": [
    {
     "name": "stdout",
     "output_type": "stream",
     "text": [
      "<class 'pandas.core.frame.DataFrame'>\n",
      "Int64Index: 129979 entries, 0 to 129981\n",
      "Data columns (total 1 columns):\n",
      " #   Column             Non-Null Count   Dtype\n",
      "---  ------             --------------   -----\n",
      " 0   Accident_Severity  129979 non-null  int64\n",
      "dtypes: int64(1)\n",
      "memory usage: 2.0 MB\n"
     ]
    }
   ],
   "source": [
    "df_acc[['Accident_Severity']].info()"
   ]
  },
  {
   "cell_type": "code",
   "execution_count": 40,
   "metadata": {
    "ExecuteTime": {
     "end_time": "2020-04-24T16:54:57.018930Z",
     "start_time": "2020-04-24T16:54:56.868126Z"
    }
   },
   "outputs": [
    {
     "data": {
      "image/png": "[encoded data removed]",
      "text/plain": [
       "<Figure size 576x576 with 1 Axes>"
      ]
     },
     "metadata": {},
     "output_type": "display_data"
    }
   ],
   "source": [
    "\n",
    "fatal   = df_acc.Accident_Severity.value_counts()[1]\n",
    "serious = df_acc.Accident_Severity.value_counts()[2]\n",
    "slight  = df_acc.Accident_Severity.value_counts()[3]\n",
    "\n",
    "names = ['Fatal','Serious', 'Slight']\n",
    "size  = [fatal, serious, slight]\n",
    "#explode = (0.2, 0, 0)\n",
    "\n",
    "plt.pie(x=size, labels=names, colors=['red', 'orange', 'gray'], \n",
    "        autopct='%1.2f%%', pctdistance=0.6, textprops=dict(fontweight='bold'),\n",
    "        wedgeprops={'linewidth':7, 'edgecolor':'white'})\n",
    "\n",
    "my_circle = plt.Circle((0,0), 0.6, color='white')\n",
    "\n",
    "# plot the donut chart\n",
    "fig = plt.gcf()\n",
    "fig.set_size_inches(8,8)\n",
    "fig.gca().add_artist(my_circle)\n",
    "plt.title('\\nAccident Severity: Share in % (2013-2017)', fontsize=14, fontweight='bold')\n",
    "plt.show()\n"
   ]
  },
  {
   "cell_type": "code",
   "execution_count": null,
   "metadata": {},
   "outputs": [],
   "source": []
  },
  {
   "cell_type": "markdown",
   "metadata": {},
   "source": [
    "### Number of fatalities over the months?\n"
   ]
  },
  {
   "cell_type": "code",
   "execution_count": 41,
   "metadata": {
    "ExecuteTime": {
     "end_time": "2020-04-24T16:54:57.376858Z",
     "start_time": "2020-04-24T16:54:57.020741Z"
    }
   },
   "outputs": [
    {
     "data": {
      "image/png": "[encoded data removed]",
      "text/plain": [
       "<Figure size 1008x432 with 1 Axes>"
      ]
     },
     "metadata": {},
     "output_type": "display_data"
    }
   ],
   "source": [
    "\n",
    "mask = df_acc['Accident_Severity']==1\n",
    "df_weekly_fatalities = df_acc.loc[mask].set_index('Date').sort_index().resample('W').size()\n",
    "\n",
    "sns.set_style('white')\n",
    "fig, ax = plt.subplots(figsize=(14,6))\n",
    "\n",
    "df_weekly_fatalities.plot(label='Total Fatalities per Month', color='gray', ax=ax)\n",
    "plt.fill_between(x=df_weekly_fatalities.index, y1=df_weekly_fatalities.values, color='grey', alpha=0.3)\n",
    "df_weekly_fatalities.rolling(window=4).mean().plot(color='orange', linewidth=5, label='4-Weeks Moving Average', ax=ax)\n",
    "\n",
    "ax.set_title('\\nFatalities', fontsize=14, fontweight='bold')\n",
    "ax.set(ylabel='\\nNumber of accidents', xlabel='Month')\n",
    "ax.legend(bbox_to_anchor=(1.2, 1.1), frameon=False)\n",
    "\n",
    "sns.despine(ax=ax, top=True, right=True, left=True, bottom=True);\n"
   ]
  },
  {
   "cell_type": "code",
   "execution_count": null,
   "metadata": {},
   "outputs": [],
   "source": []
  },
  {
   "cell_type": "markdown",
   "metadata": {},
   "source": [
    "## Number of accidents throughout the day"
   ]
  },
  {
   "cell_type": "markdown",
   "metadata": {},
   "source": [
    "### Number of accidents through the time"
   ]
  },
  {
   "cell_type": "code",
   "execution_count": 42,
   "metadata": {
    "ExecuteTime": {
     "end_time": "2020-04-24T16:54:57.586802Z",
     "start_time": "2020-04-24T16:54:57.378090Z"
    }
   },
   "outputs": [
    {
     "data": {
      "image/png": "[encoded data removed]",
      "text/plain": [
       "<Figure size 720x432 with 1 Axes>"
      ]
     },
     "metadata": {},
     "output_type": "display_data"
    }
   ],
   "source": [
    "\n",
    "sns.set_style('white')\n",
    "fig, ax = plt.subplots(figsize=(10,6))\n",
    "\n",
    "\n",
    "df_acc.Hour.hist(bins=24, ax=ax, color='lightblue')\n",
    "ax.set_title('\\nAccidents through the time\\n', fontsize=14, fontweight='bold')\n",
    "ax.set(xlabel='Hour of the Day', ylabel='Number of Accidents')\n",
    "\n",
    "# remove all spines\n",
    "sns.despine(top=True, right=True, left=True, bottom=True);\n"
   ]
  },
  {
   "cell_type": "code",
   "execution_count": 43,
   "metadata": {
    "ExecuteTime": {
     "end_time": "2020-04-24T16:54:57.607844Z",
     "start_time": "2020-04-24T16:54:57.588349Z"
    }
   },
   "outputs": [
    {
     "data": {
      "text/html": [
       "<style  type=\"text/css\" >\n",
       "    #T_a4ef794a_866c_11ea_a84d_4c32759ef4ffrow4_col0 {\n",
       "            background-color:  yellow;\n",
       "        }    #T_a4ef794a_866c_11ea_a84d_4c32759ef4ffrow4_col1 {\n",
       "            background-color:  yellow;\n",
       "        }    #T_a4ef794a_866c_11ea_a84d_4c32759ef4ffrow4_col2 {\n",
       "            background-color:  yellow;\n",
       "        }</style><table id=\"T_a4ef794a_866c_11ea_a84d_4c32759ef4ff\" ><thead>    <tr>        <th class=\"index_name level0\" >Accident_Severity</th>        <th class=\"col_heading level0 col0\" >fatal</th>        <th class=\"col_heading level0 col1\" >serious</th>        <th class=\"col_heading level0 col2\" >slight</th>    </tr>    <tr>        <th class=\"index_name level0\" >TimeGroup</th>        <th class=\"blank\" ></th>        <th class=\"blank\" ></th>        <th class=\"blank\" ></th>    </tr></thead><tbody>\n",
       "                <tr>\n",
       "                        <th id=\"T_a4ef794a_866c_11ea_a84d_4c32759ef4fflevel0_row0\" class=\"row_heading level0 row0\" >afternoon rush (16-19)</th>\n",
       "                        <td id=\"T_a4ef794a_866c_11ea_a84d_4c32759ef4ffrow0_col0\" class=\"data row0 col0\" >295</td>\n",
       "                        <td id=\"T_a4ef794a_866c_11ea_a84d_4c32759ef4ffrow0_col1\" class=\"data row0 col1\" >4924</td>\n",
       "                        <td id=\"T_a4ef794a_866c_11ea_a84d_4c32759ef4ffrow0_col2\" class=\"data row0 col2\" >22717</td>\n",
       "            </tr>\n",
       "            <tr>\n",
       "                        <th id=\"T_a4ef794a_866c_11ea_a84d_4c32759ef4fflevel0_row1\" class=\"row_heading level0 row1\" >evening (19-23)</th>\n",
       "                        <td id=\"T_a4ef794a_866c_11ea_a84d_4c32759ef4ffrow1_col0\" class=\"data row1 col0\" >261</td>\n",
       "                        <td id=\"T_a4ef794a_866c_11ea_a84d_4c32759ef4ffrow1_col1\" class=\"data row1 col1\" >2914</td>\n",
       "                        <td id=\"T_a4ef794a_866c_11ea_a84d_4c32759ef4ffrow1_col2\" class=\"data row1 col2\" >12060</td>\n",
       "            </tr>\n",
       "            <tr>\n",
       "                        <th id=\"T_a4ef794a_866c_11ea_a84d_4c32759ef4fflevel0_row2\" class=\"row_heading level0 row2\" >morning rush (6-9)</th>\n",
       "                        <td id=\"T_a4ef794a_866c_11ea_a84d_4c32759ef4ffrow2_col0\" class=\"data row2 col0\" >222</td>\n",
       "                        <td id=\"T_a4ef794a_866c_11ea_a84d_4c32759ef4ffrow2_col1\" class=\"data row2 col1\" >3702</td>\n",
       "                        <td id=\"T_a4ef794a_866c_11ea_a84d_4c32759ef4ffrow2_col2\" class=\"data row2 col2\" >20047</td>\n",
       "            </tr>\n",
       "            <tr>\n",
       "                        <th id=\"T_a4ef794a_866c_11ea_a84d_4c32759ef4fflevel0_row3\" class=\"row_heading level0 row3\" >night (23-6)</th>\n",
       "                        <td id=\"T_a4ef794a_866c_11ea_a84d_4c32759ef4ffrow3_col0\" class=\"data row3 col0\" >229</td>\n",
       "                        <td id=\"T_a4ef794a_866c_11ea_a84d_4c32759ef4ffrow3_col1\" class=\"data row3 col1\" >1616</td>\n",
       "                        <td id=\"T_a4ef794a_866c_11ea_a84d_4c32759ef4ffrow3_col2\" class=\"data row3 col2\" >5339</td>\n",
       "            </tr>\n",
       "            <tr>\n",
       "                        <th id=\"T_a4ef794a_866c_11ea_a84d_4c32759ef4fflevel0_row4\" class=\"row_heading level0 row4\" >office hours (9-16)</th>\n",
       "                        <td id=\"T_a4ef794a_866c_11ea_a84d_4c32759ef4ffrow4_col0\" class=\"data row4 col0\" >669</td>\n",
       "                        <td id=\"T_a4ef794a_866c_11ea_a84d_4c32759ef4ffrow4_col1\" class=\"data row4 col1\" >9378</td>\n",
       "                        <td id=\"T_a4ef794a_866c_11ea_a84d_4c32759ef4ffrow4_col2\" class=\"data row4 col2\" >45606</td>\n",
       "            </tr>\n",
       "    </tbody></table>"
      ],
      "text/plain": [
       "<pandas.io.formats.style.Styler at 0x1a1c6c66d0>"
      ]
     },
     "execution_count": 43,
     "metadata": {},
     "output_type": "execute_result"
    }
   ],
   "source": [
    "df_acc_counts = df_acc.groupby(['TimeGroup', 'Accident_Severity']).size()\n",
    "\n",
    "df_acc_counts = df_acc_counts.rename_axis(['TimeGroup', 'Accident_Severity']).unstack('Accident_Severity').rename({1:'fatal', 2:'serious', 3:'slight'}, axis='columns')\n",
    "df_acc_counts.style.apply(highlight_max)\n"
   ]
  },
  {
   "cell_type": "code",
   "execution_count": 44,
   "metadata": {
    "ExecuteTime": {
     "end_time": "2020-04-24T16:54:57.622029Z",
     "start_time": "2020-04-24T16:54:57.609188Z"
    }
   },
   "outputs": [
    {
     "data": {
      "text/html": [
       "<style  type=\"text/css\" >\n",
       "    #T_a4f26baa_866c_11ea_a84d_4c32759ef4ffrow2_col2 {\n",
       "            background-color:  yellow;\n",
       "        }    #T_a4f26baa_866c_11ea_a84d_4c32759ef4ffrow3_col0 {\n",
       "            background-color:  yellow;\n",
       "        }    #T_a4f26baa_866c_11ea_a84d_4c32759ef4ffrow3_col1 {\n",
       "            background-color:  yellow;\n",
       "        }</style><table id=\"T_a4f26baa_866c_11ea_a84d_4c32759ef4ff\" ><thead>    <tr>        <th class=\"index_name level0\" >Accident_Severity</th>        <th class=\"col_heading level0 col0\" >fatal in %</th>        <th class=\"col_heading level0 col1\" >serious in %</th>        <th class=\"col_heading level0 col2\" >slight in %</th>    </tr>    <tr>        <th class=\"index_name level0\" >TimeGroup</th>        <th class=\"blank\" ></th>        <th class=\"blank\" ></th>        <th class=\"blank\" ></th>    </tr></thead><tbody>\n",
       "                <tr>\n",
       "                        <th id=\"T_a4f26baa_866c_11ea_a84d_4c32759ef4fflevel0_row0\" class=\"row_heading level0 row0\" >afternoon rush (16-19)</th>\n",
       "                        <td id=\"T_a4f26baa_866c_11ea_a84d_4c32759ef4ffrow0_col0\" class=\"data row0 col0\" >0.010560</td>\n",
       "                        <td id=\"T_a4f26baa_866c_11ea_a84d_4c32759ef4ffrow0_col1\" class=\"data row0 col1\" >0.176260</td>\n",
       "                        <td id=\"T_a4f26baa_866c_11ea_a84d_4c32759ef4ffrow0_col2\" class=\"data row0 col2\" >0.813180</td>\n",
       "            </tr>\n",
       "            <tr>\n",
       "                        <th id=\"T_a4f26baa_866c_11ea_a84d_4c32759ef4fflevel0_row1\" class=\"row_heading level0 row1\" >evening (19-23)</th>\n",
       "                        <td id=\"T_a4f26baa_866c_11ea_a84d_4c32759ef4ffrow1_col0\" class=\"data row1 col0\" >0.017132</td>\n",
       "                        <td id=\"T_a4f26baa_866c_11ea_a84d_4c32759ef4ffrow1_col1\" class=\"data row1 col1\" >0.191270</td>\n",
       "                        <td id=\"T_a4f26baa_866c_11ea_a84d_4c32759ef4ffrow1_col2\" class=\"data row1 col2\" >0.791598</td>\n",
       "            </tr>\n",
       "            <tr>\n",
       "                        <th id=\"T_a4f26baa_866c_11ea_a84d_4c32759ef4fflevel0_row2\" class=\"row_heading level0 row2\" >morning rush (6-9)</th>\n",
       "                        <td id=\"T_a4f26baa_866c_11ea_a84d_4c32759ef4ffrow2_col0\" class=\"data row2 col0\" >0.009261</td>\n",
       "                        <td id=\"T_a4f26baa_866c_11ea_a84d_4c32759ef4ffrow2_col1\" class=\"data row2 col1\" >0.154437</td>\n",
       "                        <td id=\"T_a4f26baa_866c_11ea_a84d_4c32759ef4ffrow2_col2\" class=\"data row2 col2\" >0.836302</td>\n",
       "            </tr>\n",
       "            <tr>\n",
       "                        <th id=\"T_a4f26baa_866c_11ea_a84d_4c32759ef4fflevel0_row3\" class=\"row_heading level0 row3\" >night (23-6)</th>\n",
       "                        <td id=\"T_a4f26baa_866c_11ea_a84d_4c32759ef4ffrow3_col0\" class=\"data row3 col0\" >0.031876</td>\n",
       "                        <td id=\"T_a4f26baa_866c_11ea_a84d_4c32759ef4ffrow3_col1\" class=\"data row3 col1\" >0.224944</td>\n",
       "                        <td id=\"T_a4f26baa_866c_11ea_a84d_4c32759ef4ffrow3_col2\" class=\"data row3 col2\" >0.743179</td>\n",
       "            </tr>\n",
       "            <tr>\n",
       "                        <th id=\"T_a4f26baa_866c_11ea_a84d_4c32759ef4fflevel0_row4\" class=\"row_heading level0 row4\" >office hours (9-16)</th>\n",
       "                        <td id=\"T_a4f26baa_866c_11ea_a84d_4c32759ef4ffrow4_col0\" class=\"data row4 col0\" >0.012021</td>\n",
       "                        <td id=\"T_a4f26baa_866c_11ea_a84d_4c32759ef4ffrow4_col1\" class=\"data row4 col1\" >0.168508</td>\n",
       "                        <td id=\"T_a4f26baa_866c_11ea_a84d_4c32759ef4ffrow4_col2\" class=\"data row4 col2\" >0.819471</td>\n",
       "            </tr>\n",
       "    </tbody></table>"
      ],
      "text/plain": [
       "<pandas.io.formats.style.Styler at 0x1a1d0f1890>"
      ]
     },
     "execution_count": 44,
     "metadata": {},
     "output_type": "execute_result"
    }
   ],
   "source": [
    "df_acc_counts['sum'] = df_acc_counts.sum(axis=1)\n",
    "df_acc_counts = df_acc_counts.join(df_acc_counts.div(df_acc_counts['sum'], axis=0), rsuffix=' in %')\n",
    "\n",
    "df_acc_counts_share = df_acc_counts.drop(columns=['fatal', 'serious', 'slight', 'sum', 'sum in %'], axis=1)\n",
    "df_acc_counts_share.style.apply(highlight_max)\n"
   ]
  },
  {
   "cell_type": "code",
   "execution_count": 45,
   "metadata": {
    "ExecuteTime": {
     "end_time": "2020-04-24T16:54:57.858137Z",
     "start_time": "2020-04-24T16:54:57.625589Z"
    }
   },
   "outputs": [
    {
     "data": {
      "image/png": "[encoded data removed]",
      "text/plain": [
       "<Figure size 720x360 with 1 Axes>"
      ]
     },
     "metadata": {},
     "output_type": "display_data"
    }
   ],
   "source": [
    "\n",
    "fig, ax = plt.subplots(figsize=(10, 5))\n",
    "\n",
    "order = ['night (23-6)', 'evening (19-23)', 'afternoon rush (16-19)', 'office hours (9-16)', 'morning rush (6-9)']\n",
    "df_acc_counts_share.reindex(order).plot(kind='barh', ax=ax, stacked=True, cmap='cividis')\n",
    "ax.set_title('\\nAccident severity by hours\\n', fontsize=14, fontweight='bold')\n",
    "ax.set(xlabel='Percentage', ylabel='')\n",
    "ax.legend(bbox_to_anchor=(1.25, 0.98), frameon=False)\n",
    "\n",
    "\n",
    "sns.despine(top=True, right=True, left=True, bottom=True);\n"
   ]
  },
  {
   "cell_type": "code",
   "execution_count": null,
   "metadata": {},
   "outputs": [],
   "source": []
  },
  {
   "cell_type": "markdown",
   "metadata": {},
   "source": [
    "## Statistics of Vehicles\n",
    "\n",
    "\n",
    "\n"
   ]
  },
  {
   "cell_type": "markdown",
   "metadata": {},
   "source": [
    "### Sex and Age Band\n",
    "\n",
    "Sex of driver\n",
    "- 1\tMale\n",
    "- 2\tFemale\n",
    "- 3\tNot known\n",
    "- -1\tData missing or out of range\n",
    "\n",
    "\n",
    "Age band\n",
    "- 1\t0 - 5\n",
    "- 2\t6 - 10\n",
    "- 3\t11 - 15\n",
    "- 4\t16 - 20\n",
    "- 5\t21 - 25\n",
    "- 6\t26 - 35\n",
    "- 7\t36 - 45\n",
    "- 8\t46 - 55\n",
    "- 9\t56 - 65\n",
    "- 10\t66 - 75\n",
    "- 11\tOver 75\n",
    "- -1\tData missing or out of range"
   ]
  },
  {
   "cell_type": "code",
   "execution_count": 46,
   "metadata": {
    "ExecuteTime": {
     "end_time": "2020-04-24T16:54:57.865085Z",
     "start_time": "2020-04-24T16:54:57.859610Z"
    }
   },
   "outputs": [],
   "source": [
    "def get_sex(row):\n",
    "    if row['Sex_of_Driver'] == 1:\n",
    "        val = 'Male'\n",
    "    elif row['Sex_of_Driver'] == 2:\n",
    "        val = 'Female'\n",
    "    elif row['Sex_of_Driver'] == 3:\n",
    "        val = 'Unknown'\n",
    "    else:\n",
    "        val = 'Data Missing'\n",
    "    return val\n",
    "\n",
    "\n",
    "def get_age_brand(row):\n",
    "    age = row['Age_Band_of_Driver']\n",
    "    if age == 1:\n",
    "        val = '0-5'\n",
    "    elif age == 2:\n",
    "        val = '6-10'\n",
    "    elif age == 3:\n",
    "        val = '11-15'\n",
    "    elif age == 4:\n",
    "        val = '16-20'\n",
    "    elif age == 5:\n",
    "        val = '21-25'\n",
    "    elif age == 6:\n",
    "        val = '26-35'\n",
    "    elif age == 7:\n",
    "        val = '36-45'\n",
    "    elif age == 8:\n",
    "        val = '46-55'\n",
    "    elif age == 9:\n",
    "        val = '56-65'\n",
    "    elif age == 10:\n",
    "        val = '66-75'\n",
    "    elif age == 11:\n",
    "        val = 'Over 75'\n",
    "    else:\n",
    "        val = 'Data Missing'\n",
    "    \n",
    "    return val\n"
   ]
  },
  {
   "cell_type": "code",
   "execution_count": 47,
   "metadata": {
    "ExecuteTime": {
     "end_time": "2020-04-24T16:55:00.983026Z",
     "start_time": "2020-04-24T16:54:57.866629Z"
    }
   },
   "outputs": [],
   "source": [
    "df_veh['Sex_of_Driver_str'] = df_veh.apply(get_sex, axis=1)\n"
   ]
  },
  {
   "cell_type": "code",
   "execution_count": 48,
   "metadata": {
    "ExecuteTime": {
     "end_time": "2020-04-24T16:55:01.012575Z",
     "start_time": "2020-04-24T16:55:00.984317Z"
    }
   },
   "outputs": [
    {
     "data": {
      "text/plain": [
       "Male            0.644400\n",
       "Female          0.272582\n",
       "Unknown         0.083005\n",
       "Data Missing    0.000013\n",
       "Name: Sex_of_Driver_str, dtype: float64"
      ]
     },
     "execution_count": 48,
     "metadata": {},
     "output_type": "execute_result"
    }
   ],
   "source": [
    "df_veh.Sex_of_Driver_str.value_counts(normalize=True)\n"
   ]
  },
  {
   "cell_type": "code",
   "execution_count": 49,
   "metadata": {
    "ExecuteTime": {
     "end_time": "2020-04-24T16:55:03.853119Z",
     "start_time": "2020-04-24T16:55:01.014336Z"
    }
   },
   "outputs": [],
   "source": [
    "df_veh['Age_Band_of_Driver_str'] = df_veh.apply(get_age_brand, axis=1)\n"
   ]
  },
  {
   "cell_type": "code",
   "execution_count": 50,
   "metadata": {
    "ExecuteTime": {
     "end_time": "2020-04-24T16:55:03.888317Z",
     "start_time": "2020-04-24T16:55:03.855010Z"
    }
   },
   "outputs": [
    {
     "data": {
      "text/plain": [
       "26-35           0.214083\n",
       "36-45           0.168450\n",
       "46-55           0.155341\n",
       "Data Missing    0.116245\n",
       "21-25           0.105146\n",
       "56-65           0.089275\n",
       "16-20           0.068754\n",
       "66-75           0.044943\n",
       "Over 75         0.027958\n",
       "11-15           0.007860\n",
       "6-10            0.001762\n",
       "0-5             0.000184\n",
       "Name: Age_Band_of_Driver_str, dtype: float64"
      ]
     },
     "execution_count": 50,
     "metadata": {},
     "output_type": "execute_result"
    }
   ],
   "source": [
    "df_veh.Age_Band_of_Driver_str.value_counts(normalize=True)\n"
   ]
  },
  {
   "cell_type": "code",
   "execution_count": 51,
   "metadata": {
    "ExecuteTime": {
     "end_time": "2020-04-24T16:55:03.959832Z",
     "start_time": "2020-04-24T16:55:03.890070Z"
    }
   },
   "outputs": [
    {
     "data": {
      "text/html": [
       "<div>\n",
       "<style scoped>\n",
       "    .dataframe tbody tr th:only-of-type {\n",
       "        vertical-align: middle;\n",
       "    }\n",
       "\n",
       "    .dataframe tbody tr th {\n",
       "        vertical-align: top;\n",
       "    }\n",
       "\n",
       "    .dataframe thead th {\n",
       "        text-align: right;\n",
       "    }\n",
       "</style>\n",
       "<table border=\"1\" class=\"dataframe\">\n",
       "  <thead>\n",
       "    <tr style=\"text-align: right;\">\n",
       "      <th></th>\n",
       "      <th>Age_Band_of_Driver_str</th>\n",
       "      <th>Sex_of_Driver_str</th>\n",
       "      <th>Count</th>\n",
       "    </tr>\n",
       "  </thead>\n",
       "  <tbody>\n",
       "    <tr>\n",
       "      <th>0</th>\n",
       "      <td>0-5</td>\n",
       "      <td>Female</td>\n",
       "      <td>6</td>\n",
       "    </tr>\n",
       "    <tr>\n",
       "      <th>1</th>\n",
       "      <td>0-5</td>\n",
       "      <td>Male</td>\n",
       "      <td>38</td>\n",
       "    </tr>\n",
       "    <tr>\n",
       "      <th>2</th>\n",
       "      <td>11-15</td>\n",
       "      <td>Female</td>\n",
       "      <td>196</td>\n",
       "    </tr>\n",
       "    <tr>\n",
       "      <th>3</th>\n",
       "      <td>11-15</td>\n",
       "      <td>Male</td>\n",
       "      <td>1678</td>\n",
       "    </tr>\n",
       "    <tr>\n",
       "      <th>5</th>\n",
       "      <td>16-20</td>\n",
       "      <td>Female</td>\n",
       "      <td>4393</td>\n",
       "    </tr>\n",
       "    <tr>\n",
       "      <th>6</th>\n",
       "      <td>16-20</td>\n",
       "      <td>Male</td>\n",
       "      <td>11858</td>\n",
       "    </tr>\n",
       "    <tr>\n",
       "      <th>8</th>\n",
       "      <td>21-25</td>\n",
       "      <td>Female</td>\n",
       "      <td>7847</td>\n",
       "    </tr>\n",
       "    <tr>\n",
       "      <th>9</th>\n",
       "      <td>21-25</td>\n",
       "      <td>Male</td>\n",
       "      <td>17141</td>\n",
       "    </tr>\n",
       "    <tr>\n",
       "      <th>11</th>\n",
       "      <td>26-35</td>\n",
       "      <td>Female</td>\n",
       "      <td>15425</td>\n",
       "    </tr>\n",
       "    <tr>\n",
       "      <th>12</th>\n",
       "      <td>26-35</td>\n",
       "      <td>Male</td>\n",
       "      <td>34951</td>\n",
       "    </tr>\n",
       "    <tr>\n",
       "      <th>14</th>\n",
       "      <td>36-45</td>\n",
       "      <td>Female</td>\n",
       "      <td>12473</td>\n",
       "    </tr>\n",
       "    <tr>\n",
       "      <th>15</th>\n",
       "      <td>36-45</td>\n",
       "      <td>Male</td>\n",
       "      <td>27395</td>\n",
       "    </tr>\n",
       "    <tr>\n",
       "      <th>17</th>\n",
       "      <td>46-55</td>\n",
       "      <td>Female</td>\n",
       "      <td>11153</td>\n",
       "    </tr>\n",
       "    <tr>\n",
       "      <th>18</th>\n",
       "      <td>46-55</td>\n",
       "      <td>Male</td>\n",
       "      <td>25721</td>\n",
       "    </tr>\n",
       "    <tr>\n",
       "      <th>20</th>\n",
       "      <td>56-65</td>\n",
       "      <td>Female</td>\n",
       "      <td>6081</td>\n",
       "    </tr>\n",
       "    <tr>\n",
       "      <th>21</th>\n",
       "      <td>56-65</td>\n",
       "      <td>Male</td>\n",
       "      <td>15203</td>\n",
       "    </tr>\n",
       "    <tr>\n",
       "      <th>23</th>\n",
       "      <td>6-10</td>\n",
       "      <td>Female</td>\n",
       "      <td>89</td>\n",
       "    </tr>\n",
       "    <tr>\n",
       "      <th>24</th>\n",
       "      <td>6-10</td>\n",
       "      <td>Male</td>\n",
       "      <td>332</td>\n",
       "    </tr>\n",
       "    <tr>\n",
       "      <th>25</th>\n",
       "      <td>66-75</td>\n",
       "      <td>Female</td>\n",
       "      <td>3236</td>\n",
       "    </tr>\n",
       "    <tr>\n",
       "      <th>26</th>\n",
       "      <td>66-75</td>\n",
       "      <td>Male</td>\n",
       "      <td>7465</td>\n",
       "    </tr>\n",
       "    <tr>\n",
       "      <th>32</th>\n",
       "      <td>Over 75</td>\n",
       "      <td>Female</td>\n",
       "      <td>2099</td>\n",
       "    </tr>\n",
       "    <tr>\n",
       "      <th>33</th>\n",
       "      <td>Over 75</td>\n",
       "      <td>Male</td>\n",
       "      <td>4569</td>\n",
       "    </tr>\n",
       "  </tbody>\n",
       "</table>\n",
       "</div>"
      ],
      "text/plain": [
       "   Age_Band_of_Driver_str Sex_of_Driver_str  Count\n",
       "0                     0-5            Female      6\n",
       "1                     0-5              Male     38\n",
       "2                   11-15            Female    196\n",
       "3                   11-15              Male   1678\n",
       "5                   16-20            Female   4393\n",
       "6                   16-20              Male  11858\n",
       "8                   21-25            Female   7847\n",
       "9                   21-25              Male  17141\n",
       "11                  26-35            Female  15425\n",
       "12                  26-35              Male  34951\n",
       "14                  36-45            Female  12473\n",
       "15                  36-45              Male  27395\n",
       "17                  46-55            Female  11153\n",
       "18                  46-55              Male  25721\n",
       "20                  56-65            Female   6081\n",
       "21                  56-65              Male  15203\n",
       "23                   6-10            Female     89\n",
       "24                   6-10              Male    332\n",
       "25                  66-75            Female   3236\n",
       "26                  66-75              Male   7465\n",
       "32                Over 75            Female   2099\n",
       "33                Over 75              Male   4569"
      ]
     },
     "execution_count": 51,
     "metadata": {},
     "output_type": "execute_result"
    }
   ],
   "source": [
    "\n",
    "df_drivers = df_veh.groupby(['Age_Band_of_Driver_str', 'Sex_of_Driver_str']).size().reset_index()\n",
    "\n",
    "\n",
    "df_drivers.drop(df_drivers[(df_drivers['Age_Band_of_Driver_str'] == 'Data Missing') | \n",
    "                           (df_drivers['Sex_of_Driver_str'] == 'Data Missing') | \n",
    "                           (df_drivers['Sex_of_Driver_str'] == 'Unknown')].index, axis=0, inplace=True)\n",
    "\n",
    "df_drivers.columns = ['Age_Band_of_Driver_str', 'Sex_of_Driver_str', 'Count']\n",
    "df_drivers\n"
   ]
  },
  {
   "cell_type": "code",
   "execution_count": 52,
   "metadata": {
    "ExecuteTime": {
     "end_time": "2020-04-24T16:55:04.321438Z",
     "start_time": "2020-04-24T16:55:03.961543Z"
    }
   },
   "outputs": [
    {
     "data": {
      "image/png": "[encoded data removed]",
      "text/plain": [
       "<Figure size 1008x504 with 1 Axes>"
      ]
     },
     "metadata": {},
     "output_type": "display_data"
    }
   ],
   "source": [
    "\n",
    "fig, ax = plt.subplots(figsize=(14, 7))\n",
    "sns.barplot(y='Age_Band_of_Driver_str', x='Count', hue='Sex_of_Driver_str', data=df_drivers, palette='bone')\n",
    "ax.set_title('\\nAccidents (Drivers by Age and Sex)\\n', fontsize=14, fontweight='bold')\n",
    "ax.set(xlabel='Count', ylabel='Age Band of Driver')\n",
    "ax.legend(bbox_to_anchor=(1.1, 1.), borderaxespad=0., frameon=False)\n",
    "\n",
    "\n",
    "sns.despine(top=True, right=True, left=True, bottom=True);\n"
   ]
  },
  {
   "cell_type": "code",
   "execution_count": null,
   "metadata": {},
   "outputs": [],
   "source": []
  },
  {
   "cell_type": "code",
   "execution_count": 53,
   "metadata": {
    "ExecuteTime": {
     "end_time": "2020-04-24T17:02:33.105785Z",
     "start_time": "2020-04-24T17:02:33.101534Z"
    }
   },
   "outputs": [
    {
     "data": {
      "text/plain": [
       "Index(['Accident_Index', 'Vehicle_Reference', 'Vehicle_Type',\n",
       "       'Towing_and_Articulation', 'Vehicle_Manoeuvre',\n",
       "       'Vehicle_Location-Restricted_Lane', 'Junction_Location',\n",
       "       'Skidding_and_Overturning', 'Hit_Object_in_Carriageway',\n",
       "       'Vehicle_Leaving_Carriageway', 'Hit_Object_off_Carriageway',\n",
       "       '1st_Point_of_Impact', 'Was_Vehicle_Left_Hand_Drive?',\n",
       "       'Journey_Purpose_of_Driver', 'Sex_of_Driver', 'Age_of_Driver',\n",
       "       'Age_Band_of_Driver', 'Engine_Capacity_(CC)', 'Propulsion_Code',\n",
       "       'Age_of_Vehicle', 'Driver_IMD_Decile', 'Driver_Home_Area_Type',\n",
       "       'Vehicle_IMD_Decile', 'Sex_of_Driver_str', 'Age_Band_of_Driver_str'],\n",
       "      dtype='object')"
      ]
     },
     "execution_count": 53,
     "metadata": {},
     "output_type": "execute_result"
    }
   ],
   "source": [
    "df_veh.columns"
   ]
  },
  {
   "cell_type": "markdown",
   "metadata": {},
   "source": [
    "### Manoeuvre\n",
    "\n",
    "\n",
    "\n",
    "- 1\tReversing\n",
    "- 2\tParked\n",
    "- 3\tWaiting to go - held up\n",
    "- 4\tSlowing or stopping\n",
    "- 5\tMoving off\n",
    "- 6\tU-turn\n",
    "- 7\tTurning left\n",
    "- 8\tWaiting to turn left\n",
    "- 9\tTurning right\n",
    "- 10\tWaiting to turn right\n",
    "- 11\tChanging lane to left\n",
    "- 12\tChanging lane to right\n",
    "- 13\tOvertaking moving vehicle - offside\n",
    "- 14\tOvertaking static vehicle - offside\n",
    "- 15\tOvertaking - nearside\n",
    "- 16\tGoing ahead left-hand bend\n",
    "- 17\tGoing ahead right-hand bend\n",
    "- 18\tGoing ahead other\n",
    "- -1\tData missing or out of range\n"
   ]
  },
  {
   "cell_type": "code",
   "execution_count": 54,
   "metadata": {
    "ExecuteTime": {
     "end_time": "2020-04-24T17:20:58.519331Z",
     "start_time": "2020-04-24T17:20:58.512572Z"
    }
   },
   "outputs": [],
   "source": [
    "def get_manoeuvre(row):\n",
    "    age = row['Vehicle_Manoeuvre']\n",
    "    if age == 1:\n",
    "        val = 'Reversing'\n",
    "    elif age == 2:\n",
    "        val = 'Parked'\n",
    "    elif age == 3:\n",
    "        val = 'Waiting to go - held up'\n",
    "    elif age == 4:\n",
    "        val = 'Slowing or stopping'\n",
    "    elif age == 5:\n",
    "        val = 'Moving off'\n",
    "    elif age == 6:\n",
    "        val = 'U-turn'\n",
    "    elif age == 7:\n",
    "        val = 'Turning left'\n",
    "    elif age == 8:\n",
    "        val = 'Waiting to turn left'\n",
    "    elif age == 9:\n",
    "        val = 'Turning right'\n",
    "    elif age == 10:\n",
    "        val = 'Waiting to turn right'\n",
    "    elif age == 11:\n",
    "        val = 'Changing lane to left'\n",
    "    elif age == 12:\n",
    "        val = 'Changing lane to right'\n",
    "    elif age == 13:\n",
    "        val = 'Overtaking moving vehicle - offside'\n",
    "    elif age == 14:\n",
    "        val = 'Overtaking static vehicle - offside'\n",
    "    elif age == 15:\n",
    "        val = 'Overtaking - nearside'\n",
    "    elif age == 16:\n",
    "        val = 'Going ahead left-hand bend'\n",
    "    elif age == 17:\n",
    "        val = 'Going ahead right-hand bend'\n",
    "    elif age == 18:\n",
    "        val = 'Going ahead other'\n",
    "    else:\n",
    "        val = 'Data Missing'\n",
    "    \n",
    "    return val\n"
   ]
  },
  {
   "cell_type": "code",
   "execution_count": 55,
   "metadata": {
    "ExecuteTime": {
     "end_time": "2020-04-24T17:21:04.109458Z",
     "start_time": "2020-04-24T17:21:01.451626Z"
    }
   },
   "outputs": [],
   "source": [
    "df_veh['Vehicle_Manoeuvre_str'] = df_veh.apply(get_manoeuvre, axis=1)\n"
   ]
  },
  {
   "cell_type": "code",
   "execution_count": 56,
   "metadata": {
    "ExecuteTime": {
     "end_time": "2020-04-24T17:21:04.138877Z",
     "start_time": "2020-04-24T17:21:04.111464Z"
    }
   },
   "outputs": [
    {
     "data": {
      "text/html": [
       "<div>\n",
       "<style scoped>\n",
       "    .dataframe tbody tr th:only-of-type {\n",
       "        vertical-align: middle;\n",
       "    }\n",
       "\n",
       "    .dataframe tbody tr th {\n",
       "        vertical-align: top;\n",
       "    }\n",
       "\n",
       "    .dataframe thead th {\n",
       "        text-align: right;\n",
       "    }\n",
       "</style>\n",
       "<table border=\"1\" class=\"dataframe\">\n",
       "  <thead>\n",
       "    <tr style=\"text-align: right;\">\n",
       "      <th></th>\n",
       "      <th>Vehicle_Manoeuvre_str</th>\n",
       "      <th>counts</th>\n",
       "    </tr>\n",
       "  </thead>\n",
       "  <tbody>\n",
       "    <tr>\n",
       "      <th>4</th>\n",
       "      <td>Going ahead other</td>\n",
       "      <td>114183</td>\n",
       "    </tr>\n",
       "    <tr>\n",
       "      <th>14</th>\n",
       "      <td>Turning right</td>\n",
       "      <td>22259</td>\n",
       "    </tr>\n",
       "    <tr>\n",
       "      <th>12</th>\n",
       "      <td>Slowing or stopping</td>\n",
       "      <td>17133</td>\n",
       "    </tr>\n",
       "    <tr>\n",
       "      <th>16</th>\n",
       "      <td>Waiting to go - held up</td>\n",
       "      <td>14214</td>\n",
       "    </tr>\n",
       "    <tr>\n",
       "      <th>6</th>\n",
       "      <td>Moving off</td>\n",
       "      <td>11688</td>\n",
       "    </tr>\n",
       "    <tr>\n",
       "      <th>10</th>\n",
       "      <td>Parked</td>\n",
       "      <td>9881</td>\n",
       "    </tr>\n",
       "    <tr>\n",
       "      <th>5</th>\n",
       "      <td>Going ahead right-hand bend</td>\n",
       "      <td>7964</td>\n",
       "    </tr>\n",
       "    <tr>\n",
       "      <th>13</th>\n",
       "      <td>Turning left</td>\n",
       "      <td>7866</td>\n",
       "    </tr>\n",
       "    <tr>\n",
       "      <th>3</th>\n",
       "      <td>Going ahead left-hand bend</td>\n",
       "      <td>6939</td>\n",
       "    </tr>\n",
       "    <tr>\n",
       "      <th>8</th>\n",
       "      <td>Overtaking moving vehicle - offside</td>\n",
       "      <td>4503</td>\n",
       "    </tr>\n",
       "    <tr>\n",
       "      <th>2</th>\n",
       "      <td>Data Missing</td>\n",
       "      <td>3957</td>\n",
       "    </tr>\n",
       "    <tr>\n",
       "      <th>18</th>\n",
       "      <td>Waiting to turn right</td>\n",
       "      <td>3531</td>\n",
       "    </tr>\n",
       "    <tr>\n",
       "      <th>11</th>\n",
       "      <td>Reversing</td>\n",
       "      <td>3401</td>\n",
       "    </tr>\n",
       "    <tr>\n",
       "      <th>9</th>\n",
       "      <td>Overtaking static vehicle - offside</td>\n",
       "      <td>2661</td>\n",
       "    </tr>\n",
       "    <tr>\n",
       "      <th>1</th>\n",
       "      <td>Changing lane to right</td>\n",
       "      <td>2086</td>\n",
       "    </tr>\n",
       "    <tr>\n",
       "      <th>0</th>\n",
       "      <td>Changing lane to left</td>\n",
       "      <td>1933</td>\n",
       "    </tr>\n",
       "    <tr>\n",
       "      <th>15</th>\n",
       "      <td>U-turn</td>\n",
       "      <td>1901</td>\n",
       "    </tr>\n",
       "    <tr>\n",
       "      <th>7</th>\n",
       "      <td>Overtaking - nearside</td>\n",
       "      <td>1619</td>\n",
       "    </tr>\n",
       "    <tr>\n",
       "      <th>17</th>\n",
       "      <td>Waiting to turn left</td>\n",
       "      <td>1207</td>\n",
       "    </tr>\n",
       "  </tbody>\n",
       "</table>\n",
       "</div>"
      ],
      "text/plain": [
       "                  Vehicle_Manoeuvre_str  counts\n",
       "4                     Going ahead other  114183\n",
       "14                        Turning right   22259\n",
       "12                  Slowing or stopping   17133\n",
       "16              Waiting to go - held up   14214\n",
       "6                            Moving off   11688\n",
       "10                               Parked    9881\n",
       "5           Going ahead right-hand bend    7964\n",
       "13                         Turning left    7866\n",
       "3            Going ahead left-hand bend    6939\n",
       "8   Overtaking moving vehicle - offside    4503\n",
       "2                          Data Missing    3957\n",
       "18                Waiting to turn right    3531\n",
       "11                            Reversing    3401\n",
       "9   Overtaking static vehicle - offside    2661\n",
       "1                Changing lane to right    2086\n",
       "0                 Changing lane to left    1933\n",
       "15                               U-turn    1901\n",
       "7                 Overtaking - nearside    1619\n",
       "17                 Waiting to turn left    1207"
      ]
     },
     "execution_count": 56,
     "metadata": {},
     "output_type": "execute_result"
    }
   ],
   "source": [
    "# prepare dataframe\n",
    "df_veh_manoeuvre = df_veh.groupby('Vehicle_Manoeuvre_str').size().reset_index(name='counts').sort_values(by='counts', ascending=False)\n",
    "                                                        \n",
    "#df_veh_manoeuvre = df_veh_manoeuvre[df_veh_manoeuvre.counts > 80000]\n",
    "df_veh_manoeuvre\n"
   ]
  },
  {
   "cell_type": "code",
   "execution_count": 57,
   "metadata": {
    "ExecuteTime": {
     "end_time": "2020-04-24T17:21:53.934405Z",
     "start_time": "2020-04-24T17:21:53.617921Z"
    }
   },
   "outputs": [
    {
     "data": {
      "image/png": "[encoded data removed]",
      "text/plain": [
       "<Figure size 720x360 with 1 Axes>"
      ]
     },
     "metadata": {},
     "output_type": "display_data"
    }
   ],
   "source": [
    "sns.set_style('white')\n",
    "fig, ax = plt.subplots(figsize=(10,5))\n",
    "\n",
    "\n",
    "sns.barplot(x=\"counts\", y=\"Vehicle_Manoeuvre_str\", data=df_veh_manoeuvre)\n",
    "\n",
    "#df_veh_manoeuvre.plot(kind='barh', ax=ax)\n",
    "ax.set_title('\\nAccidents per Manoeuvre\\n', fontsize=15, fontweight='bold')\n",
    "ax.set(xlabel='\\nNumber of accidents', ylabel='Manoeuvre')\n",
    "ax.legend('')\n",
    "\n",
    "sns.despine(ax=ax, top=True, right=True, left=True, bottom=True);\n"
   ]
  },
  {
   "cell_type": "code",
   "execution_count": null,
   "metadata": {},
   "outputs": [],
   "source": []
  },
  {
   "cell_type": "code",
   "execution_count": null,
   "metadata": {},
   "outputs": [],
   "source": []
  },
  {
   "cell_type": "markdown",
   "metadata": {},
   "source": [
    "# Predicting Police Officer Attendance\n"
   ]
  },
  {
   "cell_type": "markdown",
   "metadata": {},
   "source": [
    "## Merging the data\n"
   ]
  },
  {
   "cell_type": "code",
   "execution_count": 112,
   "metadata": {
    "ExecuteTime": {
     "end_time": "2020-04-24T17:29:00.246903Z",
     "start_time": "2020-04-24T17:29:00.032901Z"
    }
   },
   "outputs": [],
   "source": [
    "df_veh_acc = pd.merge(df_acc, df_veh, on='Accident_Index')\n"
   ]
  },
  {
   "cell_type": "code",
   "execution_count": 113,
   "metadata": {
    "ExecuteTime": {
     "end_time": "2020-04-24T17:30:08.198856Z",
     "start_time": "2020-04-24T17:30:07.995299Z"
    }
   },
   "outputs": [
    {
     "name": "stdout",
     "output_type": "stream",
     "text": [
      "<class 'pandas.core.frame.DataFrame'>\n",
      "Int64Index: 205624 entries, 0 to 205623\n",
      "Data columns (total 59 columns):\n",
      " #   Column                                       Non-Null Count   Dtype         \n",
      "---  ------                                       --------------   -----         \n",
      " 0   Accident_Index                               205624 non-null  object        \n",
      " 1   Location_Easting_OSGR                        205590 non-null  float64       \n",
      " 2   Location_Northing_OSGR                       205590 non-null  float64       \n",
      " 3   Longitude                                    205574 non-null  float64       \n",
      " 4   Latitude                                     205574 non-null  float64       \n",
      " 5   Police_Force                                 205624 non-null  int64         \n",
      " 6   Accident_Severity                            205624 non-null  int64         \n",
      " 7   Number_of_Vehicles                           205624 non-null  int64         \n",
      " 8   Number_of_Casualties                         205624 non-null  int64         \n",
      " 9   Date                                         205624 non-null  datetime64[ns]\n",
      " 10  Day_of_Week                                  205624 non-null  int64         \n",
      " 11  Time                                         205624 non-null  object        \n",
      " 12  Local_Authority_(District)                   205624 non-null  int64         \n",
      " 13  Local_Authority_(Highway)                    205624 non-null  object        \n",
      " 14  1st_Road_Class                               205624 non-null  int64         \n",
      " 15  1st_Road_Number                              205624 non-null  int64         \n",
      " 16  Road_Type                                    205624 non-null  int64         \n",
      " 17  Speed_limit                                  205624 non-null  int64         \n",
      " 18  Junction_Detail                              205624 non-null  int64         \n",
      " 19  Junction_Control                             205624 non-null  int64         \n",
      " 20  2nd_Road_Class                               205624 non-null  int64         \n",
      " 21  2nd_Road_Number                              205624 non-null  int64         \n",
      " 22  Pedestrian_Crossing-Human_Control            205624 non-null  int64         \n",
      " 23  Pedestrian_Crossing-Physical_Facilities      205624 non-null  int64         \n",
      " 24  Light_Conditions                             205624 non-null  int64         \n",
      " 25  Weather_Conditions                           205624 non-null  int64         \n",
      " 26  Road_Surface_Conditions                      205624 non-null  int64         \n",
      " 27  Special_Conditions_at_Site                   205624 non-null  int64         \n",
      " 28  Carriageway_Hazards                          205624 non-null  int64         \n",
      " 29  Urban_or_Rural_Area                          205624 non-null  int64         \n",
      " 30  Did_Police_Officer_Attend_Scene_of_Accident  205624 non-null  int64         \n",
      " 31  LSOA_of_Accident_Location                    192930 non-null  object        \n",
      " 32  Hour                                         205624 non-null  int64         \n",
      " 33  TimeGroup                                    205624 non-null  object        \n",
      " 34  Vehicle_Reference                            205624 non-null  int64         \n",
      " 35  Vehicle_Type                                 205624 non-null  int64         \n",
      " 36  Towing_and_Articulation                      205624 non-null  int64         \n",
      " 37  Vehicle_Manoeuvre                            205624 non-null  int64         \n",
      " 38  Vehicle_Location-Restricted_Lane             205624 non-null  int64         \n",
      " 39  Junction_Location                            205624 non-null  int64         \n",
      " 40  Skidding_and_Overturning                     205624 non-null  int64         \n",
      " 41  Hit_Object_in_Carriageway                    205624 non-null  int64         \n",
      " 42  Vehicle_Leaving_Carriageway                  205624 non-null  int64         \n",
      " 43  Hit_Object_off_Carriageway                   205624 non-null  int64         \n",
      " 44  1st_Point_of_Impact                          205624 non-null  int64         \n",
      " 45  Was_Vehicle_Left_Hand_Drive?                 205624 non-null  int64         \n",
      " 46  Journey_Purpose_of_Driver                    205624 non-null  int64         \n",
      " 47  Sex_of_Driver                                205624 non-null  int64         \n",
      " 48  Age_of_Driver                                205624 non-null  int64         \n",
      " 49  Age_Band_of_Driver                           205624 non-null  int64         \n",
      " 50  Engine_Capacity_(CC)                         205624 non-null  int64         \n",
      " 51  Propulsion_Code                              205624 non-null  int64         \n",
      " 52  Age_of_Vehicle                               205624 non-null  int64         \n",
      " 53  Driver_IMD_Decile                            205624 non-null  int64         \n",
      " 54  Driver_Home_Area_Type                        205624 non-null  int64         \n",
      " 55  Vehicle_IMD_Decile                           205624 non-null  int64         \n",
      " 56  Sex_of_Driver_str                            205624 non-null  object        \n",
      " 57  Age_Band_of_Driver_str                       205624 non-null  object        \n",
      " 58  Vehicle_Manoeuvre_str                        205624 non-null  object        \n",
      "dtypes: datetime64[ns](1), float64(4), int64(46), object(8)\n",
      "memory usage: 94.1+ MB\n"
     ]
    }
   ],
   "source": [
    "df_veh_acc.info()    \n"
   ]
  },
  {
   "cell_type": "code",
   "execution_count": 114,
   "metadata": {
    "ExecuteTime": {
     "end_time": "2020-04-24T17:29:31.955505Z",
     "start_time": "2020-04-24T17:29:31.541907Z"
    }
   },
   "outputs": [
    {
     "data": {
      "text/plain": [
       "Accident_Index                                     0\n",
       "Location_Easting_OSGR                             34\n",
       "Location_Northing_OSGR                            34\n",
       "Longitude                                         50\n",
       "Latitude                                          50\n",
       "Police_Force                                       0\n",
       "Accident_Severity                                  0\n",
       "Number_of_Vehicles                                 0\n",
       "Number_of_Casualties                               0\n",
       "Date                                               0\n",
       "Day_of_Week                                        0\n",
       "Time                                               0\n",
       "Local_Authority_(District)                         0\n",
       "Local_Authority_(Highway)                          0\n",
       "1st_Road_Class                                     0\n",
       "1st_Road_Number                                    0\n",
       "Road_Type                                          0\n",
       "Speed_limit                                        0\n",
       "Junction_Detail                                    0\n",
       "Junction_Control                                   0\n",
       "2nd_Road_Class                                     0\n",
       "2nd_Road_Number                                    0\n",
       "Pedestrian_Crossing-Human_Control                  0\n",
       "Pedestrian_Crossing-Physical_Facilities            0\n",
       "Light_Conditions                                   0\n",
       "Weather_Conditions                                 0\n",
       "Road_Surface_Conditions                            0\n",
       "Special_Conditions_at_Site                         0\n",
       "Carriageway_Hazards                                0\n",
       "Urban_or_Rural_Area                                0\n",
       "Did_Police_Officer_Attend_Scene_of_Accident        0\n",
       "LSOA_of_Accident_Location                      12694\n",
       "Hour                                               0\n",
       "TimeGroup                                          0\n",
       "Vehicle_Reference                                  0\n",
       "Vehicle_Type                                       0\n",
       "Towing_and_Articulation                            0\n",
       "Vehicle_Manoeuvre                                  0\n",
       "Vehicle_Location-Restricted_Lane                   0\n",
       "Junction_Location                                  0\n",
       "Skidding_and_Overturning                           0\n",
       "Hit_Object_in_Carriageway                          0\n",
       "Vehicle_Leaving_Carriageway                        0\n",
       "Hit_Object_off_Carriageway                         0\n",
       "1st_Point_of_Impact                                0\n",
       "Was_Vehicle_Left_Hand_Drive?                       0\n",
       "Journey_Purpose_of_Driver                          0\n",
       "Sex_of_Driver                                      0\n",
       "Age_of_Driver                                      0\n",
       "Age_Band_of_Driver                                 0\n",
       "Engine_Capacity_(CC)                               0\n",
       "Propulsion_Code                                    0\n",
       "Age_of_Vehicle                                     0\n",
       "Driver_IMD_Decile                                  0\n",
       "Driver_Home_Area_Type                              0\n",
       "Vehicle_IMD_Decile                                 0\n",
       "Sex_of_Driver_str                                  0\n",
       "Age_Band_of_Driver_str                             0\n",
       "Vehicle_Manoeuvre_str                              0\n",
       "dtype: int64"
      ]
     },
     "execution_count": 114,
     "metadata": {},
     "output_type": "execute_result"
    }
   ],
   "source": [
    "df_veh_acc.isna().sum()\n"
   ]
  },
  {
   "cell_type": "code",
   "execution_count": null,
   "metadata": {},
   "outputs": [],
   "source": []
  },
  {
   "cell_type": "markdown",
   "metadata": {},
   "source": [
    "## Feature engineering\n"
   ]
  },
  {
   "cell_type": "markdown",
   "metadata": {},
   "source": [
    "- Encoding 'TimeGroup' into integer"
   ]
  },
  {
   "cell_type": "code",
   "execution_count": null,
   "metadata": {},
   "outputs": [],
   "source": [
    "le_timegroup = preprocessing.LabelEncoder()\n",
    "df_veh_acc['TimeGroup'] = le_time.fit_transform(df_veh_acc['TimeGroup'].values)\n"
   ]
  },
  {
   "cell_type": "code",
   "execution_count": null,
   "metadata": {},
   "outputs": [],
   "source": [
    "df_veh_acc['TimeGroup']\n"
   ]
  },
  {
   "cell_type": "code",
   "execution_count": null,
   "metadata": {},
   "outputs": [],
   "source": []
  },
  {
   "cell_type": "markdown",
   "metadata": {},
   "source": [
    "* Police_Force\n"
   ]
  },
  {
   "cell_type": "code",
   "execution_count": 349,
   "metadata": {},
   "outputs": [
    {
     "data": {
      "text/plain": [
       "1     42931\n",
       "20    10775\n",
       "46     9085\n",
       "13     8100\n",
       "6      7656\n",
       "44     7555\n",
       "45     6807\n",
       "4      6159\n",
       "97     5731\n",
       "47     5241\n",
       "14     5230\n",
       "31     4485\n",
       "16     4268\n",
       "10     4266\n",
       "43     4079\n",
       "7      4065\n",
       "5      3944\n",
       "22     3899\n",
       "35     3768\n",
       "21     3537\n",
       "12     3359\n",
       "36     3286\n",
       "32     3278\n",
       "33     3143\n",
       "62     3129\n",
       "30     3030\n",
       "95     2974\n",
       "55     2920\n",
       "37     2888\n",
       "40     2858\n",
       "23     2654\n",
       "54     2474\n",
       "3      2289\n",
       "63     2289\n",
       "34     2040\n",
       "11     1927\n",
       "60     1761\n",
       "53     1308\n",
       "17     1266\n",
       "61     1175\n",
       "93      813\n",
       "92      797\n",
       "96      755\n",
       "91      614\n",
       "94      565\n",
       "98      418\n",
       "48       33\n",
       "Name: Police_Force, dtype: int64"
      ]
     },
     "execution_count": 349,
     "metadata": {},
     "output_type": "execute_result"
    }
   ],
   "source": [
    "df_veh_acc['Police_Force'].value_counts()\n"
   ]
  },
  {
   "cell_type": "code",
   "execution_count": null,
   "metadata": {},
   "outputs": [],
   "source": []
  },
  {
   "cell_type": "markdown",
   "metadata": {},
   "source": [
    "* Encode 'Local_Authority_(District)'\n"
   ]
  },
  {
   "cell_type": "code",
   "execution_count": 311,
   "metadata": {},
   "outputs": [
    {
     "data": {
      "text/plain": [
       "<matplotlib.axes._subplots.AxesSubplot at 0x1a29913710>"
      ]
     },
     "execution_count": 311,
     "metadata": {},
     "output_type": "execute_result"
    },
    {
     "data": {
      "image/png": "[encoded data removed]",
      "text/plain": [
       "<Figure size 432x288 with 1 Axes>"
      ]
     },
     "metadata": {},
     "output_type": "display_data"
    }
   ],
   "source": [
    "df_veh_acc['Local_Authority_(District)'].plot.box(grid='True')\n"
   ]
  },
  {
   "cell_type": "code",
   "execution_count": 312,
   "metadata": {},
   "outputs": [
    {
     "data": {
      "text/plain": [
       "1    56202\n",
       "2    21273\n",
       "3    28954\n",
       "4    30519\n",
       "5    18143\n",
       "6    50533\n",
       "Name: Local_Authority_(District)_bin, dtype: int64"
      ]
     },
     "execution_count": 312,
     "metadata": {},
     "output_type": "execute_result"
    }
   ],
   "source": [
    "# arguments in bins parameter denote left edge of each bin\n",
    "df_veh_acc['Local_Authority_(District)_bin'] = np.digitize(df_veh_acc['Local_Authority_(District)'], \n",
    "                                                           bins=[1, 100, 200, 300, 400, 500])\n",
    "\n",
    "# convert into categorical column\n",
    "df_veh_acc['Local_Authority_(District)_bin'] = df_veh_acc['Local_Authority_(District)_bin'].astype('category')\n",
    "\n",
    "# check the count within each bucket\n",
    "df_veh_acc['Local_Authority_(District)_bin'].value_counts().sort_index()\n"
   ]
  },
  {
   "cell_type": "code",
   "execution_count": null,
   "metadata": {},
   "outputs": [],
   "source": []
  },
  {
   "cell_type": "markdown",
   "metadata": {},
   "source": [
    "* Local_Authority_(Highway)"
   ]
  },
  {
   "cell_type": "code",
   "execution_count": 314,
   "metadata": {},
   "outputs": [
    {
     "data": {
      "text/plain": [
       "193"
      ]
     },
     "execution_count": 314,
     "metadata": {},
     "output_type": "execute_result"
    }
   ],
   "source": [
    "len(set(df_veh_acc['Local_Authority_(Highway)'].values))"
   ]
  },
  {
   "cell_type": "code",
   "execution_count": 316,
   "metadata": {},
   "outputs": [],
   "source": [
    "le_lah = preprocessing.LabelEncoder()\n",
    "df_veh_acc['Local_Authority_(Highway)_encode'] = le_lah.fit_transform(df_veh_acc['Local_Authority_(Highway)'].values)\n"
   ]
  },
  {
   "cell_type": "code",
   "execution_count": 318,
   "metadata": {},
   "outputs": [
    {
     "data": {
      "text/plain": [
       "<bound method Series.count of 0          91\n",
       "1          91\n",
       "2         114\n",
       "3         114\n",
       "4         111\n",
       "         ... \n",
       "205619    140\n",
       "205620    140\n",
       "205621    140\n",
       "205622    140\n",
       "205623    140\n",
       "Name: Local_Authority_(Highway)_encode, Length: 205624, dtype: int64>"
      ]
     },
     "execution_count": 318,
     "metadata": {},
     "output_type": "execute_result"
    }
   ],
   "source": [
    "df_veh_acc['Local_Authority_(Highway)_encode'].count\n"
   ]
  },
  {
   "cell_type": "code",
   "execution_count": null,
   "metadata": {},
   "outputs": [],
   "source": []
  },
  {
   "cell_type": "markdown",
   "metadata": {},
   "source": [
    "* 1st_Road_Class"
   ]
  },
  {
   "cell_type": "code",
   "execution_count": 320,
   "metadata": {},
   "outputs": [
    {
     "data": {
      "text/plain": [
       "<bound method Series.count of 0         3\n",
       "1         3\n",
       "2         3\n",
       "3         3\n",
       "4         3\n",
       "         ..\n",
       "205619    2\n",
       "205620    2\n",
       "205621    3\n",
       "205622    4\n",
       "205623    4\n",
       "Name: 1st_Road_Class, Length: 205624, dtype: int64>"
      ]
     },
     "execution_count": 320,
     "metadata": {},
     "output_type": "execute_result"
    }
   ],
   "source": [
    "df_veh_acc['1st_Road_Class'].count\n"
   ]
  },
  {
   "cell_type": "code",
   "execution_count": null,
   "metadata": {},
   "outputs": [],
   "source": []
  },
  {
   "cell_type": "markdown",
   "metadata": {},
   "source": [
    "* Road_Type"
   ]
  },
  {
   "cell_type": "code",
   "execution_count": 324,
   "metadata": {},
   "outputs": [
    {
     "data": {
      "text/plain": [
       "<bound method Series.count of 0         6\n",
       "1         6\n",
       "2         6\n",
       "3         6\n",
       "4         6\n",
       "         ..\n",
       "205619    3\n",
       "205620    3\n",
       "205621    6\n",
       "205622    6\n",
       "205623    6\n",
       "Name: Road_Type, Length: 205624, dtype: int64>"
      ]
     },
     "execution_count": 324,
     "metadata": {},
     "output_type": "execute_result"
    }
   ],
   "source": [
    "df_veh_acc['Road_Type'].count\n"
   ]
  },
  {
   "cell_type": "code",
   "execution_count": 325,
   "metadata": {},
   "outputs": [
    {
     "data": {
      "text/plain": [
       "{1, 2, 3, 6, 7, 9}"
      ]
     },
     "execution_count": 325,
     "metadata": {},
     "output_type": "execute_result"
    }
   ],
   "source": [
    "set(df_veh_acc['Road_Type'].values)\n"
   ]
  },
  {
   "cell_type": "code",
   "execution_count": null,
   "metadata": {},
   "outputs": [],
   "source": []
  },
  {
   "cell_type": "markdown",
   "metadata": {},
   "source": [
    "* Junction_Detail"
   ]
  },
  {
   "cell_type": "code",
   "execution_count": 326,
   "metadata": {},
   "outputs": [
    {
     "data": {
      "text/plain": [
       "0         0\n",
       "1         0\n",
       "2         3\n",
       "3         3\n",
       "4         3\n",
       "         ..\n",
       "205619    5\n",
       "205620    5\n",
       "205621    0\n",
       "205622    3\n",
       "205623    3\n",
       "Name: Junction_Detail, Length: 205624, dtype: int64"
      ]
     },
     "execution_count": 326,
     "metadata": {},
     "output_type": "execute_result"
    }
   ],
   "source": [
    "df_veh_acc['Junction_Detail']\n"
   ]
  },
  {
   "cell_type": "code",
   "execution_count": 327,
   "metadata": {},
   "outputs": [
    {
     "data": {
      "text/plain": [
       "{-1, 0, 1, 2, 3, 5, 6, 7, 8, 9}"
      ]
     },
     "execution_count": 327,
     "metadata": {},
     "output_type": "execute_result"
    }
   ],
   "source": [
    "set(df_veh_acc['Junction_Detail'].values)\n"
   ]
  },
  {
   "cell_type": "code",
   "execution_count": 337,
   "metadata": {},
   "outputs": [
    {
     "data": {
      "text/plain": [
       " 0    83133\n",
       " 3    62275\n",
       " 6    21068\n",
       " 1    16946\n",
       " 9     7338\n",
       " 8     5489\n",
       " 5     3579\n",
       " 7     2546\n",
       " 2     2345\n",
       "-1      905\n",
       "Name: Junction_Detail, dtype: int64"
      ]
     },
     "execution_count": 337,
     "metadata": {},
     "output_type": "execute_result"
    }
   ],
   "source": [
    "df_veh_acc['Junction_Detail'].value_counts()\n"
   ]
  },
  {
   "cell_type": "code",
   "execution_count": null,
   "metadata": {},
   "outputs": [],
   "source": []
  },
  {
   "cell_type": "markdown",
   "metadata": {},
   "source": [
    "* Junction_Control   \n"
   ]
  },
  {
   "cell_type": "code",
   "execution_count": 338,
   "metadata": {},
   "outputs": [
    {
     "data": {
      "text/plain": [
       "{-1, 1, 2, 3, 4}"
      ]
     },
     "execution_count": 338,
     "metadata": {},
     "output_type": "execute_result"
    }
   ],
   "source": [
    "set(df_veh_acc['Junction_Control'].values)\n"
   ]
  },
  {
   "cell_type": "code",
   "execution_count": 339,
   "metadata": {},
   "outputs": [
    {
     "data": {
      "text/plain": [
       " 4    94205\n",
       "-1    86192\n",
       " 2    23192\n",
       " 3     1321\n",
       " 1      714\n",
       "Name: Junction_Control, dtype: int64"
      ]
     },
     "execution_count": 339,
     "metadata": {},
     "output_type": "execute_result"
    }
   ],
   "source": [
    "\n",
    "df_veh_acc['Junction_Control'].value_counts()\n"
   ]
  },
  {
   "cell_type": "code",
   "execution_count": null,
   "metadata": {},
   "outputs": [],
   "source": []
  },
  {
   "cell_type": "markdown",
   "metadata": {},
   "source": [
    "* 2nd_Road_Class\n"
   ]
  },
  {
   "cell_type": "code",
   "execution_count": 340,
   "metadata": {},
   "outputs": [
    {
     "data": {
      "text/plain": [
       " 6    84170\n",
       "-1    83308\n",
       " 3    20786\n",
       " 5     7982\n",
       " 4     7850\n",
       " 1     1324\n",
       " 2      204\n",
       "Name: 2nd_Road_Class, dtype: int64"
      ]
     },
     "execution_count": 340,
     "metadata": {},
     "output_type": "execute_result"
    }
   ],
   "source": [
    "df_veh_acc['2nd_Road_Class'].value_counts()\n"
   ]
  },
  {
   "cell_type": "code",
   "execution_count": null,
   "metadata": {},
   "outputs": [],
   "source": []
  },
  {
   "cell_type": "markdown",
   "metadata": {},
   "source": [
    "* Pedestrian_Crossing-Human_Control"
   ]
  },
  {
   "cell_type": "code",
   "execution_count": 342,
   "metadata": {},
   "outputs": [
    {
     "data": {
      "text/plain": [
       " 0    199266\n",
       "-1      3904\n",
       " 2      1808\n",
       " 1       646\n",
       "Name: Pedestrian_Crossing-Human_Control, dtype: int64"
      ]
     },
     "execution_count": 342,
     "metadata": {},
     "output_type": "execute_result"
    }
   ],
   "source": [
    "df_veh_acc['Pedestrian_Crossing-Human_Control'].value_counts()\n"
   ]
  },
  {
   "cell_type": "code",
   "execution_count": null,
   "metadata": {},
   "outputs": [],
   "source": []
  },
  {
   "cell_type": "markdown",
   "metadata": {},
   "source": [
    "* Pedestrian_Crossing-Physical_Facilities"
   ]
  },
  {
   "cell_type": "code",
   "execution_count": 343,
   "metadata": {},
   "outputs": [
    {
     "data": {
      "text/plain": [
       " 0    163633\n",
       " 5     14868\n",
       " 4     11801\n",
       " 1      6005\n",
       " 8      4731\n",
       "-1      4248\n",
       " 7       338\n",
       "Name: Pedestrian_Crossing-Physical_Facilities, dtype: int64"
      ]
     },
     "execution_count": 343,
     "metadata": {},
     "output_type": "execute_result"
    }
   ],
   "source": [
    "df_veh_acc['Pedestrian_Crossing-Physical_Facilities'].value_counts()\n"
   ]
  },
  {
   "cell_type": "code",
   "execution_count": null,
   "metadata": {},
   "outputs": [],
   "source": []
  },
  {
   "cell_type": "markdown",
   "metadata": {},
   "source": [
    "* Light_Conditions"
   ]
  },
  {
   "cell_type": "code",
   "execution_count": 344,
   "metadata": {},
   "outputs": [
    {
     "data": {
      "text/plain": [
       " 1    148167\n",
       " 4     42417\n",
       " 6      8938\n",
       " 7      4654\n",
       " 5      1446\n",
       "-1         2\n",
       "Name: Light_Conditions, dtype: int64"
      ]
     },
     "execution_count": 344,
     "metadata": {},
     "output_type": "execute_result"
    }
   ],
   "source": [
    "df_veh_acc['Light_Conditions'].value_counts()\n"
   ]
  },
  {
   "cell_type": "code",
   "execution_count": null,
   "metadata": {},
   "outputs": [],
   "source": []
  },
  {
   "cell_type": "markdown",
   "metadata": {},
   "source": [
    "* Weather_Conditions\n"
   ]
  },
  {
   "cell_type": "code",
   "execution_count": 345,
   "metadata": {},
   "outputs": [
    {
     "data": {
      "text/plain": [
       " 1    166818\n",
       " 2     22091\n",
       " 9      7029\n",
       " 8      4103\n",
       " 4      1946\n",
       " 5      1522\n",
       " 3       997\n",
       " 7       960\n",
       " 6       156\n",
       "-1         2\n",
       "Name: Weather_Conditions, dtype: int64"
      ]
     },
     "execution_count": 345,
     "metadata": {},
     "output_type": "execute_result"
    }
   ],
   "source": [
    "df_veh_acc['Weather_Conditions'].value_counts()\n"
   ]
  },
  {
   "cell_type": "code",
   "execution_count": null,
   "metadata": {},
   "outputs": [],
   "source": []
  },
  {
   "cell_type": "markdown",
   "metadata": {},
   "source": [
    "* Road_Surface_Conditions "
   ]
  },
  {
   "cell_type": "code",
   "execution_count": 346,
   "metadata": {},
   "outputs": [
    {
     "data": {
      "text/plain": [
       " 1    148108\n",
       " 2     50584\n",
       " 4      3219\n",
       "-1      2912\n",
       " 3       672\n",
       " 5       129\n",
       "Name: Road_Surface_Conditions, dtype: int64"
      ]
     },
     "execution_count": 346,
     "metadata": {},
     "output_type": "execute_result"
    }
   ],
   "source": [
    "df_veh_acc['Road_Surface_Conditions'].value_counts()\n"
   ]
  },
  {
   "cell_type": "code",
   "execution_count": null,
   "metadata": {},
   "outputs": [],
   "source": []
  },
  {
   "cell_type": "markdown",
   "metadata": {},
   "source": [
    "* Special_Conditions_at_Site"
   ]
  },
  {
   "cell_type": "code",
   "execution_count": 347,
   "metadata": {},
   "outputs": [
    {
     "data": {
      "text/plain": [
       " 0    197979\n",
       "-1      3295\n",
       " 4      2391\n",
       " 1       513\n",
       " 7       434\n",
       " 6       382\n",
       " 3       260\n",
       " 5       250\n",
       " 2       120\n",
       "Name: Special_Conditions_at_Site, dtype: int64"
      ]
     },
     "execution_count": 347,
     "metadata": {},
     "output_type": "execute_result"
    }
   ],
   "source": [
    "df_veh_acc['Special_Conditions_at_Site'].value_counts()\n"
   ]
  },
  {
   "cell_type": "code",
   "execution_count": null,
   "metadata": {},
   "outputs": [],
   "source": []
  },
  {
   "cell_type": "markdown",
   "metadata": {},
   "source": [
    "* Carriageway_Hazards\n"
   ]
  },
  {
   "cell_type": "code",
   "execution_count": 350,
   "metadata": {},
   "outputs": [
    {
     "data": {
      "text/plain": [
       " 0    198918\n",
       "-1      3107\n",
       " 2      1845\n",
       " 7       544\n",
       " 1       455\n",
       " 3       439\n",
       " 6       316\n",
       "Name: Carriageway_Hazards, dtype: int64"
      ]
     },
     "execution_count": 350,
     "metadata": {},
     "output_type": "execute_result"
    }
   ],
   "source": [
    "df_veh_acc['Carriageway_Hazards'].value_counts()\n"
   ]
  },
  {
   "cell_type": "code",
   "execution_count": null,
   "metadata": {},
   "outputs": [],
   "source": []
  },
  {
   "cell_type": "markdown",
   "metadata": {},
   "source": [
    "* Urban_or_Rural_Area"
   ]
  },
  {
   "cell_type": "code",
   "execution_count": 351,
   "metadata": {},
   "outputs": [
    {
     "data": {
      "text/plain": [
       "1    139317\n",
       "2     66289\n",
       "3        18\n",
       "Name: Urban_or_Rural_Area, dtype: int64"
      ]
     },
     "execution_count": 351,
     "metadata": {},
     "output_type": "execute_result"
    }
   ],
   "source": [
    "df_veh_acc['Urban_or_Rural_Area'].value_counts()\n"
   ]
  },
  {
   "cell_type": "code",
   "execution_count": null,
   "metadata": {},
   "outputs": [],
   "source": []
  },
  {
   "cell_type": "markdown",
   "metadata": {},
   "source": [
    "* LSOA_of_Accident_Location"
   ]
  },
  {
   "cell_type": "code",
   "execution_count": 352,
   "metadata": {},
   "outputs": [
    {
     "data": {
      "text/plain": [
       "E01004736    229\n",
       "E01002444    162\n",
       "E01004689    157\n",
       "E01033595    138\n",
       "E01018648    133\n",
       "            ... \n",
       "E01013911      1\n",
       "E01024526      1\n",
       "W01000582      1\n",
       "E01028037      1\n",
       "E01029875      1\n",
       "Name: LSOA_of_Accident_Location, Length: 24896, dtype: int64"
      ]
     },
     "execution_count": 352,
     "metadata": {},
     "output_type": "execute_result"
    }
   ],
   "source": [
    "df_veh_acc['LSOA_of_Accident_Location'].value_counts()\n"
   ]
  },
  {
   "cell_type": "code",
   "execution_count": null,
   "metadata": {},
   "outputs": [],
   "source": [
    "le_lal = preprocessing.LabelEncoder()\n",
    "df_veh_acc['LSOA_of_Accident_Location_encode'] = le_lal.fit_transform(df_veh_acc['LSOA_of_Accident_Location'].values)\n"
   ]
  },
  {
   "cell_type": "code",
   "execution_count": null,
   "metadata": {},
   "outputs": [],
   "source": []
  },
  {
   "cell_type": "code",
   "execution_count": null,
   "metadata": {},
   "outputs": [],
   "source": []
  },
  {
   "cell_type": "code",
   "execution_count": null,
   "metadata": {},
   "outputs": [],
   "source": []
  },
  {
   "cell_type": "code",
   "execution_count": null,
   "metadata": {},
   "outputs": [],
   "source": []
  },
  {
   "cell_type": "code",
   "execution_count": null,
   "metadata": {},
   "outputs": [],
   "source": []
  },
  {
   "cell_type": "code",
   "execution_count": null,
   "metadata": {},
   "outputs": [],
   "source": []
  },
  {
   "cell_type": "code",
   "execution_count": null,
   "metadata": {},
   "outputs": [],
   "source": []
  },
  {
   "cell_type": "code",
   "execution_count": null,
   "metadata": {},
   "outputs": [],
   "source": []
  },
  {
   "cell_type": "code",
   "execution_count": null,
   "metadata": {},
   "outputs": [],
   "source": []
  },
  {
   "cell_type": "markdown",
   "metadata": {},
   "source": [
    "- Define categorical columns\n"
   ]
  },
  {
   "cell_type": "code",
   "execution_count": 139,
   "metadata": {
    "ExecuteTime": {
     "end_time": "2020-04-24T17:40:52.724199Z",
     "start_time": "2020-04-24T17:40:52.718936Z"
    }
   },
   "outputs": [],
   "source": [
    "cat_cols = ['Accident_Severity', \n",
    "            'TimeGroup', \n",
    "            'Local_Authority_(District)',\n",
    "            'Speed_limit', \n",
    "            'Urban_or_Rural_Area',\n",
    "            'Age_Band_of_Driver', \n",
    "            'Sex_of_Driver', \n",
    "            'Vehicle_Manoeuvre',\n",
    "           ]\n",
    "\n",
    "for col in cat_cols:    \n",
    "    df_veh_acc[col] = df_veh_acc[col].astype('category')\n",
    "    \n"
   ]
  },
  {
   "cell_type": "code",
   "execution_count": null,
   "metadata": {},
   "outputs": [],
   "source": []
  },
  {
   "cell_type": "markdown",
   "metadata": {},
   "source": []
  },
  {
   "cell_type": "code",
   "execution_count": 140,
   "metadata": {},
   "outputs": [],
   "source": []
  },
  {
   "cell_type": "code",
   "execution_count": null,
   "metadata": {},
   "outputs": [],
   "source": []
  },
  {
   "cell_type": "markdown",
   "metadata": {},
   "source": [
    "- Define numerical columns\n"
   ]
  },
  {
   "cell_type": "code",
   "execution_count": 141,
   "metadata": {
    "ExecuteTime": {
     "end_time": "2020-04-24T17:41:15.392332Z",
     "start_time": "2020-04-24T17:41:15.390501Z"
    }
   },
   "outputs": [],
   "source": [
    "\n",
    "num_cols = ['Age_of_Vehicle', 'Engine_Capacity_(CC)']\n"
   ]
  },
  {
   "cell_type": "code",
   "execution_count": 142,
   "metadata": {
    "ExecuteTime": {
     "end_time": "2020-04-24T17:42:50.770329Z",
     "start_time": "2020-04-24T17:42:50.616960Z"
    }
   },
   "outputs": [
    {
     "data": {
      "text/plain": [
       "<matplotlib.axes._subplots.AxesSubplot at 0x1a1ea37b50>"
      ]
     },
     "execution_count": 142,
     "metadata": {},
     "output_type": "execute_result"
    },
    {
     "data": {
      "image/png": "[encoded data removed]",
      "text/plain": [
       "<Figure size 432x288 with 1 Axes>"
      ]
     },
     "metadata": {},
     "output_type": "display_data"
    }
   ],
   "source": [
    "df_veh_acc[['Age_of_Vehicle']].plot.box(grid='True')\n",
    "    "
   ]
  },
  {
   "cell_type": "code",
   "execution_count": 143,
   "metadata": {
    "ExecuteTime": {
     "end_time": "2020-04-24T17:44:03.208778Z",
     "start_time": "2020-04-24T17:44:03.047456Z"
    }
   },
   "outputs": [
    {
     "data": {
      "text/plain": [
       "<matplotlib.axes._subplots.AxesSubplot at 0x1a1e74ae90>"
      ]
     },
     "execution_count": 143,
     "metadata": {},
     "output_type": "execute_result"
    },
    {
     "data": {
      "image/png": "[encoded data removed]",
      "text/plain": [
       "<Figure size 432x288 with 1 Axes>"
      ]
     },
     "metadata": {},
     "output_type": "display_data"
    }
   ],
   "source": [
    "\n",
    "df_veh_acc[['Engine_Capacity_(CC)']].plot.box(grid='True')\n",
    "   "
   ]
  },
  {
   "cell_type": "code",
   "execution_count": 144,
   "metadata": {
    "ExecuteTime": {
     "end_time": "2020-04-24T17:44:46.166504Z",
     "start_time": "2020-04-24T17:44:46.148070Z"
    }
   },
   "outputs": [
    {
     "data": {
      "text/plain": [
       "count    205624.000000\n",
       "mean          5.715033\n",
       "std           5.985304\n",
       "min          -1.000000\n",
       "25%          -1.000000\n",
       "50%           5.000000\n",
       "75%          10.000000\n",
       "max          78.000000\n",
       "Name: Age_of_Vehicle, dtype: float64"
      ]
     },
     "execution_count": 144,
     "metadata": {},
     "output_type": "execute_result"
    }
   ],
   "source": [
    "df_veh_acc['Age_of_Vehicle'].describe()\n"
   ]
  },
  {
   "cell_type": "code",
   "execution_count": 145,
   "metadata": {
    "ExecuteTime": {
     "end_time": "2020-04-24T17:45:40.023204Z",
     "start_time": "2020-04-24T17:45:40.002505Z"
    }
   },
   "outputs": [
    {
     "data": {
      "text/plain": [
       "67"
      ]
     },
     "execution_count": 145,
     "metadata": {},
     "output_type": "execute_result"
    }
   ],
   "source": [
    "len(set(df_veh_acc['Age_of_Vehicle'].values))\n"
   ]
  },
  {
   "cell_type": "code",
   "execution_count": 146,
   "metadata": {
    "ExecuteTime": {
     "end_time": "2020-04-24T17:46:17.466732Z",
     "start_time": "2020-04-24T17:46:17.255512Z"
    }
   },
   "outputs": [
    {
     "data": {
      "text/plain": [
       "<matplotlib.axes._subplots.AxesSubplot at 0x1a1e6e92d0>"
      ]
     },
     "execution_count": 146,
     "metadata": {},
     "output_type": "execute_result"
    },
    {
     "data": {
      "image/png": "[encoded data removed]",
      "text/plain": [
       "<Figure size 432x288 with 1 Axes>"
      ]
     },
     "metadata": {},
     "output_type": "display_data"
    }
   ],
   "source": [
    "df_veh_acc[['Age_of_Vehicle']].plot.box(grid='True')\n"
   ]
  },
  {
   "cell_type": "markdown",
   "metadata": {},
   "source": [
    " **Encoding the 'age of vehicle' into bins**\n",
    " "
   ]
  },
  {
   "cell_type": "code",
   "execution_count": 147,
   "metadata": {
    "ExecuteTime": {
     "end_time": "2020-04-24T17:50:00.443301Z",
     "start_time": "2020-04-24T17:50:00.440530Z"
    }
   },
   "outputs": [],
   "source": [
    "age_of_vehicle_bins = {1: '1 to <2 years', \n",
    "                       2: '2 to <5 years', \n",
    "                       3: '5 to <10 years', \n",
    "                       4: '>=10 years'}\n"
   ]
  },
  {
   "cell_type": "code",
   "execution_count": 148,
   "metadata": {
    "ExecuteTime": {
     "end_time": "2020-04-24T17:50:01.211249Z",
     "start_time": "2020-04-24T17:50:01.193331Z"
    }
   },
   "outputs": [
    {
     "data": {
      "text/plain": [
       "0    53005\n",
       "1    13941\n",
       "2    34068\n",
       "3    44346\n",
       "4    60264\n",
       "Name: Age_of_Vehicle_bin, dtype: int64"
      ]
     },
     "execution_count": 148,
     "metadata": {},
     "output_type": "execute_result"
    }
   ],
   "source": [
    "# arguments in bins parameter denote left edge of each bin\n",
    "df_veh_acc['Age_of_Vehicle_bin'] = np.digitize(df_veh_acc['Age_of_Vehicle'], bins=[1,2,5,10])\n",
    "\n",
    "# convert into categorical column\n",
    "df_veh_acc['Age_of_Vehicle_bin'] = df_veh_acc['Age_of_Vehicle_bin'].astype('category')\n",
    "\n",
    "# check the count within each bucket\n",
    "df_veh_acc['Age_of_Vehicle_bin'].value_counts().sort_index()\n"
   ]
  },
  {
   "cell_type": "code",
   "execution_count": null,
   "metadata": {},
   "outputs": [],
   "source": []
  },
  {
   "attachments": {},
   "cell_type": "markdown",
   "metadata": {},
   "source": [
    "## Preparing the target variable\n",
    "\n",
    "- 1\tYes\n",
    "- 2\tNo\n",
    "- 3\tNo - accident was reported using a self completion  form (self rep only)\n"
   ]
  },
  {
   "cell_type": "code",
   "execution_count": 149,
   "metadata": {
    "ExecuteTime": {
     "end_time": "2020-04-24T17:55:33.138482Z",
     "start_time": "2020-04-24T17:55:33.132280Z"
    }
   },
   "outputs": [
    {
     "data": {
      "text/plain": [
       "Did_Police_Officer_Attend_Scene_of_Accident    205624\n",
       "dtype: int64"
      ]
     },
     "execution_count": 149,
     "metadata": {},
     "output_type": "execute_result"
    }
   ],
   "source": [
    "#df_veh_acc['Did_Police_Officer_Attend_Scene_of_Accident'].describe()\n",
    "#df_veh_acc[['Did_Police_Officer_Attend_Scene_of_Accident']].plot.box(grid='True')\n",
    "\n",
    "df_veh_acc[['Did_Police_Officer_Attend_Scene_of_Accident']].count()\n"
   ]
  },
  {
   "cell_type": "code",
   "execution_count": 150,
   "metadata": {
    "ExecuteTime": {
     "end_time": "2020-04-24T17:57:25.986830Z",
     "start_time": "2020-04-24T17:57:25.978702Z"
    }
   },
   "outputs": [
    {
     "data": {
      "text/plain": [
       "{1, 2, 3}"
      ]
     },
     "execution_count": 150,
     "metadata": {},
     "output_type": "execute_result"
    }
   ],
   "source": [
    "set(df_veh_acc['Did_Police_Officer_Attend_Scene_of_Accident'])\n"
   ]
  },
  {
   "cell_type": "code",
   "execution_count": 151,
   "metadata": {
    "ExecuteTime": {
     "end_time": "2020-04-24T17:57:34.916531Z",
     "start_time": "2020-04-24T17:57:34.707060Z"
    }
   },
   "outputs": [
    {
     "data": {
      "image/png": "[encoded data removed]",
      "text/plain": [
       "<Figure size 432x288 with 1 Axes>"
      ]
     },
     "metadata": {},
     "output_type": "display_data"
    }
   ],
   "source": [
    "ax = df_veh_acc[['Did_Police_Officer_Attend_Scene_of_Accident']].plot.hist(alpha=0.5)\n"
   ]
  },
  {
   "cell_type": "code",
   "execution_count": 152,
   "metadata": {
    "ExecuteTime": {
     "end_time": "2020-04-24T18:00:50.353545Z",
     "start_time": "2020-04-24T18:00:50.318784Z"
    }
   },
   "outputs": [
    {
     "data": {
      "text/plain": [
       "154198"
      ]
     },
     "execution_count": 152,
     "metadata": {},
     "output_type": "execute_result"
    }
   ],
   "source": [
    "len(df_veh_acc[df_veh_acc['Did_Police_Officer_Attend_Scene_of_Accident']==1])\n"
   ]
  },
  {
   "cell_type": "code",
   "execution_count": 153,
   "metadata": {
    "ExecuteTime": {
     "end_time": "2020-04-24T18:01:00.483054Z",
     "start_time": "2020-04-24T18:01:00.463302Z"
    }
   },
   "outputs": [
    {
     "data": {
      "text/plain": [
       "51410"
      ]
     },
     "execution_count": 153,
     "metadata": {},
     "output_type": "execute_result"
    }
   ],
   "source": [
    "len(df_veh_acc[df_veh_acc['Did_Police_Officer_Attend_Scene_of_Accident']==2])\n"
   ]
  },
  {
   "cell_type": "code",
   "execution_count": 154,
   "metadata": {
    "ExecuteTime": {
     "end_time": "2020-04-24T18:01:10.233121Z",
     "start_time": "2020-04-24T18:01:10.227079Z"
    }
   },
   "outputs": [
    {
     "data": {
      "text/plain": [
       "16"
      ]
     },
     "execution_count": 154,
     "metadata": {},
     "output_type": "execute_result"
    }
   ],
   "source": [
    "len(df_veh_acc[df_veh_acc['Did_Police_Officer_Attend_Scene_of_Accident']==3])\n"
   ]
  },
  {
   "cell_type": "markdown",
   "metadata": {},
   "source": [
    "Remove the samples with 'Police Officer Attend' is 3. Because our objective is to predict if the policer attend the accident or not. On the other hand, there are only 16 samples with 'Police Officer Attend' equal to 3.\n"
   ]
  },
  {
   "cell_type": "code",
   "execution_count": 168,
   "metadata": {},
   "outputs": [
    {
     "data": {
      "text/plain": [
       "(205624, 10)"
      ]
     },
     "execution_count": 168,
     "metadata": {},
     "output_type": "execute_result"
    }
   ],
   "source": [
    "cols = cat_cols + num_cols + [target_col]\n",
    "df_model = df_veh_acc[cols].copy()\n",
    "df_model.shape\n"
   ]
  },
  {
   "cell_type": "code",
   "execution_count": 169,
   "metadata": {},
   "outputs": [
    {
     "data": {
      "text/plain": [
       "(205608, 10)"
      ]
     },
     "execution_count": 169,
     "metadata": {},
     "output_type": "execute_result"
    }
   ],
   "source": [
    "df_model = df_model[df_model[target_col] != 3]\n",
    "df_model.shape\n"
   ]
  },
  {
   "cell_type": "code",
   "execution_count": null,
   "metadata": {},
   "outputs": [],
   "source": []
  },
  {
   "cell_type": "markdown",
   "metadata": {},
   "source": [
    "encode target variable 2 to 0"
   ]
  },
  {
   "cell_type": "code",
   "execution_count": 202,
   "metadata": {},
   "outputs": [],
   "source": [
    "def encode_target(row):\n",
    "    val = row[target_col]\n",
    "    if val == 2:\n",
    "        return 0\n",
    "    return val\n"
   ]
  },
  {
   "cell_type": "code",
   "execution_count": 206,
   "metadata": {},
   "outputs": [],
   "source": [
    "df_model[target_col] = df_model.apply(encode_target, axis=1)\n"
   ]
  },
  {
   "cell_type": "code",
   "execution_count": null,
   "metadata": {},
   "outputs": [],
   "source": []
  },
  {
   "cell_type": "code",
   "execution_count": 207,
   "metadata": {
    "ExecuteTime": {
     "end_time": "2020-04-24T18:06:34.717770Z",
     "start_time": "2020-04-24T18:06:34.709079Z"
    }
   },
   "outputs": [
    {
     "data": {
      "text/plain": [
       "1    0.749961\n",
       "0    0.250039\n",
       "Name: Did_Police_Officer_Attend_Scene_of_Accident, dtype: float64"
      ]
     },
     "execution_count": 207,
     "metadata": {},
     "output_type": "execute_result"
    }
   ],
   "source": [
    "df_model[target_col].value_counts(normalize=True)\n"
   ]
  },
  {
   "cell_type": "code",
   "execution_count": 208,
   "metadata": {
    "ExecuteTime": {
     "end_time": "2020-04-24T18:07:21.205928Z",
     "start_time": "2020-04-24T18:07:21.197713Z"
    }
   },
   "outputs": [
    {
     "data": {
      "text/plain": [
       "1    154198\n",
       "0     51410\n",
       "Name: Did_Police_Officer_Attend_Scene_of_Accident, dtype: int64"
      ]
     },
     "execution_count": 208,
     "metadata": {},
     "output_type": "execute_result"
    }
   ],
   "source": [
    "df_model[target_col].value_counts(normalize=False)\n"
   ]
  },
  {
   "cell_type": "code",
   "execution_count": null,
   "metadata": {},
   "outputs": [],
   "source": []
  },
  {
   "cell_type": "markdown",
   "metadata": {},
   "source": [
    "## Splitting the dataset into train and test sets\n"
   ]
  },
  {
   "cell_type": "code",
   "execution_count": 209,
   "metadata": {
    "ExecuteTime": {
     "end_time": "2020-04-24T18:05:56.944436Z",
     "start_time": "2020-04-24T18:05:56.936723Z"
    }
   },
   "outputs": [],
   "source": [
    "\n",
    "X = df_model.drop([target_col], axis=1)\n",
    "\n",
    "Y = df_model[[target_col]]\n"
   ]
  },
  {
   "cell_type": "code",
   "execution_count": 210,
   "metadata": {
    "ExecuteTime": {
     "end_time": "2020-04-24T18:15:40.479738Z",
     "start_time": "2020-04-24T18:15:40.451671Z"
    }
   },
   "outputs": [],
   "source": [
    "\n",
    "X_train, X_test, y_train, y_test = train_test_split(X, Y, random_state=42, test_size=0.2)\n"
   ]
  },
  {
   "cell_type": "code",
   "execution_count": null,
   "metadata": {},
   "outputs": [],
   "source": []
  },
  {
   "cell_type": "markdown",
   "metadata": {},
   "source": [
    "## Evaluating machine learning models\n"
   ]
  },
  {
   "cell_type": "markdown",
   "metadata": {},
   "source": [
    "### RandomForest\n"
   ]
  },
  {
   "cell_type": "markdown",
   "metadata": {},
   "source": [
    "* **Precision, Recall, F1-score**"
   ]
  },
  {
   "cell_type": "code",
   "execution_count": 211,
   "metadata": {
    "ExecuteTime": {
     "end_time": "2020-04-24T18:15:56.911838Z",
     "start_time": "2020-04-24T18:15:52.961168Z"
    }
   },
   "outputs": [
    {
     "name": "stdout",
     "output_type": "stream",
     "text": [
      "              precision    recall  f1-score   support\n",
      "\n",
      "           0       0.52      0.29      0.37     10338\n",
      "           1       0.79      0.91      0.85     30784\n",
      "\n",
      "    accuracy                           0.76     41122\n",
      "   macro avg       0.66      0.60      0.61     41122\n",
      "weighted avg       0.72      0.76      0.73     41122\n",
      "\n"
     ]
    }
   ],
   "source": [
    "\n",
    "model_rf = RandomForestClassifier(random_state=42, n_jobs=-1)\n",
    "\n",
    "model_rf.fit(X_train, y_train)\n",
    "\n",
    "y_pred_rf = model_rf.predict(X_test)\n",
    "\n",
    "report_rf = classification_report(y_test, y_pred_rf)\n",
    "\n",
    "print(report_rf)\n"
   ]
  },
  {
   "cell_type": "code",
   "execution_count": 212,
   "metadata": {
    "ExecuteTime": {
     "end_time": "2020-04-24T18:17:05.177249Z",
     "start_time": "2020-04-24T18:16:47.412425Z"
    }
   },
   "outputs": [
    {
     "data": {
      "text/plain": [
       "array([0.61652345, 0.61244724, 0.6153794 ])"
      ]
     },
     "execution_count": 212,
     "metadata": {},
     "output_type": "execute_result"
    }
   ],
   "source": [
    "# 'f1_macro': Calculate metrics for each label, and find their unweighted mean. This does not take label imbalance into account.\n",
    "# https://scikit-learn.org/stable/modules/generated/sklearn.metrics.f1_score.html#sklearn.metrics.f1_score\n",
    "\n",
    "cross_val_score(model_rf, X_train, y_train, scoring='f1_macro', n_jobs=-1, cv=3)\n",
    "#cross_val_score(model_rf, X_train, y_train, n_jobs=-1, cv=3)\n",
    "\n"
   ]
  },
  {
   "cell_type": "code",
   "execution_count": null,
   "metadata": {},
   "outputs": [],
   "source": []
  },
  {
   "cell_type": "markdown",
   "metadata": {},
   "source": [
    "* **Confusion matrix**"
   ]
  },
  {
   "cell_type": "code",
   "execution_count": 213,
   "metadata": {},
   "outputs": [],
   "source": [
    "def plot_confusion_matrix(y_test, y_preds, class_names, columns=['Attend', 'Not Attend']):\n",
    "    matrix = confusion_matrix(y_test, y_preds)\n",
    "\n",
    "    #class_names = df_model.Did_Police_Officer_Attend_Scene_of_Accident.values\n",
    "    dataframe = pd.DataFrame(matrix, index=columns, \n",
    "                             columns=columns)\n",
    "\n",
    "    # create heatmap\n",
    "    sns.heatmap(dataframe, annot=True, cbar=None, cmap='Blues')\n",
    "    plt.title('Confusion Matrix')\n",
    "    plt.tight_layout(), plt.xlabel('True Values'), plt.ylabel('Predicted Values')\n",
    "    plt.show()\n",
    "    "
   ]
  },
  {
   "cell_type": "code",
   "execution_count": 214,
   "metadata": {},
   "outputs": [
    {
     "data": {
      "image/png": "[encoded data removed]",
      "text/plain": [
       "<Figure size 432x288 with 1 Axes>"
      ]
     },
     "metadata": {},
     "output_type": "display_data"
    }
   ],
   "source": [
    "plot_confusion_matrix(y_test, y_pred_rf, df_model[target_col].values)\n"
   ]
  },
  {
   "cell_type": "code",
   "execution_count": null,
   "metadata": {},
   "outputs": [],
   "source": []
  },
  {
   "cell_type": "markdown",
   "metadata": {},
   "source": [
    "* **Compute the probability of a police officer attending the accident or not.**\n"
   ]
  },
  {
   "cell_type": "code",
   "execution_count": 215,
   "metadata": {},
   "outputs": [],
   "source": [
    "y_pred_prob_rf = model_rf.predict_proba(X_test)\n"
   ]
  },
  {
   "cell_type": "code",
   "execution_count": 216,
   "metadata": {},
   "outputs": [
    {
     "data": {
      "text/plain": [
       "array([[0.02      , 0.98      ],\n",
       "       [0.084     , 0.916     ],\n",
       "       [0.1       , 0.9       ],\n",
       "       ...,\n",
       "       [0.28490909, 0.71509091],\n",
       "       [0.345     , 0.655     ],\n",
       "       [0.14      , 0.86      ]])"
      ]
     },
     "execution_count": 216,
     "metadata": {},
     "output_type": "execute_result"
    }
   ],
   "source": [
    "y_pred_prob_rf\n"
   ]
  },
  {
   "cell_type": "code",
   "execution_count": null,
   "metadata": {},
   "outputs": [],
   "source": []
  },
  {
   "cell_type": "markdown",
   "metadata": {},
   "source": [
    "* **Precision-Recall curve**\n",
    "\n",
    "\n",
    "Reference\n",
    "\n",
    "https://scikit-learn.org/stable/auto_examples/model_selection/plot_precision_recall.html#sphx-glr-auto-examples-model-selection-plot-precision-recall-py\n",
    "\n",
    "\n",
    "https://machinelearningmastery.com/roc-curves-and-precision-recall-curves-for-classification-in-python/\n",
    "\n"
   ]
  },
  {
   "cell_type": "code",
   "execution_count": 223,
   "metadata": {},
   "outputs": [],
   "source": [
    "def plot_precision_recall_curve(y_test, y_pred_prob, classifier_name):\n",
    "    average_precision = average_precision_score(y_test, y_pred_prob)\n",
    "    average_precision = round(average_precision, 3)\n",
    "    print('Average precision-recall score: {}'.format(average_precision))\n",
    "\n",
    "    precision, recall, thresholds = precision_recall_curve(y_test, y_pred_prob)\n",
    "    print('Thresholds')\n",
    "    print(thresholds)\n",
    "    \n",
    "    plt.step(recall, precision, color='b', alpha=0.2, where='post')\n",
    "    plt.fill_between(recall, precision, step='post', alpha=0.2, color='b')\n",
    "\n",
    "    plt.xlabel('Recall')\n",
    "    plt.ylabel('Precision')\n",
    "    plt.ylim([0.0, 1.05])\n",
    "    plt.xlim([0.0, 1.0])\n",
    "    plt.title('Precision-Recall curve ({}): AP={}'.format(classifier_name, average_precision))\n",
    "    "
   ]
  },
  {
   "cell_type": "code",
   "execution_count": 225,
   "metadata": {},
   "outputs": [
    {
     "name": "stdout",
     "output_type": "stream",
     "text": [
      "Average precision-recall score: 0.834\n",
      "Thresholds\n",
      "[0.00000000e+00 6.66666667e-04 1.38609029e-03 ... 9.99000000e-01\n",
      " 9.99583333e-01 1.00000000e+00]\n"
     ]
    },
    {
     "data": {
      "image/png": "[encoded data removed]",
      "text/plain": [
       "<Figure size 432x288 with 1 Axes>"
      ]
     },
     "metadata": {},
     "output_type": "display_data"
    }
   ],
   "source": [
    "plot_precision_recall_curve(y_test, y_pred_prob_rf[:,-1], 'RandomForest')\n"
   ]
  },
  {
   "cell_type": "code",
   "execution_count": null,
   "metadata": {},
   "outputs": [],
   "source": []
  },
  {
   "cell_type": "markdown",
   "metadata": {},
   "source": [
    "* **ROC curve**\n",
    "\n",
    "\n",
    "Reference\n",
    "\n",
    "https://www.kaggle.com/learn-forum/53782\n",
    "\n",
    "https://machinelearningmastery.com/roc-curves-and-precision-recall-curves-for-classification-in-python/\n",
    "\n"
   ]
  },
  {
   "cell_type": "code",
   "execution_count": 233,
   "metadata": {},
   "outputs": [],
   "source": [
    "def plot_roc_curve(y_test, y_pred_prob, classifier_name):\n",
    "    fpr, tpr, thresholds = roc_curve(y_test, y_pred_prob)\n",
    "    \n",
    "    roc_auc = auc(fpr, tpr)\n",
    "    roc_auc = round(roc_auc, 3)\n",
    "    plt.figure(figsize=(8,8))\n",
    "    plt.xlim([-0.01, 1.00])\n",
    "    plt.ylim([-0.01, 1.01])\n",
    "    plt.plot(fpr, tpr, lw=1, label='{} curve (AUC = {})'.format(classifier_name, roc_auc))\n",
    "\n",
    "\n",
    "    plt.xlabel('False Positive Rate', fontsize=16)\n",
    "    plt.ylabel('True Positive Rate', fontsize=16)\n",
    "    plt.title('ROC curve ({})'.format(classifier_name), fontsize=16)\n",
    "    plt.legend(loc='lower right', fontsize=13)\n",
    "    plt.plot([0, 1], [0, 1], color='navy', lw=1, linestyle='--')\n",
    "    plt.axes().set_aspect('equal')\n",
    "    plt.show()\n",
    "    "
   ]
  },
  {
   "cell_type": "code",
   "execution_count": 234,
   "metadata": {},
   "outputs": [
    {
     "data": {
      "image/png": "[encoded data removed]",
      "text/plain": [
       "<Figure size 576x576 with 1 Axes>"
      ]
     },
     "metadata": {},
     "output_type": "display_data"
    }
   ],
   "source": [
    "plot_roc_curve(y_test, y_pred_prob_rf[:,-1], 'RandomForest')\n"
   ]
  },
  {
   "cell_type": "code",
   "execution_count": null,
   "metadata": {},
   "outputs": [],
   "source": []
  },
  {
   "cell_type": "markdown",
   "metadata": {},
   "source": [
    "**Note**\n",
    "\n",
    "- ROC Curves summarize the trade-off between the true positive rate and false positive rate for a predictive model using different probability thresholds.\n",
    "\n",
    "\n",
    "- Precision-Recall curves summarize the trade-off between the true positive rate and the positive predictive value for a predictive model using different probability thresholds.\n",
    "\n",
    "\n",
    "- ROC curves are appropriate when the observations are balanced between each class, whereas precision-recall curves are appropriate for imbalanced datasets.\n",
    "\n",
    "I put roc curve here just for reference. For this task, we should use precision recall curve to monitor the performance.\n",
    "\n",
    "\n",
    "**Reference**\n",
    "\n",
    "\n",
    "https://machinelearningmastery.com/roc-curves-and-precision-recall-curves-for-classification-in-python/\n"
   ]
  },
  {
   "cell_type": "code",
   "execution_count": null,
   "metadata": {},
   "outputs": [],
   "source": []
  },
  {
   "cell_type": "code",
   "execution_count": null,
   "metadata": {},
   "outputs": [],
   "source": []
  },
  {
   "cell_type": "markdown",
   "metadata": {},
   "source": [
    "### LightGBM\n"
   ]
  },
  {
   "cell_type": "code",
   "execution_count": 238,
   "metadata": {
    "ExecuteTime": {
     "end_time": "2020-04-24T18:20:52.021960Z",
     "start_time": "2020-04-24T18:20:51.245750Z"
    }
   },
   "outputs": [
    {
     "name": "stdout",
     "output_type": "stream",
     "text": [
      "              precision    recall  f1-score   support\n",
      "\n",
      "           0       0.72      0.24      0.36     10338\n",
      "           1       0.79      0.97      0.87     30784\n",
      "\n",
      "    accuracy                           0.79     41122\n",
      "   macro avg       0.76      0.60      0.61     41122\n",
      "weighted avg       0.77      0.79      0.74     41122\n",
      "\n"
     ]
    }
   ],
   "source": [
    "model_lgb = lgbm.LGBMClassifier(objective = 'binary', is_unbalance = True)\n",
    "\n",
    "model_lgb.fit(X_train, y_train)\n",
    "\n",
    "y_pred_lgb = model_lgb.predict(X_test)\n",
    "\n",
    "report_lgb = classification_report(y_test, y_pred_lgb)\n",
    "\n",
    "print(report_lgb)\n"
   ]
  },
  {
   "cell_type": "code",
   "execution_count": 239,
   "metadata": {
    "ExecuteTime": {
     "end_time": "2020-04-24T18:21:27.650396Z",
     "start_time": "2020-04-24T18:21:21.672943Z"
    }
   },
   "outputs": [
    {
     "data": {
      "text/plain": [
       "array([0.61822142, 0.6164362 , 0.61924747])"
      ]
     },
     "execution_count": 239,
     "metadata": {},
     "output_type": "execute_result"
    }
   ],
   "source": [
    "cross_val_score(model_lgb, X_train, y_train, scoring='f1_macro', n_jobs=-1, cv=3)\n"
   ]
  },
  {
   "cell_type": "code",
   "execution_count": 242,
   "metadata": {},
   "outputs": [
    {
     "data": {
      "image/png": "[encoded data removed]",
      "text/plain": [
       "<Figure size 432x288 with 1 Axes>"
      ]
     },
     "metadata": {},
     "output_type": "display_data"
    }
   ],
   "source": [
    "plot_confusion_matrix(y_test, y_pred_lgb, df_model[target_col].values)\n"
   ]
  },
  {
   "cell_type": "code",
   "execution_count": 243,
   "metadata": {},
   "outputs": [],
   "source": [
    "y_pred_prob_lgb = model_lgb.predict_proba(X_test)\n"
   ]
  },
  {
   "cell_type": "code",
   "execution_count": 245,
   "metadata": {},
   "outputs": [
    {
     "name": "stdout",
     "output_type": "stream",
     "text": [
      "Average precision-recall score: 0.871\n",
      "Thresholds\n",
      "[0.00322277 0.00322334 0.00322551 ... 0.97209258 0.97226539 0.97756046]\n"
     ]
    },
    {
     "data": {
      "image/png": "[encoded data removed]",
      "text/plain": [
       "<Figure size 432x288 with 1 Axes>"
      ]
     },
     "metadata": {},
     "output_type": "display_data"
    }
   ],
   "source": [
    "plot_precision_recall_curve(y_test, y_pred_prob_lgb[:,-1], 'LightGBM')\n"
   ]
  },
  {
   "cell_type": "code",
   "execution_count": 246,
   "metadata": {},
   "outputs": [
    {
     "data": {
      "image/png": "[encoded data removed]",
      "text/plain": [
       "<Figure size 576x576 with 1 Axes>"
      ]
     },
     "metadata": {},
     "output_type": "display_data"
    }
   ],
   "source": [
    "plot_roc_curve(y_test, y_pred_prob_lgb[:,-1], 'LightGBM')\n"
   ]
  },
  {
   "cell_type": "code",
   "execution_count": null,
   "metadata": {},
   "outputs": [],
   "source": []
  },
  {
   "cell_type": "markdown",
   "metadata": {},
   "source": [
    "### Hyperparameter tuning\n",
    "\n",
    "\n",
    "**Reference**\n",
    "\n",
    "https://lightgbm.readthedocs.io/en/latest/Parameters.html\n",
    "\n",
    "https://lightgbm.readthedocs.io/en/latest/Parameters-Tuning.html\n",
    "\n",
    "https://scikit-learn.org/stable/auto_examples/model_selection/plot_randomized_search.html\n"
   ]
  },
  {
   "cell_type": "code",
   "execution_count": 294,
   "metadata": {},
   "outputs": [],
   "source": [
    "# Utility function to report best scores\n",
    "def report(results, n_top=3):\n",
    "    for i in range(1, n_top + 1):\n",
    "        candidates = np.flatnonzero(results['rank_test_score'] == i)\n",
    "        for candidate in candidates:\n",
    "            print(\"Model with rank: {0}\".format(i))\n",
    "            print(\"Mean validation score: {0:.3f} (std: {1:.3f})\"\n",
    "                  .format(results['mean_test_score'][candidate],\n",
    "                          results['std_test_score'][candidate]))\n",
    "            print(\"Parameters: {0}\".format(results['params'][candidate]))\n",
    "            print(\"\")\n",
    "            "
   ]
  },
  {
   "cell_type": "code",
   "execution_count": 304,
   "metadata": {},
   "outputs": [
    {
     "name": "stdout",
     "output_type": "stream",
     "text": [
      "Fitting 4 folds for each of 10 candidates, totalling 40 fits\n"
     ]
    },
    {
     "name": "stderr",
     "output_type": "stream",
     "text": [
      "[Parallel(n_jobs=2)]: Using backend LokyBackend with 2 concurrent workers.\n",
      "[Parallel(n_jobs=2)]: Done  40 out of  40 | elapsed:  3.7min finished\n"
     ]
    },
    {
     "name": "stdout",
     "output_type": "stream",
     "text": [
      "Model with rank: 1\n",
      "Mean validation score: 0.719 (std: 0.002)\n",
      "Parameters: {'subsample': 0.9, 'reg_lambda': 1.4, 'reg_alpha': 0.5, 'random_state': 42, 'objective': 'binary', 'num_leaves': 8, 'n_estimators': 500, 'learning_rate': 0.01, 'colsample_bytree': 0.66, 'boosting_type': 'gbdt'}\n",
      "\n",
      "Model with rank: 2\n",
      "Mean validation score: 0.713 (std: 0.001)\n",
      "Parameters: {'subsample': 0.7, 'reg_lambda': 1, 'reg_alpha': 1, 'random_state': 42, 'objective': 'binary', 'num_leaves': 12, 'n_estimators': 1000, 'learning_rate': 0.005, 'colsample_bytree': 0.65, 'boosting_type': 'gbdt'}\n",
      "\n",
      "Model with rank: 3\n",
      "Mean validation score: 0.706 (std: 0.000)\n",
      "Parameters: {'subsample': 0.2, 'reg_lambda': 1.4, 'reg_alpha': 1, 'random_state': 42, 'objective': 'binary', 'num_leaves': 8, 'n_estimators': 1500, 'learning_rate': 0.005, 'colsample_bytree': 0.66, 'boosting_type': 'gbdt'}\n",
      "\n",
      "\n",
      " Best params:\n",
      " {'subsample': 0.9, 'reg_lambda': 1.4, 'reg_alpha': 0.5, 'random_state': 42, 'objective': 'binary', 'num_leaves': 8, 'n_estimators': 500, 'learning_rate': 0.01, 'colsample_bytree': 0.66, 'boosting_type': 'gbdt'}\n"
     ]
    }
   ],
   "source": [
    "# https://www.kaggle.com/garethjns/microsoft-lightgbm-with-parameter-tuning-0-823\n",
    "\n",
    "params = {'boosting_type': 'gbdt',\n",
    "          'max_depth' : -1,\n",
    "          'objective': 'binary',\n",
    "          'nthread': 3, # Updated from nthread\n",
    "          'num_leaves': 64,\n",
    "          'learning_rate': 0.05,\n",
    "          'max_bin': 512,\n",
    "          'subsample_for_bin': 200,\n",
    "          'subsample': 1,\n",
    "          'subsample_freq': 1,\n",
    "          'colsample_bytree': 0.8,\n",
    "          'reg_alpha': 5,\n",
    "          'reg_lambda': 10,\n",
    "          'min_split_gain': 0.5,\n",
    "          'min_child_weight': 1,\n",
    "          'min_child_samples': 5,\n",
    "          'scale_pos_weight': 1,\n",
    "          'num_class' : 1,\n",
    "          'metric' : 'binary_error'}\n",
    "\n",
    "\n",
    "gridParams = {\n",
    "    'learning_rate': [0.005, 0.01, 0.1],\n",
    "    'n_estimators': [40, 100, 500, 1000, 1500, 2000],\n",
    "    'num_leaves': [6, 8, 12, 16],\n",
    "    'boosting_type' : ['gbdt'],\n",
    "    'objective' : ['binary'],\n",
    "    'random_state' : [42], # Updated from 'seed'\n",
    "    'colsample_bytree' : [0.65, 0.66],\n",
    "    'subsample' : [0.2, 0.7, 0.9],\n",
    "    'reg_alpha' : [0.5, 1, 1.2],\n",
    "    'reg_lambda' : [0.5, 1, 1.2, 1.4],\n",
    "    }\n",
    "\n",
    "mdl = lgbm.LGBMClassifier(boosting_type= 'gbdt',\n",
    "                          objective = 'binary',\n",
    "                          is_unbalance = True,\n",
    "                          #metric = 'binary_logloss',\n",
    "                          metric = 'auc',\n",
    "                          n_jobs = 3, \n",
    "                          silent = True,\n",
    "                          max_depth = params['max_depth'],\n",
    "                          max_bin = params['max_bin'],\n",
    "                          subsample_for_bin = params['subsample_for_bin'],\n",
    "                          subsample = params['subsample'],\n",
    "                          subsample_freq = params['subsample_freq'],\n",
    "                          min_split_gain = params['min_split_gain'],\n",
    "                          min_child_weight = params['min_child_weight'],\n",
    "                          min_child_samples = params['min_child_samples'],\n",
    "                          scale_pos_weight = params['scale_pos_weight'],\n",
    "                        )\n",
    "\n",
    "mdl.get_params().keys()\n",
    "\n",
    "model_lgb_randomcv = RandomizedSearchCV(mdl, \n",
    "                                        gridParams,\n",
    "                                        verbose=1,\n",
    "                                        cv=4,\n",
    "                                        n_jobs=2,)\n",
    "\n",
    "model_lgb_randomcv.fit(X_train, y_train)\n",
    "\n",
    "report(model_lgb_randomcv.cv_results_)\n",
    "\n",
    "print(\"\\n Best params:\\n\", model_lgb_randomcv.best_params_)\n",
    "   \n"
   ]
  },
  {
   "cell_type": "code",
   "execution_count": 305,
   "metadata": {},
   "outputs": [
    {
     "name": "stdout",
     "output_type": "stream",
     "text": [
      "              precision    recall  f1-score   support\n",
      "\n",
      "           0       0.72      0.24      0.36     10338\n",
      "           1       0.79      0.97      0.87     30784\n",
      "\n",
      "    accuracy                           0.79     41122\n",
      "   macro avg       0.76      0.60      0.61     41122\n",
      "weighted avg       0.77      0.79      0.74     41122\n",
      "\n"
     ]
    }
   ],
   "source": [
    "y_pred_lgb_randomcv = model_lgb_randomcv.predict(X_test)\n",
    "\n",
    "y_pred_prob_lgb_randomcv = model_lgb_randomcv.predict_proba(X_test)\n",
    "\n",
    "report_lgb_randomcv = classification_report(y_test, y_pred_lgb_randomcv)\n",
    "\n",
    "print(report_lgb)\n"
   ]
  },
  {
   "cell_type": "code",
   "execution_count": 306,
   "metadata": {},
   "outputs": [
    {
     "name": "stdout",
     "output_type": "stream",
     "text": [
      "Average precision-recall score: 0.864\n",
      "Thresholds\n",
      "[0.08859908 0.09211975 0.09212419 ... 0.81095242 0.81290856 0.81700016]\n"
     ]
    },
    {
     "data": {
      "image/png": "[encoded data removed]",
      "text/plain": [
       "<Figure size 432x288 with 1 Axes>"
      ]
     },
     "metadata": {},
     "output_type": "display_data"
    }
   ],
   "source": [
    "plot_precision_recall_curve(y_test, y_pred_prob_lgb_randomcv[:,-1], 'LightGBM (RandomCV)')\n"
   ]
  },
  {
   "cell_type": "code",
   "execution_count": 307,
   "metadata": {},
   "outputs": [
    {
     "data": {
      "image/png": "[encoded data removed]",
      "text/plain": [
       "<Figure size 576x576 with 1 Axes>"
      ]
     },
     "metadata": {},
     "output_type": "display_data"
    }
   ],
   "source": [
    "plot_roc_curve(y_test, y_pred_prob_lgb_randomcv[:,-1], 'LightGBM (RandomCV)')\n"
   ]
  },
  {
   "cell_type": "code",
   "execution_count": null,
   "metadata": {},
   "outputs": [],
   "source": []
  },
  {
   "cell_type": "code",
   "execution_count": null,
   "metadata": {},
   "outputs": [],
   "source": []
  },
  {
   "cell_type": "code",
   "execution_count": null,
   "metadata": {},
   "outputs": [],
   "source": []
  },
  {
   "cell_type": "markdown",
   "metadata": {},
   "source": [
    "### Stacking"
   ]
  },
  {
   "cell_type": "code",
   "execution_count": 266,
   "metadata": {},
   "outputs": [],
   "source": [
    "\n",
    "y_pred_prob_stack = 0.7*y_pred_prob_lgb + 0.3*y_pred_prob_rf\n"
   ]
  },
  {
   "cell_type": "code",
   "execution_count": 267,
   "metadata": {},
   "outputs": [
    {
     "name": "stdout",
     "output_type": "stream",
     "text": [
      "Average precision-recall score: 0.866\n",
      "Thresholds\n",
      "[0.00225594 0.00225634 0.00225786 ... 0.9760981  0.98046481 0.98058577]\n"
     ]
    },
    {
     "data": {
      "image/png": "[encoded data removed]",
      "text/plain": [
       "<Figure size 432x288 with 1 Axes>"
      ]
     },
     "metadata": {},
     "output_type": "display_data"
    }
   ],
   "source": [
    "plot_precision_recall_curve(y_test, y_pred_prob_stack[:,-1], 'Stacking (LightGBM, RandomForest)')\n"
   ]
  },
  {
   "cell_type": "code",
   "execution_count": 268,
   "metadata": {},
   "outputs": [
    {
     "data": {
      "image/png": "[encoded data removed]",
      "text/plain": [
       "<Figure size 576x576 with 1 Axes>"
      ]
     },
     "metadata": {},
     "output_type": "display_data"
    }
   ],
   "source": [
    "plot_roc_curve(y_test, y_pred_prob_stack[:,-1], 'Stacking (LightGBM, RandomForest)')\n"
   ]
  },
  {
   "cell_type": "code",
   "execution_count": null,
   "metadata": {},
   "outputs": [],
   "source": []
  },
  {
   "cell_type": "code",
   "execution_count": null,
   "metadata": {},
   "outputs": [],
   "source": []
  },
  {
   "cell_type": "code",
   "execution_count": null,
   "metadata": {},
   "outputs": [],
   "source": []
  },
  {
   "cell_type": "markdown",
   "metadata": {},
   "source": [
    "### SMOTE\n",
    "\n",
    "\n",
    "**Reference**\n",
    "\n",
    "https://machinelearningmastery.com/smote-oversampling-for-imbalanced-classification/\n"
   ]
  },
  {
   "cell_type": "code",
   "execution_count": 269,
   "metadata": {},
   "outputs": [],
   "source": [
    "oversample = SMOTE()\n",
    "X_resampled, y_resampled = oversample.fit_resample(X_train.values, y_train.values)\n",
    "#X_train, X_test, y_train, y_test = train_test_split(X_resampled, y_resampled, random_state=42, test_size=0.2)\n"
   ]
  },
  {
   "cell_type": "code",
   "execution_count": null,
   "metadata": {},
   "outputs": [],
   "source": []
  },
  {
   "cell_type": "code",
   "execution_count": 273,
   "metadata": {},
   "outputs": [
    {
     "name": "stdout",
     "output_type": "stream",
     "text": [
      "              precision    recall  f1-score   support\n",
      "\n",
      "           0       0.76      0.19      0.30     10338\n",
      "           1       0.78      0.98      0.87     30784\n",
      "\n",
      "    accuracy                           0.78     41122\n",
      "   macro avg       0.77      0.58      0.58     41122\n",
      "weighted avg       0.78      0.78      0.73     41122\n",
      "\n"
     ]
    }
   ],
   "source": [
    "model_lgb_smote = lgbm.LGBMClassifier()\n",
    "\n",
    "model_lgb_smote.fit(X_resampled, y_resampled)\n",
    "\n",
    "y_pred_lgb_smote = model_lgb_smote.predict(X_test)\n",
    "\n",
    "y_pred_prob_lgb_smote = model_lgb_smote.predict_proba(X_test)\n",
    "\n",
    "report_lgb_smote = classification_report(y_test, y_pred_lgb_smote)\n",
    "print(report_lgb_smote)\n"
   ]
  },
  {
   "cell_type": "code",
   "execution_count": 272,
   "metadata": {},
   "outputs": [
    {
     "data": {
      "text/plain": [
       "array([0.55986523, 0.90579261, 0.90716481])"
      ]
     },
     "execution_count": 272,
     "metadata": {},
     "output_type": "execute_result"
    }
   ],
   "source": [
    "cross_val_score(model_lgb_smote, X_resampled, y_resampled, scoring='f1_macro', n_jobs=-1, cv=3)\n"
   ]
  },
  {
   "cell_type": "code",
   "execution_count": 274,
   "metadata": {},
   "outputs": [
    {
     "name": "stdout",
     "output_type": "stream",
     "text": [
      "Average precision-recall score: 0.853\n",
      "Thresholds\n",
      "[0.00198898 0.00202909 0.00203377 ... 0.95630765 0.9568256  0.95964983]\n"
     ]
    },
    {
     "data": {
      "image/png": "[encoded data removed]",
      "text/plain": [
       "<Figure size 432x288 with 1 Axes>"
      ]
     },
     "metadata": {},
     "output_type": "display_data"
    }
   ],
   "source": [
    "plot_precision_recall_curve(y_test, y_pred_prob_lgb_smote[:,-1], 'LightGBM (SMOTE)')\n"
   ]
  },
  {
   "cell_type": "code",
   "execution_count": 275,
   "metadata": {},
   "outputs": [
    {
     "data": {
      "image/png": "[encoded data removed]",
      "text/plain": [
       "<Figure size 576x576 with 1 Axes>"
      ]
     },
     "metadata": {},
     "output_type": "display_data"
    }
   ],
   "source": [
    "plot_roc_curve(y_test, y_pred_prob_lgb_smote[:,-1], 'LightGBM (SMOTE)')\n"
   ]
  },
  {
   "cell_type": "code",
   "execution_count": null,
   "metadata": {},
   "outputs": [],
   "source": []
  },
  {
   "cell_type": "code",
   "execution_count": null,
   "metadata": {},
   "outputs": [],
   "source": []
  },
  {
   "cell_type": "markdown",
   "metadata": {},
   "source": [
    "### SHAP feature analysis\n",
    "\n",
    "\n",
    "**Reference**\n",
    "\n",
    "https://github.com/slundberg/shap\n",
    "\n",
    "\n",
    "https://github.com/slundberg/shap/issues/367\n",
    "\n"
   ]
  },
  {
   "cell_type": "code",
   "execution_count": 276,
   "metadata": {},
   "outputs": [
    {
     "data": {
      "image/png": "[encoded data removed]",
      "text/plain": [
       "<Figure size 576x367.2 with 1 Axes>"
      ]
     },
     "metadata": {},
     "output_type": "display_data"
    }
   ],
   "source": [
    "explainer = shap.TreeExplainer(model_lgb)\n",
    "\n",
    "shap_values = explainer.shap_values(X_train)\n",
    "\n",
    "shap.summary_plot(shap_values, X_train)\n",
    "\n"
   ]
  },
  {
   "cell_type": "code",
   "execution_count": 283,
   "metadata": {},
   "outputs": [
    {
     "data": {
      "image/png": "[encoded data removed]",
      "text/plain": [
       "<Figure size 576x367.2 with 2 Axes>"
      ]
     },
     "metadata": {},
     "output_type": "display_data"
    }
   ],
   "source": [
    "shap.summary_plot(shap_values[0], X_train)\n"
   ]
  },
  {
   "cell_type": "code",
   "execution_count": 284,
   "metadata": {},
   "outputs": [
    {
     "data": {
      "image/png": "[encoded data removed]",
      "text/plain": [
       "<Figure size 576x367.2 with 2 Axes>"
      ]
     },
     "metadata": {},
     "output_type": "display_data"
    }
   ],
   "source": [
    "shap.summary_plot(shap_values[1], X_train)\n"
   ]
  },
  {
   "cell_type": "code",
   "execution_count": null,
   "metadata": {},
   "outputs": [],
   "source": []
  },
  {
   "cell_type": "code",
   "execution_count": null,
   "metadata": {},
   "outputs": [],
   "source": []
  },
  {
   "cell_type": "code",
   "execution_count": null,
   "metadata": {},
   "outputs": [],
   "source": []
  },
  {
   "cell_type": "code",
   "execution_count": null,
   "metadata": {},
   "outputs": [],
   "source": []
  },
  {
   "cell_type": "markdown",
   "metadata": {},
   "source": [
    "# System Design\n"
   ]
  },
  {
   "cell_type": "code",
   "execution_count": null,
   "metadata": {},
   "outputs": [],
   "source": []
  },
  {
   "cell_type": "code",
   "execution_count": null,
   "metadata": {},
   "outputs": [],
   "source": []
  },
  {
   "cell_type": "code",
   "execution_count": null,
   "metadata": {},
   "outputs": [],
   "source": []
  },
  {
   "cell_type": "code",
   "execution_count": null,
   "metadata": {},
   "outputs": [],
   "source": []
  },
  {
   "cell_type": "code",
   "execution_count": null,
   "metadata": {},
   "outputs": [],
   "source": []
  },
  {
   "cell_type": "code",
   "execution_count": null,
   "metadata": {},
   "outputs": [],
   "source": []
  },
  {
   "cell_type": "code",
   "execution_count": null,
   "metadata": {},
   "outputs": [],
   "source": []
  },
  {
   "cell_type": "code",
   "execution_count": null,
   "metadata": {},
   "outputs": [],
   "source": []
  },
  {
   "cell_type": "markdown",
   "metadata": {},
   "source": [
    "# Conclusion"
   ]
  },
  {
   "cell_type": "code",
   "execution_count": null,
   "metadata": {},
   "outputs": [],
   "source": []
  },
  {
   "cell_type": "code",
   "execution_count": null,
   "metadata": {},
   "outputs": [],
   "source": []
  },
  {
   "cell_type": "code",
   "execution_count": null,
   "metadata": {},
   "outputs": [],
   "source": []
  }
 ],
 "metadata": {
  "kernelspec": {
   "display_name": "Python 3",
   "language": "python",
   "name": "python3"
  },
  "language_info": {
   "codemirror_mode": {
    "name": "ipython",
    "version": 3
   },
   "file_extension": ".py",
   "mimetype": "text/x-python",
   "name": "python",
   "nbconvert_exporter": "python",
   "pygments_lexer": "ipython3",
   "version": "3.7.6"
  },
  "toc": {
   "base_numbering": 1,
   "nav_menu": {},
   "number_sections": true,
   "sideBar": true,
   "skip_h1_title": false,
   "title_cell": "Table of Contents",
   "title_sidebar": "Contents",
   "toc_cell": true,
   "toc_position": {},
   "toc_section_display": true,
   "toc_window_display": false
  }
 },
 "nbformat": 4,
 "nbformat_minor": 2
}
